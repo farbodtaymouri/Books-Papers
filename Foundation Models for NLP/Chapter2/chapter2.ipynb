{
  "cells": [
    {
      "cell_type": "markdown",
      "metadata": {
        "id": "92x5e2JKb3VC"
      },
      "source": [
        "### Span detection using BERT\n",
        "It is kind of extractive summerization in Q/A systems"
      ]
    },
    {
      "cell_type": "code",
      "execution_count": null,
      "metadata": {
        "id": "xEcd-PWyb3VG"
      },
      "outputs": [],
      "source": [
        "pip install transformers torch\n"
      ]
    },
    {
      "cell_type": "code",
      "execution_count": null,
      "metadata": {
        "id": "wUEWbg2vb3VI"
      },
      "outputs": [],
      "source": [
        "# Using Bert for span detection task. Note that, we use special model of large BERT for QA\n",
        "from transformers import BertTokenizer, BertForQuestionAnswering\n",
        "import torch\n",
        "\n",
        "# Load pre-trained BERT model and tokenizer for question answering\n",
        "model_name = \"bert-large-uncased-whole-word-masking-finetuned-squad\"\n",
        "model = BertForQuestionAnswering.from_pretrained(model_name)\n",
        "tokenizer = BertTokenizer.from_pretrained(model_name)"
      ]
    },
    {
      "cell_type": "code",
      "execution_count": null,
      "metadata": {
        "id": "44LKWW_zb3VJ",
        "outputId": "56c84295-6f02-4cfc-c825-8be7d0376856"
      },
      "outputs": [
        {
          "data": {
            "text/plain": [
              "{'input_ids': tensor([[  101,  2040,  2626, 12390,  1998, 13707,  1029,   102, 12390,  1998,\n",
              "         13707,  2003,  1037, 10576,  2517,  2011,  2520,  8101,  2220,  1999,\n",
              "          2010,  2476,  2055,  2048,  2402,  2732,  1011,  4625, 10205,  1012,\n",
              "           102]]), 'token_type_ids': tensor([[0, 0, 0, 0, 0, 0, 0, 0, 1, 1, 1, 1, 1, 1, 1, 1, 1, 1, 1, 1, 1, 1, 1, 1,\n",
              "         1, 1, 1, 1, 1, 1, 1]]), 'attention_mask': tensor([[1, 1, 1, 1, 1, 1, 1, 1, 1, 1, 1, 1, 1, 1, 1, 1, 1, 1, 1, 1, 1, 1, 1, 1,\n",
              "         1, 1, 1, 1, 1, 1, 1]])}"
            ]
          },
          "execution_count": 4,
          "metadata": {},
          "output_type": "execute_result"
        }
      ],
      "source": [
        "# Define the question and the context\n",
        "question = \"Who wrote Romeo and Juliet?\"\n",
        "context = \"Romeo and Juliet is a tragedy written by William Shakespeare early in his career about two young star-crossed lovers.\"\n",
        "\n",
        "# Tokenize the input, add special tokens ([CLS] and [SEP]), and convert to tensor\n",
        "inputs = tokenizer.encode_plus(question, context, add_special_tokens=True, return_tensors=\"pt\")\n",
        "input_ids = inputs[\"input_ids\"]\n",
        "inputs"
      ]
    },
    {
      "cell_type": "code",
      "execution_count": null,
      "metadata": {
        "id": "uqkAuApHb3VK",
        "outputId": "d718a9f9-9205-4fb0-e1b4-4383f6108eeb"
      },
      "outputs": [
        {
          "name": "stdout",
          "output_type": "stream",
          "text": [
            "The probabilities for start are: tensor([[-6.3058, -5.7577, -6.7796, -3.3953, -8.1165, -6.3404, -8.4627, -6.3057,\n",
            "          0.1943, -5.3829, -3.9351, -5.0365, -3.2273, -2.6362, -1.4974, -2.2578,\n",
            "          7.5604,  3.0763, -4.2326, -6.6545, -3.2653, -4.8068, -7.0875, -6.4545,\n",
            "         -6.8650, -6.7581, -7.6815, -7.6125, -5.6213, -6.3056, -6.3057]])\n",
            "The strat index is: tensor(16)\n"
          ]
        }
      ],
      "source": [
        "# Get the predicted start and end positions\n",
        "with torch.no_grad():\n",
        "    res = model(input_ids)\n",
        "\n",
        "start_pos = torch.argmax(res.start_logits)\n",
        "end_pos = torch.argmax(res.end_logits)\n",
        "\n",
        "print(\"The probabilities for start are:\", res.start_logits)\n",
        "print(\"The strat index is:\", start_pos)\n"
      ]
    },
    {
      "cell_type": "code",
      "execution_count": null,
      "metadata": {
        "id": "ZElaG8Q9b3VK",
        "outputId": "81766cad-2bf6-4090-a0d1-0d7770c933c6"
      },
      "outputs": [
        {
          "name": "stdout",
          "output_type": "stream",
          "text": [
            "william shakespeare\n"
          ]
        }
      ],
      "source": [
        "# Inference\n",
        "# Convert the token IDs back to tokens and join to get the answer\n",
        "answer = tokenizer.convert_tokens_to_string(tokenizer.convert_ids_to_tokens(input_ids[0][start_pos:end_pos+1]))\n",
        "print(answer)"
      ]
    },
    {
      "cell_type": "code",
      "execution_count": null,
      "metadata": {
        "id": "8tUT-Jsob3VL",
        "outputId": "b5a74cfc-4aea-4316-c20a-0d9697513592"
      },
      "outputs": [
        {
          "name": "stdout",
          "output_type": "stream",
          "text": [
            "consumer services\n"
          ]
        }
      ],
      "source": [
        "# Another Example\n",
        "\n",
        "\n",
        "\n",
        "question = 'what services does Coles provied?'\n",
        "\n",
        "context = \"Coles Supermarkets Australia Pty Ltd, trading as Coles, is an Australian supermarket, retail and consumer services chain,\\\n",
        "             headquartered in Melbourne as part of the Coles Group. Founded in 1914 in Collingwood by George Coles, Coles operates 846[3] \\\n",
        "             supermarkets throughout Australia, including several now re-branded Bi-Lo Supermarkets. Coles has over 120,000 employees[3][4]\\\n",
        "              and accounts for around 27 per cent of the Australian market.[5] Coles' large head office site in Melbourne's inner south-east \\\n",
        "              has 4,000 employees of the workforce located inside.\\\n",
        "                Coles Online is the company's online shopping ('click & collect' and home delivery) service.\\\n",
        "              Between 1986 and 2006, Coles Supermarkets was a brand of Coles Myer, later Coles Group, prior to Wesfarmers purchasing Coles \\\n",
        "              Group in 2007. It became a subsidiary of Coles Group again after Wesfarmers spun-off the business in November 2018.[6]\\\n",
        "              In 2020, Coles changed its slogan to 'Value the Australian way'\"\n",
        "\n",
        "# Tokenize the input, add special tokens ([CLS] and [SEP]), and convert to tensor\n",
        "inputs = tokenizer.encode_plus(question, context, add_special_tokens=True, return_tensors=\"pt\")\n",
        "input_ids = inputs[\"input_ids\"]\n",
        "\n",
        "\n",
        "# Get the predicted start and end positions\n",
        "with torch.no_grad():\n",
        "    res = model(input_ids)\n",
        "\n",
        "start_pos = torch.argmax(res.start_logits)\n",
        "end_pos = torch.argmax(res.end_logits)\n",
        "\n",
        "\n",
        "\n",
        "# Inference\n",
        "# Convert the token IDs back to tokens and join to get the answer\n",
        "answer = tokenizer.convert_tokens_to_string(tokenizer.convert_ids_to_tokens(input_ids[0][start_pos:end_pos+1]))\n",
        "print(answer)\n"
      ]
    },
    {
      "cell_type": "markdown",
      "metadata": {
        "id": "VPe1TOO-b3VM"
      },
      "source": [
        "### Abstractive Summerization for QA"
      ]
    },
    {
      "cell_type": "code",
      "execution_count": null,
      "metadata": {
        "id": "Rg356LJNb3VM"
      },
      "outputs": [],
      "source": [
        "pip install sentencepiece"
      ]
    },
    {
      "cell_type": "code",
      "execution_count": null,
      "metadata": {
        "id": "RW88CF5Sb3VN"
      },
      "outputs": [],
      "source": [
        "from transformers import T5Tokenizer, T5ForConditionalGeneration\n",
        "\n",
        "# Load the pre-trained T5 model and tokenizer\n",
        "model_name = \"t5-small\"\n",
        "model = T5ForConditionalGeneration.from_pretrained(model_name)\n",
        "tokenizer = T5Tokenizer.from_pretrained(model_name)"
      ]
    },
    {
      "cell_type": "code",
      "execution_count": null,
      "metadata": {
        "id": "aPXBwxnIb3VN",
        "outputId": "ae551727-90ad-46ed-c7c8-f8a9960a5f41"
      },
      "outputs": [
        {
          "name": "stdout",
          "output_type": "stream",
          "text": [
            "Question: what is Coles?\n",
            "Answer: an Australian supermarket, retail and consumer services chain\n",
            "\n",
            "Question: What does it do?\n",
            "Answer: operates 846[3] supermarkets throughout Australia\n",
            "\n",
            "Question: When it is established?\n",
            "Answer: 1914\n",
            "\n",
            "Question: Is Mayer mentioned in the cotext (Yes/NO)? \n",
            "Answer: yes\n",
            "\n",
            "Question: Summerize the context\n",
            "Answer: Coles Supermarkets Australia Pty Ltd, trading as Coles, is an Australian supermarket, retail and consumer services chain, headquartered in Melbourne\n",
            "\n"
          ]
        }
      ],
      "source": [
        "# Define the context and the question\n",
        "questions = ['what is Coles?',\n",
        "            'What does it do?',\n",
        "            'When it is established?',\n",
        "            'Is Mayer mentioned in the cotext (Yes/NO)? ',\n",
        "            'Summerize the context'\n",
        "]\n",
        "\n",
        "context = \"Coles Supermarkets Australia Pty Ltd, trading as Coles, is an Australian supermarket, retail and consumer services chain,\\\n",
        "             headquartered in Melbourne as part of the Coles Group. Founded in 1914 in Collingwood by George Coles, Coles operates 846[3] \\\n",
        "             supermarkets throughout Australia, including several now re-branded Bi-Lo Supermarkets. Coles has over 120,000 employees[3][4]\\\n",
        "              and accounts for around 27 per cent of the Australian market.[5] Coles' large head office site in Melbourne's inner south-east \\\n",
        "              has 4,000 employees of the workforce located inside.\\\n",
        "                Coles Online is the company's online shopping ('click & collect' and home delivery) service.\\\n",
        "              Between 1986 and 2006, Coles Supermarkets was a brand of Coles Myer, later Coles Group, prior to Wesfarmers purchasing Coles \\\n",
        "              Group in 2007. It became a subsidiary of Coles Group again after Wesfarmers spun-off the business in November 2018.[6]\\\n",
        "              In 2020, Coles changed its slogan to 'Value the Australian way'\"\n",
        "\n",
        "\n",
        "# Format the input string: The convention for T5 is to prepend \"question: [your question] context: [your context]\" It is like prompting\n",
        "for question in questions:\n",
        "  input_str = f\"question: {question} context: {context}\"\n",
        "  inputs = tokenizer.encode(input_str, return_tensors=\"pt\", max_length=512, truncation=True)\n",
        "\n",
        "  answer_ids = model.generate(inputs, max_length=500, num_beams=4, early_stopping=True)\n",
        "  # print(answer_ids)\n",
        "\n",
        "  # Decode and print the answer\n",
        "  answer = tokenizer.decode(answer_ids[0], skip_special_tokens=True)\n",
        "  print(f\"Question: {question}\\nAnswer: {answer}\\n\")"
      ]
    },
    {
      "cell_type": "markdown",
      "source": [
        "## Text Generation Sampling Strategies\n",
        " * top-k\n",
        " * top_p\n",
        " * Beam search"
      ],
      "metadata": {
        "id": "R43fA471cMoI"
      }
    },
    {
      "cell_type": "code",
      "source": [
        "# Top-p sample and top-k sampling methods\n",
        "# Note that the beam search strategy, i.e., num_beams, can not be used with top-k or top-p sampling methods.\n",
        "\n",
        "# Define the context and the question\n",
        "questions = ['what is Coles?',\n",
        "            'What does it do?',\n",
        "            'When it is established?',\n",
        "            'Is Mayer mentioned in the cotext (Yes/NO)? ',\n",
        "            'Summerize the context'\n",
        "]\n",
        "\n",
        "context = \"Coles Supermarkets Australia Pty Ltd, trading as Coles, is an Australian supermarket, retail and consumer services chain,\\\n",
        "             headquartered in Melbourne as part of the Coles Group. Founded in 1914 in Collingwood by George Coles, Coles operates 846[3] \\\n",
        "             supermarkets throughout Australia, including several now re-branded Bi-Lo Supermarkets. Coles has over 120,000 employees[3][4]\\\n",
        "              and accounts for around 27 per cent of the Australian market.[5] Coles' large head office site in Melbourne's inner south-east \\\n",
        "              has 4,000 employees of the workforce located inside.\\\n",
        "                Coles Online is the company's online shopping ('click & collect' and home delivery) service.\\\n",
        "              Between 1986 and 2006, Coles Supermarkets was a brand of Coles Myer, later Coles Group, prior to Wesfarmers purchasing Coles \\\n",
        "              Group in 2007. It became a subsidiary of Coles Group again after Wesfarmers spun-off the business in November 2018.[6]\\\n",
        "              In 2020, Coles changed its slogan to 'Value the Australian way'\"\n",
        "\n",
        "\n",
        "# Format the input string: The convention for T5 is to prepend \"question: [your question] context: [your context]\" It is like prompting\n",
        "for question in questions:\n",
        "  input_str = f\"question: {question} context: {context}\"\n",
        "  inputs = tokenizer.encode(input_str, return_tensors=\"pt\", max_length=512, truncation=True)\n",
        "\n",
        "  answer_ids = model.generate(inputs,\n",
        "                              # top_p=0.19,  # Adjust the top-p value as needed\n",
        "                              do_sample = True,\n",
        "                              top_k = 100,  # the large the more randomness\n",
        "                              max_length=500,\n",
        "                              # num_beams=4,\n",
        "                              # early_stopping=True\n",
        "                              )\n",
        "  # print(answer_ids)\n",
        "\n",
        "  # Decode and print the answer\n",
        "  answer = tokenizer.decode(answer_ids[0], skip_special_tokens=True)\n",
        "  print(f\"Question: {question}\\nAnswer: {answer}\\n\")"
      ],
      "metadata": {
        "colab": {
          "base_uri": "https://localhost:8080/"
        },
        "id": "24SFgf7_cS2O",
        "outputId": "1bc79c32-553c-4683-8866-262658f8953b"
      },
      "execution_count": 15,
      "outputs": [
        {
          "output_type": "stream",
          "name": "stdout",
          "text": [
            "Question: what is Coles?\n",
            "Answer: an Australian supermarket, retail and consumer services chain\n",
            "\n",
            "Question: What does it do?\n",
            "Answer: operates 846[3] supermarkets throughout Australia\n",
            "\n",
            "Question: When it is established?\n",
            "Answer: 1914\n",
            "\n",
            "Question: Is Mayer mentioned in the cotext (Yes/NO)? \n",
            "Answer: Coles Myer\n",
            "\n",
            "Question: Summerize the context\n",
            "Answer: Coles Supermarkets Australia Pty Ltd, trading as Coles, is an Australian supermarket, retail and consumer services chain, headquartered in Melbourne as part of the Coles Group\n",
            "\n"
          ]
        }
      ]
    },
    {
      "cell_type": "markdown",
      "source": [
        "# Fine Tuning T5 model\n",
        "### Reading PDF files to text"
      ],
      "metadata": {
        "id": "rqAjCWicm8AN"
      }
    },
    {
      "cell_type": "code",
      "source": [
        "pip install PyPDF2 transformers"
      ],
      "metadata": {
        "id": "35bJXedzm_kA"
      },
      "execution_count": null,
      "outputs": []
    },
    {
      "cell_type": "code",
      "source": [
        "import PyPDF2\n",
        "from transformers import T5Tokenizer, T5ForConditionalGeneration, TrainingArguments, Trainer\n",
        "\n",
        "# 1. Extract text from PDF\n",
        "def extract_text_from_pdf(pdf_path: str):\n",
        "  total_text =''\n",
        "  reader = PyPDF2.PdfReader(pdf_path)\n",
        "  number_of_pages = len(reader.pages)\n",
        "\n",
        "  for page_num in range(number_of_pages):\n",
        "    page = reader.pages[page_num]\n",
        "    text = page.extract_text()\n",
        "    total_text+=text\n",
        "\n",
        "  return total_text\n",
        "\n",
        "pdf_path = '/content/AA Academy_Master Pack_Guests.pdf'\n",
        "text = extract_text_from_pdf(pdf_path)\n",
        "\n",
        "\n",
        "text"
      ],
      "metadata": {
        "colab": {
          "base_uri": "https://localhost:8080/",
          "height": 110
        },
        "id": "QgDb0RBtnpBo",
        "outputId": "1ef84536-83cd-4a78-aeed-07955e8ef4f7"
      },
      "execution_count": 3,
      "outputs": [
        {
          "output_type": "execute_result",
          "data": {
            "text/plain": [
              "'Creating smarter business and  customer \\nexperiences together!AA\\nAcademy\\nReady for \\nreview\\nSilvio Giorgio\\nGeneral Manager\\nData & IntelligenceDay 1Ready for \\nreview\\n       Time Topic Session / sub -topic Speaker\\n9:00 –9:10am Welcome Welcome and kick -off Silvio Giorgio, GM Data and Intelligence\\n9:10 –9:30am Keynote speaker Understanding our existing and next generation shoppers; their mindset, motivations, needs and expectations. Wendy Stops, Coles Board member\\n9:30 –9:50am Our strategic vision How are we aligned with corporate planning and how are we supporting the Coles -wide strategy? The Coles value chain and AA’s \\ninvolvement and investment in it; enhancements, opportunities, and priorities over the coming 2+ years.Sam Riethmuller, Head of Advanced Analytics\\n9:50 –10:00am Benefits How is AA driving value back out to the business and our customers? Sam Riethmuller, Head of Advanced Analytics\\n10:00 –10:45am Machine learning A quick guide to machine learning, modelling and all things analytics. Noah Xiao, Principal Data Science Architect\\n10:45 –11:00am Breaktime\\n11:00 –11:40am Forecasting\\nCurrent and future capabilitySmarter Forecast and the One Forecast approach at Coles. Learn how our key capability is helping us realise a shared vision a cross various \\nuse cases (Future Store Inventory, Liquor, Coles Express, AA Labour, Scoring as a Service).Alok Joshi, Engagement Lead (OneOps)\\nSovann Tong, Data Science Lead (Forecasting)\\n11:40 –12:00pm Range and space\\nCurrent and future capabilityStore Specific Ranging and Range Optimiser. How we’re transforming the customer experience using data science. Danielle Sorensen, Engagement Lead (Merch and Coles Express)\\n12:00 –12:30pm Pricing and promotions\\nCurrent and future capabilityPromo Manager and Promo App. Learn how we’re helping to realise the Coles vision across various use cases (AA Pricing, Dynami c \\nMarkdowns and Smarter Clearance).Danielle Sorensen, Engagement Lead (Merch and Coles Express)\\nSarah Wynton, Data Science Lead (VIPER)\\n12:30 –1:00pm Personalisation\\nCurrent and future capabilityLearn about personalisation, its role at Coles and how the AA Caife team manages it. Tom Phillips, Engagement Lead (Liquor, eCommerce, Marketing, and \\nCorporate)\\n1:00 –1:30pm Lunchtime\\n1:30 –1:45pm The future of Advanced Analytics Realising our vision; building a broader program roadmap and harnessing Smarter Forecast to deliver optimal value across the end-to-end \\nvalue chain.Sam Riethmuller, Head of Advanced Analytics\\n1:45 –2:30pm Sustainability “Together to Zero” at Coles; what are we aiming for.\\nAdvanced Analytics and our sustainability journey.Kirsty Davis, GM Sustainability & Property Services\\nTom Phillips, Engagement Lead (Liquor, eCommerce, Marketing, \\nCorporate)\\nGroup activity\\nWhat more can we do to reach our sustainability targets?Johan Lequien, Senior Change Manager\\n2:30 –3:00pm Our product delivery framework The Coles and Advanced Analytics framework; how and why it works best. Elham Hajibandeh, AA Program Delivery Manager\\n3:00 –3:15pm Breaktime\\n3:15 –4:15pm The future of Coles Group activity\\nDiscussion around business roadmaps and priorities over coming 2 years. What big problems does Coles need to solve for? How c an \\nAdvanced Analytics support our strategic objectives?Johan Lequien , Senior Change Manager\\nNicole Lock, FIT Manifesto to C -Suite\\nMichael Kirch & Jeremy Scrivens\\n4:15 –4:45pm Ways of working Group activity\\nHow can AA and the business optimise how we work together to build trust, efficiencies and outcomes.Johan Lequien, Senior Change Manager\\n4:45 –5:00pm Wrap up Feedback, suggestions and next steps Sam Riethmuller, Head of Advanced Analytics\\n5pm onwards Social drinksDay 1 agendaJohn Cox\\nChief Technology OfficeDay 2Ready for \\nreview\\n       Time Topic Session / sub -topic Speaker\\n9:00 –9:10am Welcome Welcome and kick -off John Cox, Chief Technology Officer\\n9:10 –9:30am Keynote speaker Understanding our existing and next generation shoppers; their mindset, motivations, needs and expectations. Wendy Stops, Coles Board member\\n9:30 –10:00am Our strategic vision How are we aligned with corporate planning and how are we supporting the Coles -wide strategy? The Coles value chain and AA’s \\ninvolvement and investment in it; enhancements, opportunities, and priorities over the coming 2+ years.Sam Riethmuller, Head of Advanced Analytics\\n10:00 –10:15am Benefits How is AA driving value back out to the business and our customers? Sam Riethmuller, Head of Advanced Analytics\\n10:15 –10:30am Breaktime\\n10:30 –11:30am Machine learning A quick guide to machine learning, modelling and all things analytics. Noah Xiao, Principal Data Science Architect\\nGroup activity Johan Lequien, Senior Change Manager\\n11:30 –12:15pm Data Engineering Why do we care about data and data engineering? How do we work with it and business process? Avoiding downstream impacts thro ugh\\nupfront planning and design. What does Data engineering involve and what makes data engineering hard?Pooja Bhat, Data Science Lead (CAiFE)\\n12:15 –12:45pm Lunchtime\\n12:45am –1:15pm Forecasting\\nCurrent & future capabilitySmarter Forecast and the One Forecast approach at Coles. Learn how our key capability is helping us realise a shared vision a cross various \\nuse cases (Future Store Inventory, Liquor, Coles Express, AA Labour, Scoring as a Service).Alok Joshi, Engagement Lead (OneOps)\\nSovann Tong, Data Science Lead (Forecasting)\\n1:15 –1:45pm Range & space\\nCurrent & future capabilityStore Specific Ranging and Range Optimiser. How we’re transforming the customer experience using data science. Danielle Sorensen, Engagement Lead (Merch and Coles Express)\\nMichelle Lugton, Stream Lead (ACME)\\n1:45 –2:15pm Pricing & promotions\\nCurrent & future capabilityPromo Manager and Promo App. Learn how we’re helping to realise the Coles vision across various use cases (AA Pricing, Dynami c \\nMarkdowns and Smarter Clearance).Danielle Sorensen, Engagement Lead (Merch and Coles Express)\\nSarah Wynton, Stream Lead (VIPER)\\n2:15 –2:45pm Personalisation\\nCurrent & future capabilityLearn about personalisation, its role at Coles and how the AA Café team manages it. Tom Phillips, Engagement Lead (Liquor, eCommerce, Marketing, and \\nCorporate)\\n2:45 –3:15pm Solving big problems at Coles Group activity\\nWhat big problems does Coles need to solve for? How can Advanced Analytics support our strategic objectives?Johan Lequien, Senior Change Manager\\nNicole Lock, FIT Manifesto to C -Suite\\n3:15 –3:30pm Breaktime\\n3:30 –4:10pm Our product delivery framework The Coles and Advanced Analytics framework (product delivery and prioritization).\\nHow it works, alignment with Agile, and why our it’s the most effective approach for Coles.Elham Hajibandeh, AA Program Delivery Manager\\nAlok Joshi, Engagement Lead (OneOps)\\n4:10 –4:25pm AA’s ways of working What are the key touch points for the business and why? The role of change management in uplifting confidence and capability. Johan Lequien, Senior Change Manager\\nElham Hajibandeh, AA Program Delivery Manager\\nJeremy Scrivens, FIT Model to Operations Managers\\n4:25 –4:45pm Ways of working Group activity\\nHow can AA and the business optimise how we work together to build trust, efficiencies and outcomes.Johan Lequien, Senior Change Manager\\nElham Hajibandeh, AA Program Delivery Manager\\n4:45 –5:00pm Wrap up Feedback, suggestions and next steps Sam Riethmuller, Head of Advanced Analytics\\n5pm onwards Social drinksDay 2 agendaWendy Stops\\nColes Board memberUnderstanding our existing and next generation \\nshoppers; their mindset, motivations, needs and \\nexpectations.Keynote speaker\\nSam Riethmuller \\nHead of Advanced AnalyticsStrategic \\nvisionReady for \\nreview\\nThe story so far:\\n• In FY16 we delivered some \\nquick wins that established the \\nteam within Coles\\n• In FY17 we built the core team \\nwe have today, and began \\nsetting ourselves up + delivered \\nkey projects\\n• In FY18 we delivered some \\nmajor wins that cemented the \\nteam within Coles\\n•Ranging, Pricing and \\npromotions, Store processes \\nand operations, Supply \\nChain, Targeted \\ncommunications\\n• In FY19 -20we focused on \\nfeeding into key operational \\nprocesses across many key \\nparts of the value chain\\n• In FY21 -23we will expand our \\nremit to touch on all parts of the \\nvalue chain\\nYWS Challenger\\n Supplier triggers\\n Segmentations\\nPromo App\\n Auto Catalogue \\n Smarter Forecasts\\nACO loss analytics\\n Dynamic Markdowns\\n Weather DF  to RDF\\nLapsing models\\n YWS in house\\n 1:1 trade driving\\n Fresh Specials\\nCEXP REM\\n Production Planning\\n Dolphin\\nAvailability / Lost Sales\\n Clearance P2\\n School Hols to RDF\\n Bakery EO\\nRange Optimiser\\n RR PIR\\n Smart Markdowns\\n Future Store Inventory \\nRecommenders\\n VFF Measurement\\n Clearance P1\\n Tailored Ranging\\nAA Package \\n aaDemand\\n EDP\\nModel Store\\n Scalable Model Store\\n Ragemaker\\n… With a growing team to build out the capability … \\n3 15 30 50 90+\\nFY16 FY17 FY18 FY19 FY20 FY21\\nPlatform\\n Retail\\n Customer\\nFresh EO\\nLabour\\nHistory of AA at ColesAdvanced Analytics Vision at Coles\\nAA vision for Coles\\nColes will be the most scientific and optimised retailer in the \\nworld, with data scientific applications driving all key elements of \\nthe retail value chain\\nOur Mission\\nTo drive effective data -driven decision -making in Coles through the \\napplication of statistics, machine learning, predictive modelling and \\noptimisation algorithms , to solve business problems and provide \\nactionable and measurable outcomes.Our focus\\nTo achieve our vision, we focus on 7 key areas…\\n▪Build and retain amazing talent\\n▪Advanced Analytics cloud platform Enabling the team\\n Working on the right things\\n▪Prioritising and Delivering High value\\ninitiatives\\n▪Build products that enable competitive \\nadvantage\\n▪Data centric to decision centric\\nEnabling Coles\\n▪Coles wide organisation capability uplift \\n▪Partner effectively\\nDrive optimal network and \\nmerchandising decisions\\nInitiatives:\\n▪ Range + Space \\nOptimisation\\n▪ NPD selection\\n▪ Range Tailoring\\n▪ Space Optimisation\\n▪ Price Optimisation\\n▪ Promo / Trade Planning\\n▪ Network planning\\n▪ Format selection\\n▪ COGs optimisation\\n▪ Demand Forecast\\n▪ Corporate Driver \\nplanningDrive optimal supplier \\nrelationships to ensure \\nquality, cost -effectiveness \\nand sustainable sourcing\\nInitiatives:\\n▪ Supplier evaluation and \\noptimisation\\n▪ Supplier segmentation\\n▪ Deal Funding \\noptimisation\\n▪ Delivery Risk forecastOptimise E2E supply chain \\nand stock flows across DCs, \\ntransport and the SC to \\ndeliver better availability\\nInitiatives:\\n▪ Unicorn\\n▪ Safety stock \\noptimisation\\n▪ Store order plan\\n▪ Supplier orders\\n▪ DC forecast / order plan\\n▪ Point A to B \\noptimisation\\n▪ DC optimisation\\n▪ Transport plan\\n▪ Truck routingOptimise \\noperational processes to \\nensure product availability \\nwhile reducing cost\\nInitiatives:\\n▪ Inventory Optimisation\\n▪ Guided stock tasks\\n▪ Markdown optimisation\\n▪ SoC allocation\\n▪ Production planning\\n▪ Optimised Labour \\nplanning\\n▪ Life\\n▪ Stock Loss reduction\\n▪ Energy efficiencyDrive optimal supplier \\nrelationships to ensure \\nquality, cost -effectiveness \\nand sustainable sourcing\\nInitiatives:\\n▪ Recommender systems\\n▪ Target mktg / \\nAcquisition / retention / \\nCLV\\n▪ 1:1 Trade Driving\\n▪ Online personalisation \\n▪ Marketing effectivenessEnsure we have the team \\nmembers and technology \\navailable to service \\ncustomers\\nInitiatives:\\n▪ Service optimisation\\n▪ Dynamic service\\n▪ POS optimisation\\n▪ Targeted in -store offersAdvanced Analytics is driving value across the full retail value chain\\nDeep Understanding of Customer behaviour \\nPowered by a word class demand Forecast\\nEnabled by AA engineering\\nPG14|  16/03/2022\\nSmarter Forecasting\\nSovann Tong\\nForecasting \\nWorld class \\nforecasting system to \\nenable AA and the \\nCore of ColesRanging and Formats \\nMichelle Lugton \\nThe Categories\\nAutomated Category \\nManagement and \\nEnablement including \\ntailored ranging and \\nCOGs optimisationCustomer and \\nPersonalisation\\nPooja Bhat\\nThe Customer\\nRecommendation \\nengines / ML and \\ncore data assets to \\nbetter understand \\nand engage with \\ncustomersOperations Research\\nSach Karunaratne \\nThe Stores\\nML + Optimisation \\nalgorithms in stores \\nto drive cost out, \\nbetter service, \\navailability + \\ninventory \\nmanagement.Engagement\\nAlok Joshi, Tom Phillips, Danielle Sorensen, Manjula Shaw\\nBusiness engagement to manage the funnel of new work\\nCommand Centre\\nDavid Fraser\\nThe Centre\\nTransforms \\ncentralised systems \\nincl. replen system \\nand enables E2E \\noptimisation of \\nsupply chain, labour \\nplanning etc\\nData Science Streams\\nValue and Pricing\\nSarah Wynton\\nValue\\nImplementation of \\npricing optimisation \\nprojects incl \\nClearance, EDLP, \\nBase, Promo etc \\nEngineering + MLOps\\nSangeeth\\nThe Engine\\nEnable greater DS \\nproductivity through \\nplatforms and \\nproducts + Support \\nAA Products in \\nProductionDelivery\\nElham Hajibandeh\\nDelivery Governance + Support AA to priorotise and deliver high \\nvalue products and initiativesArchitecture\\nSumith Matharage, Noah Xiao, David Sun\\nOverall technical guidance and governance for AA\\nSam Riethmuller\\nHead of Advanced Analytics\\nLeading a high -performing team of scientists and technologistsOur people\\nPlan Buy Move Operate SellDeep Understanding of \\nCustomer behaviour Powered by a word class \\ndemand ForecastEnabled by AA \\nengineeringOur most important assetsEnabling\\nour people\\n1\\n6AA’s centre of excellence\\nBusiness empowerment and enablement\\nWe’re constantly evolving AA’s in -house expertise through:\\n•Graduate program\\n•AA and industry conferences\\n•Online courses (via Coursera, Tech Academy)\\n•Guided training (science/tech, products and ‘soft skills’)\\n•Professional development conversations and pathways\\n•Comprehensive technical learning resources and one -stop shop. \\nThe AA change and engagement team is helping to build the trust, confidence and \\ncapability of Coles business leaders and users, through a variety of initiatives and tools:\\n•Events (AA Academy)\\n•Regular cadence (Unicorn Café, leadership updates, showcases)\\n•Demos, hackathons, monthly challenges, reward recognition programs (coming soon)\\n•One-stop information hubs (Unicorn website)(AA website coming soon)\\n•Resource -rich learning hub and support network (coming soon)\\n•Change impact assessments and release support (learning, adoption and continuous \\nimprovement)Sam Riethmuller \\nHead of Advanced AnalyticsBenefits\\nPG18|  16/03/2022\\nPLANNING & DECISIONS A WORD CLASS FORECAST EFFICIENT OPERATIONS\\nBIG ROCKS FOR FY22 ENABLED BY AA ENGINEERINGENGAGING CUSTOMERSInvestment in Advanced Analytics drove over $70.7m EBIT value in FY21 \\nColes will be the most scientific and \\noptimised retailer in the world, with \\ndata scientific applications driving all \\nkey elements of the retail value chain…AND WE WILL CONTINUE TO PURSUE\\nOUR VISION FOR AA @ COLES… ▪STORE SPECIFIC RANGING ROLLOUT\\n▪AUTOMATED PRICING\\n▪DOLPHIN FRESH PRODUCE + COL\\n▪OCADO  & B2B FORECAST\\n▪FPEO ROLLOUT\\n▪LABOUR FORECAST ROLLOUT + REM OPTIMISATION\\n▪FILL ALERTS + INVENTORY FORECAST ROLLOUT\\n▪PRODUCTION PLANNING FOR BAKERY AND DELI\\n▪OPTIMISED SHELF LIFE\\nDolphin\\nOptimised promo \\nplanning$8.4m \\n\\uf0e9Margin1\\nPromo App\\nOptimised promotional \\nanalysis$32.6 m \\n\\uf0e9sales uplift2\\nRange Optimiser\\ndriving automated ranging decisions$43.0 m \\n\\uf0e9margin uplift2\\nSmarter Clearance\\ndriving optimised pricing to clear stock in \\nstores and DCs$9.6m \\n\\uf0eaMarkdown costs1Smarter Forecasts \\nOne Forecast for Coles\\n5%\\n\\uf0e9Accuracy$4m \\n\\uf0eaWaste$44m \\n\\uf0eaLost sales\\n13.4 m \\n\\uf0e9EBIT1Dynamic markdowns \\noptimal prices to clear Short of Code items$13.2 m \\n\\uf0eaMarkdown costs1\\nProduction Planning\\nDriving BBQ chicken cooking in stores$2.4m \\n\\uf0eaLost sales5Labour Forecast\\nSF flowing into Kronos to reduce store effort$0.3m \\n\\uf0eaREM4\\n▪ENABLED 12+ KEY INITIATIVES IN FY21\\n▪EXTENDED FRESH PRODUCE FORECAST\\n▪EXTENDED TO SUPPORT CEXPPersonalised Weekly Specials\\nWeekly and fresh specials tailored to \\nindividual customers and targeted through \\nflybuys\\n$97.8 m \\n\\uf0e9Sales Uplift6$\\n▪COL ACQUISITION MODEL AND \\nPREFERRED SUBSTITUTES IN TRIAL\\n▪50+ CUSTOMER SEGMENTATION MODELS \\nUSED ACROSS THE BUSINESS▪FILL ALERTS IN PILOT (FSI)\\n▪COVID -19 SUPPORT \\n▪LABOUR SERCIVE TRIAL COMMENCED\\n▪BAKERY PRODUCTION PLANNING TRIAL \\nSUCCESSFUL++\\n+\\n▪ENABLED MACHINE LEARNING ON CLOUD\\n▪CORE FEATURE STORES MIGRATED TO AZURE\\n▪ENABLED SMARTER FORECAST E2E ON \\nAZURE \\n▪REDUCED SF MODEL RUNTIME FROM \\n>4DAYS TO <3HRS)\\n▪OVER 80,000 JOBS IN PRODUCTION\\nNotes1CAC PIR processes with designed trials and validated by FBPs 2 based on category trials and \\ncompliance with recommendations 3based on 4 trial layouts vs control 4estimated time saving in \\nSSC during Covid -19 from FBPs 5based on initial rollout measurement and compliance 6 using target \\nvs control for weekly flybuys campaign 6based on pre model on -prem vs azure▪TAILORED RANGING TRIAL \\nDEMONSTRATING 3.3% SALES UPLIFT3+QuestionsNoah Xiao\\nPrincipal Data Science ArchitectMachine learning\\nMachine learning at Coles by Advanced Analytics\\nArtificial intelligence, machine learning, deep learning…?!What do all these terms I’m hearing mean?\\nArtificial intelligence \\nIs the broader concept that, as technology \\nevolves, systems will be able to be “smart” \\nand eclipse human -decision making. The \\nconcept has existed since mythology.Machine learning\\nIs a subset of artificial intelligence that \\nfocuses on algorithms which can learn, \\nwithout being explicitly programmed, to \\nsolve specific problems. This is the current \\n“art of the possible” for artificial \\nintelligence. The Advanced Analytics team \\nat Coles focuses on applying data science \\nto build machine learning models.Deep learning\\nIs a subset of machine learning which looks \\nat building artificial neural networks –e.g. \\nto recognise different types of fresh \\nproduce in a video stream. At Coles, the \\nDisruptive Tech team builds and tests these \\ncutting -edge technologies to research what \\nColes could adopt to be a technology -led \\nretailer.\\nMachine learning \\nvs\\nTraditional computer \\nprogramsTraditional computer programs are \\nbased on explicit instructions :\\ne.g. “Given a restaurant booking ,\\n•Number of people in booking = 3; and\\n•Requested highchair = TRUEIf\\n•label the customer as a\\nfamily with young child”Then\\nMachine learning algorithm get rid of such explicit instructions. \\nInstead, they learn the patterns and makes the optimal decisions \\nthemselves\\nSolution Information Based Decision Assistance Automated Decisioning\\nApproachWe build a predictive model that enables \\nbetter insight into the businessWe build a predictive model and/or an optimisation \\nalgorithm that provides recommendations or forecasts to \\nthe business (which may or may not be followed –but we \\ntrack)We build a predictive model and an optimisation \\nalgorithm that integrate directly into systems to \\nmake decisions without human intervention\\nTM RoleTeam Members use the information to \\ndraw insights and make decisionsTeam Members review the recommendation and make the \\nfinal decisionTeam Members can intervene where necessary and \\ncan steer the algorithm by tweaking the constraints \\nor objective, but the algorithms make the granular \\ndecisions\\nExample▪Availability / Lost sales\\n▪Product substitution \\n▪Lifestage  / other segmentations▪Range Optimiser\\n▪Promo App\\n▪Rem Tool▪Smarter Forecast\\n▪Dynamic Markdowns\\n▪Smarter Clearance\\nDelivery \\nMechanism▪BI reports / BIW\\n▪Coles Synergy \\n▪Presentations▪Web Applications (Shiny)\\n▪Integration into another system (e.g. Promo Manager)▪Outbound interfaces\\n▪APIsThere are many ways that machine learning \\ncan be delivered to create valueTypes of models in Advanced Analytics at Coles\\nSupervised Learning –predictive models based on a target variable\\nDolphin\\nA key step in the overall ambition to step change the \\neffectiveness and robustness of Coles’ trade planning\\nDolphin is systematising the entire promotional planning \\nprocess by providing category teams a dedicated, flexible \\nplanning space within Promo Manager taking a cycled plan as \\nthe base.\\nSmarter Forecast is used to provide category teams with:\\n• Integrated AA forecasting at at SKU, bundle and category \\nlevel, and at a rolled up week/ category promo level\\n• BRAGG promo recommendations in the planning \\nenvironment, scoring promotions based on incremental \\nsales & margin to ensure category teams are cycling high \\nvalue promotions\\n• Future: Live, real time forecasting in the planning grid, \\nenabling what -if analysis and more sophisticated insights \\non promo performance and the impact of promotional \\ntactics\\nSmarter Forecast (Unicorn)\\nExpected benefit of $67m EBIT over 5 years, plus:\\nImproved availability\\nImproved sales/margin\\nReduced WMD / Stock loss\\nLess in -store effort\\nReduced REM DCs / SSC / Stores\\nImproved supplier relationships\\nReduce back -stock / work cap / logistics \\ncosts\\nImproved customer experience\\nImproved customer value\\nClearer metrics and reporting\\nImproved trade planning \\nDemand forecasting model that captures the impact of price, promotions, space, events, weather etc. to \\ngive an accurate and rich forward -looking view of sales and business performance \\n• >4% accuracy compared to existing 3rdparty solutions\\n• Architected to extend and improve over time through iterative development and continuous delivery\\n• Multiple interfaces to expose to different systems and to utilise for different use -cases\\nEBIT: ~$15m p.a Rolled out April -July 2020Supervised Learning –Smarter Forecast overview\\nPromotions / Pricing Promotional HistoryCatalogue/Ends\\nSubstitutions/Complements\\nCustomer Profiles\\nSeasonality and events\\nStore/product informationModel 1\\nModel 2+\\nx\\n+\\nx\\nLearn from errorsMany Machine Learning \\nAlgorithms ensembled together \\n✓~200  demand drivers incorporated and ‘000s \\nfeatures of engineered features tested\\n✓Rich and evolving feature store\\n✓Scalable data storage for > 4.5yrs\\n✓Ongoing focus on Data QualityData\\n✓Over 300 model configurations utilising > 20 ML \\nalgorithms to capture unique customer demand patterns\\n✓Automated model selection and evolution\\n✓Robust validation to ensure stability and generalisabilityMachine Learning\\n✓Proven applications across Merch and Operations\\n✓Single forecast to align the business\\n✓Accessible in real -time for what -if and simulationApplications\\nTypes of models in Advanced Analytics at Coles\\nTypes of AA models\\nUnsupervised/Semi -Supervised Learning –Given no/partial target data, model finds patterns\\nYour Weekly Specials (YWS)\\nRecommends specials in upcoming week that would interest the customer based on \\ntheir previous purchases. \\nHighlights promotion products customers have purchased before\\n•Uplift in customers returning to Coles\\n•Uplift in promotional sales and new product sales\\n•Personal interactions with customers.\\nMachine Learning enables us to recommend more relevant  specials and provide \\nmore uplift to Coles.Customer Decision Tree (CDT)\\nUsed to group products based on customer purchasing behaviour and decision -\\nmaking within categories as opposed to product grouping. \\nE.g. In some categories customers shop by \\n•Brand\\n•quality \\n•cost. \\nThis information can be used when making range and space decisions such as:\\n•Ensuring that when deleting products from the range, customers still have choices \\nwithin each decision grouping\\n•CDTs can be used to assist space planers in determining how products should be \\nplaced on shelves\\nFood Shopper Segments YWSUnsupervised/Semi -Supervised LearningTypes of models in Advanced Analytics at Coles\\nSmarter Clearance Dynamic MarkdownsOptimisation –making optimal operational decisions to achieve an objectiveTypes of models in Advanced Analytics at Coles\\nA smarter, automated clearance process to \\nmanage deleted range\\nWhen we update our range for a store, we have to \\nclear deleted items at discounted prices –which \\nhas historically left gaps on shelves. Smarter \\nClearance uses SF to set individual clearance \\nprices per item/store so that stock finishes \\nclearing right when we are ready to bring in a new \\nrange to delight our customers, and to protect \\nover $10m of margin per annum.\\nSF is also used to automatically identify when we \\nshould stop replenishment of an item being \\ncleared to each store, and when we should stop \\nreplenishing our DCs from suppliers –in order to \\nmaximise margin and minimise gaps on shelves.\\n0w -7w -13w -26+wRange decisions \\nfinalised\\nCurrent 2 \\nweek \\nregrade \\nperiod‘Imp start’Layouts \\ncompleteRange Review \\nBeginsLayout released, \\nstock arrives\\nColes Relay -Layout Implementation2w\\n0w -7w -13w -26+wRange decisions \\nfinalisedLayouts \\ncompleteRange Review \\nBegins\\nColes Relay -Layout Implementation\\n13 -12 -11 -10 -9 -8 -7 -6 -5 -4 -3 -2 -1 0 1No residual stock on hand (SOH)\\n=  clean implementation of new \\nlayout13 -12 -11 -10 -9 -8 -7 -6 -5 -4 -3 -2 -1 0 1 2 3 4 5 6 7 8 9 10As-Is To-BeLayout released, \\nstock arrives & \\n‘Imp start’\\nSOHResidual stock on hand (SOH) for up \\nto ~17w after implementationSOH\\nAutomated, intelligent clearance pricesManual, spreadsheet driven clearance/promos\\nOptimised prices for short -of-code items with dynamic \\nprices based on store/item level price elasticity and real -\\ntime SOH counts / due dates from Simpler Tools\\n• Using cloud services that listens to markdown \\nrequests and responds with an optimum markdown \\nprice.\\n• Leverage Smarter Forecast to obtain demand for \\nshort -of-code items at different prices, which is then \\nused by an optimisation algorithm to derive the \\noptimum markdown percentage.\\n• A Coles first to expose an analytical model, in real \\ntime, to Simpler Tools devices operated by store team \\nmembers. \\n• This solution established the pattern for future \\nprojects servicing real time analytics to stores.\\nSupported with a Dynamic Markdowns Portal application, \\nwhich allows:\\n▪ Control of markdown static percentages\\n▪ Enabling/Disabling of markdown services at multiple \\nlevels of granularity including ITEM/STORE.\\n▪ The ability to deploy Trials and view trial statistics.\\n▪ The ability to monitor Dynamic Markdown model \\nperformance metrics .\\nTypes of models in Advanced Analytics at Coles\\nOptimisation –aaPricing engine\\nDemand = F(promo, range, price, …)\\nObjective \\nConfigurationBusiness Rules \\nConfigurationOptimisation LibraryMachine Learning Algorithms\\nPromotions / Pricing Promotional HistoryCatalogue/Ends\\nSubstitutions/Complements\\nCustomer Profiles\\nSeasonality and events\\nStore/product informationModel 1\\nModel 2\\nRanging OptimisationPromo OptimisationWhat -if Simulation\\nPricing Optimisation-Sales\\n-5thMargin\\n-Mkdn cost\\n-Etc.-Price >= Cost -Deal\\n-Next Price <= Previous Price\\n-Markdown in [10%, 90%]\\n-Etc.Max\\nMax\\nMin-Genetic Algorithm\\n-Integer Programming\\n-Linear Programming\\n-Etc.Set objectives to achieve\\nthe optimal outcomeAdd constraints to tailor the \\nsolutionLeverage best in class optimisation\\nalgorithmsSimulation \\nEngineQuantifiable relationships between demand\\nand a range of factors, e.g. promo, price\\nWhat -if simulation millions times \\nautomatically\\nPrice Elasticity Dynamic pricingStore specific rangingPromo tactics simulation Price elasticity simulation\\nMacro spacePromo effectiveness Promo calendarKey capabilities and applicationsOutput\\nRecommendations\\nRPMIntegration\\nCKB RMS\\nPromo \\nManager\\nClearance \\nManager\\nRO\\nSimpler Tool\\nPromo App\\n CEXP Whatif\\nApp\\nBIW\\nEDP\\nSmarter Forecast aaPricingaaCM\\nWIP\\nWIP\\nDeep dives –a one -off \\ninformational investigation to \\ninform strategyTypes of models \\nin Advanced \\nAnalytics at Coles\\nColes Express’s use conversion as a key business performance measure and \\nwanted to better understand what drives and influences it so that the conversion \\nrate could be increased\\nA better understanding of the conversion drivers will allow the CEXP business to \\nincrease conversion rates and as a result increase revenue and margin as well.\\nA time boxed deep dive analysis and modelling activity was conducted to identify \\nthe drivers of conversion.\\nHypothesis focus areas of the analysis were:\\n•Performance analysis\\n•Analysis by category\\n•Analysis by Site Attributes\\n•Analysis by Promotional Effectiveness\\n•Analysis by customer baseDeep dive current network performance\\n•Utilising data provided by the business (equipment, store type, product type)\\n•Profiling the store types in terms of geographical location and customer \\nprofiles\\n•Profiling the customers purchasing product types\\n•Examining the performance of different store types in relation to potential \\nsales and profit\\nApplying heuristics to determine potential network\\n•Hub criteria provided by business\\n•Performance in terms of sales & trading profit\\n•Customer loyalty\\n•Current asset value\\nForecasting changes in profit due to changes in network\\n•Hub and spoke impact evaluated\\n•Reduction of type (i.e., Scratch to Parbake ) estimated using like storesThere are many considerations to get \\nto a world -class model\\nWhat data is going into the model and how can we get more out of \\nthe data we have?\\n•How much history, what is the quality of the data...\\n•What features, Feature Engineering, ….\\nArchitecture\\nHow to break down the problem, what level/s to model at, \\nhow many objects to model at once, ...\\n•Which algorithms, how do the algorithms fit together, how \\nto tackle errors, ...\\n•How to validate, how to test, how to sense check, ...Engineering\\n•Cost to run, compute, storage, response \\ntime, ...\\nHow will the model be exposed?\\n•Batch feed into systems, API, Application, \\nReporting, PPT, ...\\nMachine learning \\n(a subset of AI) \\nIs the process of taking past experiences (Data) \\n→learning and summarising the patterns and \\nrelationships (Training) →inferring for future \\n(Inferencing/Scoring/Predicting)Summary\\nSupervised learning\\nThere is a target variable for you to find the \\nrelationship withUnsupervised learning\\nNo target variable, you need to find \\nrelationships and patterns among your data\\nSemi -supervised learning\\nThere is a target variable, but not many data \\npoints have its value, you need to learn in a way \\nto handle thisOptimisation\\nThere is an objective (not target variable), you \\nwill need to maximise/minimise it by optimising \\nother variablesDeep dive\\nConduct analysis to find insights in data\\nImportant to know Quality, Quality, QualityData plays a big part in \\nmachine learning\\nMisrepresented future\\nThe future data is sparser than historical data in terms, \\ndue to lack of promotion planning entries, the model \\npredicts we would have less sales in the futureMisrepresented history\\nCoke was sold at $1 on clearance but the model thought it \\nwas $2.5 because the data provided excluded the \\nclearance prices\\nTo learn > To judgeTrials only make model \\nbetter\\nLearnings only make model \\nperform betterA failed trial shouldn’t get \\noverly judged for go/no -go \\ndecisionsEarly versions of models can \\nbe tested on subsets of \\ncustomers/stores/products \\nbefore a full rolloutTrials are the golden \\nopportunities for the models \\nto test in and adapt to the \\nreal-world environment\\nThere is a lot of critical work that goes unseen behind \\na robust modelMaking a model \\nproduction -ready takes \\neffort\\nLiterature \\nreview\\nResearch to \\nensure world -class \\nsolutioningArchitecture design\\nMap out the solutions\\nContinuously update and \\nimproveRigorous \\ndefence \\nprocess\\nAcademic -like defence \\nwith the whole teamValidation \\nand testing\\nCheck every scenario, \\nmaking sure output \\nqualityData engineering and \\nperformance tuning\\nHigh quality data needs \\nto be available with low \\nlatency to make up -to-\\ndate predictionsBenefits realisation\\nBuilding and measuring \\nthe \\n(trial and ongoing) \\nperformance of models\\nThere are many drivers that can reduce \\nperformance (and the realised benefit) from models \\nif not supported over timeMachine Learning model \\nperformance is not static over \\ntime\\n•Models, especially those dependant on human behaviour, are \\nparticularly vulnerable to degradation over time\\n•Concept drift refers to the phenomenon in which the statistical \\nproperties of the target variable we’re trying to predict change over \\ntime in unforeseen ways –e.g. from COVID impacts, introduction of \\nRed Value Ring, removal of catalogue distribution\\n•Regular training of the model can help to counter this, along with \\nmore thorough feature engineering and rework as requiredFeature \\nengineering / \\nreworkModel \\nretrainingLost potentialQuestionsPooja Bhat\\nStream Lead , CAiFEData Engineering\\nIntroduction to \\nData \\nEngineeringWhat does Data Engineering \\nteam do?\\nLoad, transform , manage and optimize data assets \\nand pipelines centrally for use by Data scientists.\\nIn addition, data features are built and serviced as a \\n‘Feature Stores ’, which is a collections of features \\nthat can be consumed by a machine learning model.Why do we care about the \\ndata?\\nFeature engineering is the most critical aspect of \\nworking with the raw data and preparing it for use \\nby a machine learning algorithm. Certain features \\nhave a much higher level of impact on a solution to \\na problem. A well optimized machine learning \\nalgorithm needs to use high quality features. \\nWhat makes it hard? Scale, \\nAvailability, Accessibility, \\nQuality, PerformanceWhat does feature engineering \\ninvolve? \\n• Integration with source systems\\n• Loading of data in data platform\\n• Exploration \\n• Cleaning\\n• Imputation \\n• Transformation\\nSome of the important considerations for effective data engineering are:\\n•Do we have the data we need? \\n•What is the quality of the data? Is it clean? Does it have gaps?\\n•Is it updated manually or automated through a system? \\n•Do we have access to this data? Is this PII data? \\n•Is it batch data (Periodic) or stream data (Real time)\\n•What features could have the highest impact on the model?\\n•How much history do we have for training? \\n•How much future data for scoring? \\n•How much time could we allow for running the data engineering pipeline?Key considerations for \\nData Engineering\\nMisrepresented future\\nThe future data is sparser than historical data in \\nterms, due to lack of promotion planning \\nentries, the model predicts we would have less \\nsales in the futureMisrepresented history\\nCoke was sold at $1 on clearance but the \\nmodel thought it was $2.5 because the data \\nprovided excluded the clearance prices\\nHuman errors\\nCoke is planned to be the on front page of a \\ncatalogue, but due to keying issue, the model \\ndoes not know it will be in catalogueExamples:\\nMissing Data\\nMissing SSC store trading hours, resulted in no \\nforecast prediction for the store\\nFeature stores are a core part of the Advanced \\nAnalytics landscapeFeature Store Engineering \\nenables scalability across \\nvarious use cases\\nBenefits of Feature Stores Engineering\\n•Single core asset, placed centrally that can be used across various \\nuse-cases\\n•Provides flexibility to add, update and govern features strategically\\n•Enables the ability to scale up to meet required SLAs using cloud \\nservices\\n•Enables rapid implementation of features and ability to create \\nblue/green versions of featuresExisting use cases\\nFeature stores are implemented at daily and intra -day \\nlevel for different use cases\\n•Supermarkets (B&M and Coles Online)\\n•CEXP\\n•Customer \\n•Liquor (in progress)Promotions / Pricing Promotional HistoryCatalogue/Ends\\nSubstitutions/Complements\\nCustomer Profiles\\nSeasonality and events\\nStore/product informationModel 1\\nModel 2+\\nx\\n+\\nx\\nLearn from errorsMany Machine Learning \\nAlgorithms ensembled together Data Machine Learning Applications\\n•Features at Item, Location, Day granularity\\n•~200  demand drivers incorporated and ‘000s \\nfeatures of engineered features tested\\n•Rich and evolving feature store\\n•Scalable data storage for > 5 yrsFeature Store \\nEngineering is \\na core input to \\nMachine \\nLearning ModelsOBJECTIVE : \\nForecast how many units of \\nSmith’s Barbecue chips we \\nwill sell tomorrow at Coles \\nBurwood StoreExample 1\\n• Price \\n• Ranging (on supply)\\n• Promo (EDV, Down Down)\\n• Past Sales \\n• Catalogue/Ends\\n• Clearance\\n• Events\\n• Store trading hours\\n• Weather\\n• Position\\n• CapacityWhat might be some of the \\nfeatures that will help \\nforecast this?\\nOBJECTIVE : \\nWhich offer is most likely to \\nentice Customer X to shop \\nat Coles next week?Example 2\\n• Demographic information \\n• Transaction information like earliest and latest purchase date\\n• Amount spent\\n• Frequency\\n• Inter purchase interval\\n• What categories of items does this customer consistently buy?\\n• How frequently does this shopper buy a particular item, or items in this \\nBCM category?\\n• Has the customer bought similar items in recent times?\\n• How many times have they shopped in the last 1 week?\\n• How many times have they shopped in the last 6 months?\\n• How many times have they shopped item in the last year?\\n• Customer’s lifestage , affluence, promo sensitivity segmentWe analyse customer past shopping \\nbehaviour and build features that will help us \\nunderstand our customer\\nQuestions15 minutesBreak time\\nDanielle Sorensen \\nEngagement Lead, Merch and Coles ExpressSnapshot of our \\ncapability\\nReady for \\nreview\\nAMANDA\\nPG51|  16/03/2022\\nAlok Joshi\\nEngagement Lead, OneOps\\nSovann Tong\\nStream Lead, Smarter ForecastForecasting \\nReady for \\nreview\\nALOK/SOVANN\\nWED 2 March\\nColes is aligned around a single , accurate , customer -driven omnichannel \\nforecast , that drives data -ledcommercial decisions and operational optimisation.Supermarkets, Express, \\nLiquorA best -in-class, machine \\nlearning product\\nMaximising availability, \\nwhile reducing waste\\nOver 1500 data points \\nfrom 50+ systemsCatering for a unified \\nexperienceSmarter Forecast vision\\nAt the Farm (Beginner)\\nStill growing my knowledge!\\n•I know of it (and it sounds amazing!)\\n•My team team don\\'t use it directly\\n•What\\'s machine learning?At a Store (Intermediate)\\nIn my basket already!\\n•I / my team use it, but I don\\'t know what \\nelse it\\'s used for\\n•I may know some of its capability beyond \\nmy patch\\n•I know enough to help supportOn the Fork (Advanced)\\nEating and recommend \\nthe recipe!\\n•I / my team use it\\n•I know the other use cases and initiatives it \\nenables\\n•I have knowledge of how it works so I can \\nchampion the forecastFrom farm to fork\\nHow well do you know Smarter Forecast?\\nPG55|  16/03/2022\\nBenefits enabled through a strategic alignment\\nDolphin\\nOptimised promo \\nplanning$8.4 m \\n\\uf0e9Margin1\\nPromo App\\nOptimised promotional \\nanalysis$32.6 m \\n\\uf0e9sales uplift2\\nRange Optimiser\\ndriving automated ranging decisions$43.0 m \\n\\uf0e9margin uplift2\\nSmarter Clearance\\ndriving optimised pricing to clear stock in stores \\nand DCs$9.6 m \\n\\uf0eaMarkdown costs1Smarter Forecasts \\nOne Forecast for Coles\\n5%\\n\\uf0e9Accuracy$4m \\n\\uf0eaWaste$44 m \\n\\uf0eaLost sales13.4 m \\n\\uf0e9EBIT1Dynamic markdowns \\noptimal prices to clear Short of Code items$13.2 m \\n\\uf0eaMarkdown costs1\\nProduction Planning\\nDriving BBQ chicken cooking in stores$2.4 m \\n\\uf0eaLost sales5Labour Forecast\\nSF flowing into Kronos to reduce store effort$0.3 m \\n\\uf0eaREM4\\n▪ENABLED 12+ KEY INITIATIVES IN FY21\\n▪EXTENDED FRESH PRODUCE FORECAST\\n▪EXTENDED TO SUPPORT CEXP$\\n▪FILL ALERTS IN PILOT (FSI)\\n▪COVID -19 SUPPORT \\n▪LABOUR SERCIVE TRIAL COMMENCED\\n▪BAKERY PRODUCTION PLANNING TRIAL SUCCESSFUL+\\n+Smarter Forecast is \\ndriving significant \\nbenefits in our \\nbusiness\\nAn initiative that \\ntouches all our \\nstrategic pillars\\n▪A better prediction of our \\ncustomer’s wants and needs\\n▪A more proven way of tailoring our \\noffer\\n▪Supporting our growth in anytime, \\nanywhere shopping▪Machine -learning led efficiencies in \\nour stores and supply chain\\n▪Building an in -house capability to \\ncustomise our solution for \\ncompetitive advantage\\n▪A better, more scientific way to cope \\nwith the current level of uncertainty▪Enabling safer stores by using the \\nforecast to manage customer flow and \\nlimits\\n▪Partnership between Supply Chain and \\nAdvanced Analytics to drive innovating \\nthinking in replenishment\\n▪A world -class solution to keep our team \\nengaged and excited to deliverThe Story to date in 2022Smarter Forecast a Brief History\\nProductionised forecasts \\nfeeding into replenishment \\nsystem (RDF)Mid 2018\\nSmarter Forecast \\nprototype feeding into \\nPromo App.Early \\n2018\\nWinning accuracy vs. three \\nexternal vendors in Meat \\nTPC bakeoffApr\\n2020\\nFirst business trial\\n•4% better accuracy than \\nRDF\\n•Reduction loss sales\\n•Improved availabilityJun 2019\\nReplenishment adoption of \\nSmarter Forecast across \\n>90% grocery linesMay\\n2021\\nPhase 2 release of Fresh \\nProduce, New Item New \\nStoreOct\\n2020\\nFeeding into RELEX system \\nwith pilot for automated \\nFresh Produce Easy \\nOrdering (FPEO)Feb\\n2022\\nFeeding into Kronos system \\nwith first trial driving store \\nrosteringOct\\n2021\\nReady for \\n3rdparty \\ndesigner\\nWhat makes us \\nmarket -leading?Our secret \\nsauceReady for \\n3rdparty \\ndesigner\\nOur Data and Architecture \\nOur solutions are unique to Coles\\nModel evolving on Coles customer behaviour \\nModel features that set us apart \\nPride in forecast quality and accuracy \\nOur amazing talent\\nThe answer?Smarter Forecast \\nEngine\\nHigh -level subject \\nAreas\\nSales data\\nPromotions data\\nPricing data\\nCatalogue data\\nEvents data\\nWeather data50 + source systemsProduct Feature Store\\nProduct Future Store\\nGenerate Forecast Predictions (Scoring)\\nClearance \\nOptimisation\\nDynamic \\nMarkdowns\\nFuture Store \\nInventory\\nPromo \\nPlanningSmarter Forecast\\nReplenFeature Stores \\ncombine source \\ndata into a single \\nsource\\nEnables multiple \\nuse cases\\nReusable \\narchitecture\\nWe are ahead of \\nthe gameSmarter Forecast: high -level architecture\\n•Continuous improvement\\n•Proactive monitoring of results\\n•Thought leadership to develop \\ncutting edge modelsEvolving modelEvolve the \\nmodel\\nReview model\\nResults\\nPick \\nOutliersInvestigate \\nDriversEnsure data is \\ncorrectSmarter \\nForecast \\njust keeps\\ngetting smarterHigh Level Modelling PipelineHow The \\nModel Works\\nTakeaways:\\n•Quality of data and features are of \\nparamount importance for model \\naccuracy\\n•Multiple factors are considered at the \\nsame time through different learners \\nand algorithms , combining to produce \\na better overall outcomeEngineered features can be used in \\ndifferent parts of our model to help \\ncapture complex relationships\\nLearner 1\\nLearner 2\\nLearner 3\\nLearner 4Ensemble\\n1\\nEnsemble \\n2Post \\nProcessing\\nHoliday Features\\nPromotions Features\\nCatalogue Features\\nWeather Features\\nFinal \\nPrediction\\nLearner may capture the impact of price \\nelasticity on demandAn example ensemble can capture the \\nimpact of cannibalisation between item \\nlines\\nPride in forecast quality and accuracy\\nEnabled a forward looking hot \\ncross buns forecast.\\nChristmas 2021 was our strongest \\nperformance to date compared to \\ncurrent benchmarksUnsupervised detection method to \\nidentify resort store behaviour\\nMany more improvements to \\ncome.Our Amazing Smarter Forecast Talent\\nAlok Joshi\\nEngagement LeadSam Riethmuller\\nHead of Advanced AnalyticsSovann Tong\\nStream Lead\\nSumith Matharage\\nPrincipal Data Scientist\\nArion Barzoucas -Evans\\nComponent LeadTharindu Bandaragoda\\nTech LeadRashmika Nawaratne\\nComponent LeadNathaniel Tomasetti\\nComponent Lead\\nDavid Sun\\nSolution Architect\\n20 industry -leading data scientists, includingBut its not just the tech that got us \\nthere.. \\nIt was thinking Like a Data Scientist\\n•Failures to triumphs\\n•Moved not by blind conviction, but by self doubt\\n•Goal is not short term results, but long term \\nbreak throughs\\n•Problems as solve -able puzzles\\n•Rules aren’t set in stone\\n•Defaults can be altered\\n•A new path can be forgedSmarter Forecast –It \\nOnce Felt Like Our \\nMoon Shot!\\nBuilding Trust \\nthrough a \\nCommunity Around \\nSmarter ForecastForums•Cafes\\n•Funnel\\n•Checkpoints\\nCollateral•Smarter Explainer\\n•OneStopShop Website\\n•Release History\\nSupport•Service Desk Process\\n•How Tos/ FAQs\\nOnboarding•Videos\\n•Introduction packs and walk -through\\nOUR DREAM\\nLet’s all be forecasting champions!The Future of Forecasting\\nSo\\nWhat?\\nAn on -demand forecast will enable \\nbetter planning\\nSimulate promo changes, supply chain \\nlevers, range and spacing\\nArchitecture to enable machine learning \\nto actionMoving to \\nOn Demand!\\nWe currently generate a new forecast on a \\ndaily basis\\nBut what if we can generate a forecast on \\ndemand?\\nIntroducing “Scoring as a Service”\\nCall to actionWe need your help to fast track the extension and ongoing \\nsuccess of Smarter Forecast, enabling us to realise its full \\npotential and drive value back out to our people, the business \\nand our customers .\\n❖Get behind One Forecast; a single, integrated forecasting \\nsolution for Coles\\n❖Champion the One Forecast solution with your peers and \\nteams.\\n❖Support our group -wide and omni -channel initiatives .\\n❖Help to inform and action our transition plans , including \\ndeprecation of the current forecasting mechanisms.\\n❖Ensure your teams support the change management \\nrequired to enable effective adoption of the new One \\nForecast solution.QuestionsDanielle Sorensen \\nEngagement Lead, Merch and Coles ExpressRange and space \\noptimisation\\nWhy should we \\noptimise range and \\nspace? \\nThe demographics of \\nAustralia are changing at \\npace, with our customer \\nbecoming increasingly \\ndiverse.\\nMore Australians were \\nborn in Asia than Europe \\nfor the first timeCustomers are \\nincreasingly multi -\\nchannel in the way they \\nshop, driving divergence \\nof missionOn average there are \\n20,000 items that need \\nto fit into 5.8km of shelf \\nspace within a storeTo win in our second \\ncentury we need to land \\nthe right range in the \\nright stores through a \\ntailored offer . We have \\nover 16.5 million item / \\nstore combinations and \\nover 250,000 store / \\nlayout combinationsCurrently Coles’ most \\ngranular level of range \\nselection is at the fleet, \\nstate or cluster level, \\ntreating all stores in \\nthose groups the same1 2 3 4 5Our Vision\\nTo enable automated data -driven ranging decisions \\nbased on deep understanding of customer and \\npurchasing behaviour to inspire customers and improve \\ncategory profitabilityInspire Customers\\n•Own Brand as a differentiator   \\n•A Tailored offer\\nSmarter selling:\\n•Operational efficiencies\\n•Margin growth\\n•Strategic sourcing\\n•Removal of costs\\nHow are we solving the \\nproblem?\\nUsing Advanced Analytics , we can combine in -depth \\ncustomer behaviour and product performance data to \\ntailor range and optimise space allocation in storesRight Range \\nRight Store\\nBuild\\nCDT & Range selectionGM Check \\nIn Build \\nParent \\nlayoutsRange \\nAnalysisRange \\nChange \\nStarts Kick off \\nMeeting Range \\nTailoring \\nand \\nCluster Excellent Execution (6 & 2) \\nweeks ImpGM Sign \\nOffPG Run and SS layouts \\ncreatedAA Products used\\nAO Run for range \\nselection\\nRange Planning and Engagement Space planning and finalisation Execution and review Analysis and Insight\\nT-32 T-28 T-23 T-14 T-0Range Optimiser (RO)\\nRange review tool delivering automated ranging \\ndecisions based on deep understanding of \\ncustomer behaviourStore Tailoring Tool ( STaT )\\nProvides recommendations on layouts with \\nopportunities to review range and space \\nallocationPost Implementation Range Review (PIRR)\\nEstimates sales and margin uplift attributed to \\nrange review\\nCustomer Decision Tree (CDT)\\nGenerates clusters that represent how \\ncustomers decides which products to \\nbuy within a layout\\nAffluence Lifestage\\nCluster Low Mid High Pre \\nKidsBaby \\nOnlyYounger \\nFamiliesOlder \\nFamilies\\n1\\n2\\n3\\n4How we are supporting the Range Review Process today\\nRange Optimiser\\nOpportunity\\n•Today during a range review, products \\nthat are highly loyal can be deleted \\nfrom range as the current range review \\nprocess requires interaction across \\nseparate systems with a heavy reliance \\non excel\\n•Category teams need to manage up to \\n600 ranging decisions per range review \\n(item/cluster level) -when done \\nmanually without factoring in customer \\ndata poor decision making can occur\\n•Range Optimiser provides a central \\nplatform which allows for a more \\nholistic, centralised and collaborative \\nrange decision making process that \\ntakes into account a comprehensive set \\nof metrics that includes financial \\nperformance of a product,  customer \\nand balancing business and customer \\nneedsFeatures\\n•Automatic deletion recommendations \\nbased on low performing products \\n(sales, loyalty & more)\\n•Deletion recommendations based on \\ntarget inputted by user\\n•Sales transfer estimation to other \\nproducts if a product / set of products \\nare deleted\\n•Assesses how new lines perform \\nagainst current range \\n•Customisable charts to visualise \\nrelevant metrics to aid with ranging \\ndecisions \\n•Customer information to understand \\nprofile of customers who purchase a \\nparticular product\\n•Ability to view different ranging levels \\n(National, Cluster, Store)\\n•Data exports for loading into Range & \\nSpace Systems reducing re -keying of \\ndecisionsMission: To enable automated data -driven ranging decisions based on deep \\nunderstanding of customer behaviour\\n78\\nunique users900\\ntotal reports \\n+15% from F2024\\nlog ins per dayTime saving for Range \\nPlanners$43.0m\\nmargin uplift for F21\\nof business compliance with RO \\nrecommendations Business Sign -off and \\nresult export ready for \\ndownload \\nKey Metrics\\n•Financial –Sales, 5thMargin, Units\\n•Customer –Loyalty, Consecutive Purchases, Customer Segmentation, Substitutes \\nand Complements\\n•Interaction between products\\n•Sales Transfer -% of sales that will be lost if the product is deleted. High \\nsales transfer values indicate high deletion risk for the product, with \\ncustomers potentially moving to competitors to buy the product if deleted\\n•Cannibalisation -impact in units sold to existing products when new \\nproducts are introduced (based on product loyalty metrics and density of \\nthe category)\\n•BRAGG -a derived metric that categorises products based on their financial \\nperformance and risk of losing sales if deletedRange Optimiser –How we assess product performance\\nProducts that \\nshould be \\ndeletedProducts that \\nshould be kept\\nCDT Node\\nBased on the above metrics, products are recommended to be deleted or kept in the range\\nThis saves time by offering initial decisions for SKUs where the decision is relatively clear and uncontroversial;\\nIdentify SKUs that need \\nprotection \\nHigh sales, new SKUs, high YoY \\ngrowthRemove the worst performers from each CDT \\nnode until each node contains a healthier \\nnumber of SKUs (>2)\\nSKUs with Black BRAGG status, Bottom ~40% performers within \\neach node based on; 5thMargin %, Sales and Units PSPW, Sales \\nTransfer and Loyalty \\nA combination of \\nfinancial, customer and \\nproduct metrics is used to \\nmake recommendations \\nfor all products in the \\nrange\\nThe journey ahead and our destination\\nTo be customer -obsessed , we need to provide a range that suits the varying needs of our customers \\nTo do so, we need to move away from a “one size fits all” approach and move towards a tailored offer in every store\\nWhere we were Where we are Where we want to be\\n“One size fits all” Clustering Store Specific Ranging\\n(1 National Range) (2-30 clustered ranges) (840 clustered ranges)\\nMission: To enable automatic, data driven store -specific ranging decisions providing customers with a tailored \\noffer and to reduce the time required to land new range in stores Store Specific Ranging\\nOpportunity\\n•In stores, current range selection is \\ndone at the fleet, state or cluster/size \\nlevel, treating all stores in those \\ngroups the same, despite individual / \\nlocal store customer preferences. \\n•Product range is a differentiating \\nfactor to customers and there is an \\nopportunity to provide customers \\nwith a range in stores that is tailored \\nto their specific needs.\\n•Store Specific Ranging enables range \\nselection to be automated and \\noptimised by store using a balance of \\nstore specific customer, loyalty and \\nperformance metrics to optimise the \\nrange. This is seen as the ‘holy grail’ \\nin the retail industry.\\n•This is a building block for future \\ncapability to provide more tailored \\noffers e.g. Secondary Space (ENDS) \\nand Store RenewalsFeatures\\n•Leveraging Smarter Forecast, the performance of new, \\nexisting and ‘recommended insert’ products can be \\nforecasted to determine the optimal range mix for a store \\nthat creates the highest uplift in the forecast \\n•This includes forecasting for predicted Sales \\nTransfer and Cannibalisation due to changes in \\nrange\\n•Ability for the algorithm to balance customer, financial and \\noperational metrics (e.g. shelf re -fill), considering available \\nshelf space to create a range that can easily be \\nimplemented by stores\\n•Builds an algorithmic planogram to optimise\\n•Leverages Range Optimiser as the UI to speed up decision \\nmaking with a clear impact assessment of the store ranging \\nrecommendations\\n•Comprehensive tracking of Range Performance and outputs \\nto support the sign off process (e.g. item/store distribution \\ntracking)\\n•Improves report set up process in Range Optimiser to \\nreduce the time it takes to create an RO Project reducing \\nneed to manually load data\\nImproved customer satisfaction\\nReduced effort for Space Planners\\nMore effective fresh rangingExpected Benefits (next 5 years)\\n+$67m\\nIncremental Sales$23m \\n5th margin \\nuplift\\nHow can I inspire customers and make the range profitable with the space I have been given in each store?How do we do this?\\n1\\nIdentify products that are \\neligible to be ranged to a \\nstore (e.g. DC range and \\nBiosecurity restrictions)2\\nIdentify products that need to be included in the range e.g. skeleton lines, \\ncatalogue / EDV / KVI lines, products with specific supplier arrangements. \\nThen the rest of the available shelf space is filled with the most optimal \\nassortment of the remaining eligible products3\\nConsider business constraints such as\\n•2 case -fill requirement\\n•Days of cover\\n•Minimum distribution, range churn \\ncost\\n4 5\\nEach store will follow this process until all stores with a particular layout have \\nan optimal product assortment\\nStore A Store B\\n# Products in National Range 100 100\\n# Products eligible to be ranged to a store 90 95\\n# Products selected as optimal assortment for that store 80 82\\nSmarter \\nForecast\\nOptimisation model runs which s elects \\nthe optimal product assortment and \\nnumber of facings for each product that \\nreturns the highest 5th Margin forecast \\n(using Smarter Forecast) and taking into \\naccount inter -product dynamics, \\nbusiness constraints and available spaceWhat does the future of this capability look like?\\nTo be customer -obsessed , we need to provide a range that suits the varying needs of our customers. \\nTo do so, we need to move away from a “one size fits all” approach and move towards a tailored offer in every store.\\nWhere we were Where we are Where we could be\\n“One size fits all” Clustering Right Store, Right Space, Right Range\\n(1 National Range) (2-30 clustered ranges) (840 clustered ranges)Store Specific RangingWhere we want to be\\nEach specific layout is tailored to the \\ncustomer needs in a given store\\nTo have a truly tailored offer, we need to tailor the available space in \\nevery -store –including ENDS, off -locations and the category space \\nallocation within a store\\nDo we have the right category mix in each \\nstore making the best return on space?Do we have the right products on our \\nends for each store based on the \\ncustomer demand profile?\\nQuestionsDanielle Sorensen\\nEngagement Lead, Merch and Coles Express\\nSarah Wynton\\nStream Lead, VIPERPricing and promotions\\nOur Opportunity\\n1\\nWhat is the ideal promotional \\nprice I can set in order to gain the \\nbiggest return on my investment \\n(ROI)?\\n2\\nWhat products should I promote \\ntogether, or separately in a \\nparticular week to ensure I gain \\nincremental sales? 3\\nWhich products should I put on \\nEDLP vs. High/Low to make the \\nbest return and inspire customers?\\n4\\nHow can dynamic pricing be used \\nto support operational processes \\nto reduce waste and markdowns? \\n5\\nWhat additional levers should I use \\nto increase the promotional \\neffectiveness?\\nOur Vision\\nWe aim to solve this these questions and more by \\nenabling the capability to optimise prices and \\nbuild effective promotions and trade plans using \\nadvanced analyticsBy doing this, we can help Coles achieve its strategy:\\n•Improve customer offer (right offer, right time)\\n•Increase Sales and Margin\\n•Minimise Gaps and leftover SOH/Waste\\n•Bring in more customers through trusted value\\nInspire Customers\\nTrusted and targeted value\\nSmarter selling:\\nMargin growth\\nOur capability \\ntoday\\nEffective \\nPricingSmarter Forecast \\nPredictions\\nPromotional \\nTactics (e.g. \\ncatalogue)\\nCustomer loyalty \\n/ segmentationHistorical \\nperformance \\ndataOur team currently has \\ntwo focuses\\nWe predict and measure the \\neffectiveness of prices and promotions \\nover time using machine learning, \\nleading to more accurate forecasts and \\nbetter decision making 1\\nPricing\\n2\\nValue \\n(Promotions)\\nPlan\\n Execution readiness\\n Store readiness\\nP-20 \\ncheck -in & BCM sign offP-52 –26 \\nBuild Promo PlanP0\\nPromo Live in storesWe have an opportunity to increase 5th \\nMargin through the selection of more \\nprofitable promotions early on in the \\nplanning processOnce promotions are approved, we have an \\nopportunity to gain incremental sales by \\nunderstanding how different promotions \\nimpact each reducing cannibalisationaaPricing\\nOne stop shop pricing optimisation toolkits\\nMission: Comprehensive product backed by AI and optimisation algorithms to solve \\npricing problems faster, better, and cheaper\\nVision\\n•Leverage Smarter Forecasts\\n•Backbone of all pricing optimisation solutions\\n•Support each aspect of pricing decisions\\nDynamic pricing, \\n& understanding \\ndemandRight offer, Right \\ntime (Promotions, \\nClearance, Fresh \\nProduce & In -\\nStore Markdowns)Deal Funding \\nOptimisation\\nE2E support with deep dives, simulations, \\nplanning and integrationGeneralisable approach enables speed, \\nconsistency & compatibility customised to \\nspecific problems1\\nAn automated clearance process providing optimised pricing at an item -store level \\nthat clears both stores and DCs Smarter Clearance\\nBusiness Opportunity\\n•Previous Clearance approach uses general, staggered \\nmarkdown percentages applied across all item, \\nlocations without considering demand\\n•Clearance period runs over a short time frame, \\nimpacting margin and efficient implementation of new \\nlines in store due to residual stock of clearance lines\\n•Business deletes are cleared manually by category \\nmanagers at their discretion\\n•Smarter Clearance aims to improve the existing \\nclearance process by ensuring a smoother, more \\nprofitable process by providing optimal item -loc \\nspecific prices and store and DC range out \\nrecommendations.\\nBenefits\\n•Improved execution of new lines and Range changes\\n•Minimisation of store and customer disruption\\n•Better stock availability\\n•AI driven supplier deal fundingFeatures\\n•Using advanced optimisation techniques leveraging \\nSmarter Forecast, Smarter Clearance determines the \\nbest way to clear stock by identifying:\\n•The optimal allocation of stock from DC to \\nstore\\n•The best price points specific to a location to \\nclear an item by a specified date\\n•When to discontinue DCs and stores to stop \\nreplenishment\\n•Offers support for deal funding negotiations for store \\nspecific pricing\\n•Reduces manual work for CMs, Supply Planners and \\nBCCs× Allocation of stock is done manually by Supply \\nPlanners instead of automatically choosing the \\noptimal allocation\\n× Store managers markdown manually once there is \\ntoo much leftover without understanding \\nforecasted sales for each price point.Former Clearance\\nRegrades are given set prices and \\ndisregard the amount of stock to \\nclear or the sales forecast. Deletes \\nare done manually by CMs\\n✓ Stock is priced in each store based on each \\nindividual store demand\\n✓ Supply Planners have the ability to accept or \\npostpone a DC discontinuation recommendation if \\nthere are purchasing commitments made with the \\nsuppler\\n✓ Less leftover stock, lower markdown costs and \\nclearing by target dateSmarter Clearance\\nUsing Advanced Analytics the prices \\nare optimised by item -store thereby \\nreducing markdown cost, leftover \\nstock and gaps on the shelf\\nModel generates pricing plan\\nStocks cleared faster\\nLess markdown costs compared to former clearance process20%\\nReduced \\nmarkdown costs$ 9.6 m \\nCost savings \\nper annumSmarter Clearance –aaPricing in action\\nData I nputs\\nClearance view (what item -locs need to be cleared \\nby when)\\nObjective\\n1. Minimize Markdown cost (head \\noffice markdowns)\\n2. Reach 0 SOH for deleted items by \\nthe target date in DC’s and Stores\\nML Out puts\\nItem DC \\nRange Out \\nRecommendations\\nItem Store \\nRange Out’s\\nItem Store Pricing ML Optimisation Model\\nItem/Store/DC status\\nGeolocation info for stores and DCs\\nOutputs from the clearance app & clearance \\nworkbench\\n>16weeks future Pricing & Promotions\\n> 16 weeks Cost & Deals\\nSOH (DC, Stores), SOO & SIT\\nPurchase Orders\\nReplenishment levers: Carton/Pallet size, Minimum \\nOrder Quantity / Minimum Transfer Quantity, \\nDelivery Windows\\nAA ProductsDeal Funding \\nForecast\\nSmarter \\nForecastaaPricing\\n(Demand \\nCurve) aaOrderPlan\\nItem on clearance starts week as 0% \\nmarkdown, predicted to reach 30% markdown \\nby week -2 based on SOH levels.\\nObjective is to clear stock by W0whilst \\nprotecting as much margin as possible\\nWeek -W10 -W9 -W8 -W7 -W6 -W5 -W4 -W3 -W2 -W1 W0\\nMarkdown 0% 0% 0% 0% 0% 0% 20% 25% 30% 30% 30%\\nPRED_DEM 1 1.2 1.3 1.2 1 1.2 2.2 2.6 3 3.1\\nSOH (Store) 7 6 4 3 2 6 4 2 5 2 0\\nSOH (DC) 12 12 12 12 12 6 6 6 0 0 02) Store will discontinue when the \\nDC has been discontinued and has \\n0 stock remaining \\nBase Demand\\nBase demand is the demand forecasted for a particular item in a \\nstore on its regular (non -clearance) sell price (e.g., on average in \\nstore 507 item A sells 1 unit PSPW)Discontinue\\n1Start\\nThe model is run weekly to \\ninform the optimal markdown \\nprice that should be set to \\nachieve zero SOH by W0 across \\nall storesMarkdown Rate\\n1) DCs will be discontinued once the SOH \\nin the entire fleet AND any stock on \\norder / in transit exceeds the forecasted \\nbase demand \\n2) 19 SOH > 10 units of base demand\\n3) Considers gap days and pallet rounding \\nfor orders into DCDiscontinue\\n22\\nNew stock arrivesSmarter Clearance –How the model works\\nPredicted Demand\\nPredicted demand is the demand that is forecasted from lowering the price utilizing \\nclearance tickets (e.g., when a discount of 20% is applied, the expected demand increases to \\n2 units PSPW in store 507)\\n*NOTE* This is a single item and single store example1aaValue\\nPromotional effectiveness and trade planning\\nMission: Enable a deep understanding of promotional effectiveness \\nto deliver the best value possible for promotional investment\\nDriving Supplier conversations through \\nidentifying funding issues\\nDetermining the Effectiveness of a \\nPromotion, financial and customer\\n54 week forecast integrated with existing \\nsystems\\nEnabling data driven trade planning –\\nIncluding Tactics\\nSimulation\\nWhat if?Integration with aaPricing & Smarter \\nForecasts enable optimisation and value \\ndriving\\nKey Promotional Effectiveness Metrics\\nCustomer Purchasing \\nBehaviour –understanding \\nthe customer impact \\nofpromotionsBRAGG -A BRAGG rating is applied to all \\nhistorical and forecasted future promotions \\nbased upon financial performance including \\nincremental margin, incremental sales, and \\npromotional ROIPantry Stocking –the unit uplift of \\nitems that have been pantry \\nstocked, and therefore not \\npurchased in future promotionsIncremental Sales $ -the Sales Uplift \\ngenerated by the promotion minus the \\nnegative impact of cannibalisation and \\npantry stockingCannibalisation –the number of \\nunits / $ of uplift which have been \\nlost due to sales from other \\nproducts within the categoryHalo –residual spend \\nassociated with visits \\ngenerated from advertising \\nvia the catalogue\\nPROMO ROI          = Incremental Margin / Total Investment\\nIncremental MarginCalculated via an advanced analytics methodology accounting for \\ncannibalisation, pantry stocking, and sales transfer factors\\nTotal Investment (Reg Price -Promo Price) * Promo QTYValue Strategy f ocus area; Promo ROI\\naaValue\\nEnabled through Promo App and Promo Manager\\nLeverages smarter forecast predictions to provide a view of Promo Effectiveness \\nmetrics. Enables category teams to identify opportunities to improve sales and margin ,driving EBIT \\nimprovement and increasing customer satisfaction\\nLaunched late 2017\\nPromo \\nApp\\nPurpose: Provides capability for \\ndeep dive analysis, what if \\nsimulations, and high value \\nrecommendations for \\nimprovements to future \\npromotions\\nIntegrated in Nov 2019 Provides visibility of the 54 week forecast & \\nPromo Effectiveness Metrics whilst keying and \\napproving promotions! \\nSmarter \\nForecast\\naaValue\\nModel\\nThrough the integration of BRAGG and the other promotional effectiveness \\nmetrics into Promo Manager, $8.4M \\u200bEBIT uplift from smarter promotions \\nare expected per annum; and we have heard great feedback from the \\ncategory teams such as “Catalogue sell through forecasts are the best \\nthey’ve ever been” improving the catalogue planning process.\\nThrough further training programs and driving Promo App usage and recommendation adoption, we have an opportunity to increase sales and \\npromotional ROI from improved trade planning. Improving Coles Promo \\nROI by only 1% is worth ~$45M fifth margin!!BenefitsPromo \\nManager\\nPurpose: Provides category \\nteams with \\nan easy to use, intuitive \\napplication to support the \\npromotional planning, \\napproval and execution \\nprocess including catalogue \\nbuild.Promo App utilises smarter forecasting to suggest improvements for Approved/Keyed promotionsPromo App: Opportunities\\nSection Description\\nPromo Tactics \\nMechanic, Depth, \\nSupplier FundingIdentifies promotions forecasted to underperform and suggests a tactics to \\noptimize sales and margin by changing one or more of the mechanic \\n(Simple/MB), depth, or supplier funding\\nDeal DeclineIdentifies changes in COGS, regular price, or supplier funding which lead to \\nopportunities to enhance margin by capturing missing or declining unit deals\\nGap FinderHighlights YoY sales and margin across a variety of metrics including EDLP and \\ncatalogue performance to identify any trade risks. Includes a comparison of TY vs. \\nLY promotions by week\\nGap FillerWorks to fill identified opportunities in Gap Finder -Allows you to select past \\npromotions to fill gaps/trade risks and forecast the impact to sales or margin\\nOffers Not Cycled Highlights promotions from LY which are not being cycled TY\\nNegative MarginIdentifies tail promotions with negative or low margin, or lower than average \\nsupplier funding. These promotions require evaluation, with potential to remove \\nto support the Value Strategy target of reducing ticket countLow Margin\\nLow Funding\\nClashing & FatigueIdentifies sales and margin improvements by removing clashing substitute SKUs \\npromoted during the same weeks, or promotions which are deteriorating in \\nperformance due to fatigue\\nMargin Opportunity \\nDynamic and targeted \\npricing (intra -day, \\ncustomer specific)FY24\\nLiquor Pricing and \\nTrade PlanningFY23\\nBase Price \\nOptimisation and \\nRecommendationFY24\\nCEXP Tobacco \\nDynamic PricingFY23 FY24+\\nTrade Planning \\nOptimisation and \\nSimulation\\nEDLP Optimisation and \\nPrice \\nRecommendationsFY23What is our future \\ncapability?\\nCEXP Promo App\\n& EnhancementsLanding soon!\\nFY22\\nPromo Manager\\nFresh Produce, \\nColes Online and \\nreal-time forecastingFY23\\nDeal Funding OptimiserFY23\\nQuestionsTom Phillips\\nEngagement Lead\\nLiquor, eCommerce, Marketing, and CorporatePersonalisation\\n▪What is personalisation?\\n▪Personalisation at Coles\\n•Vision and strategy\\n•Ambition\\n•Capabilities and use cases\\n-Recommender systems\\n•Where we are now?\\n•Where we want to be?\\n-Segmentation\\n•Where we are now?\\n•Where we want to be?\\n-Customer retention and acquisition\\n•Where we are now?\\n•Where we want to be?Personalisation agendaWhat we’ll cover off \\ntodayPersonalisation by Advanced Analytics\\nOur Vision\\nApply Advanced analytics for a deeper \\nunderstanding of our diverse customer base and \\nuse personalisation as a guiding principle to \\nimprove customer experienceOur Strategy\\nWin together \\nwith team members, \\nsuppliers and \\ncommunities\\nAccurately track and optimise ROI \\nacross stores, promotions and \\nmarketing  \\nUtilise customer and sales insights \\nto drive greater value for our \\nbusinessInspire Customers\\nthrough best value \\nproducts to make their \\nlives easierSell smarter\\nthrough efficiency and \\npace of change\\nUnderstand our customers \\npreferences including product, \\ncommunication and shopping \\nmethodUnlock digital marketing channels to their full potential to enable speed of \\nresponsiveness to customer behaviour\\nHelp reduce production cycles associated with traditional mediums\\nLand the right offer at the right time in the right place \\nOUR CORPORATE \\nSTRATEGY\\nApply Advanced analytics for a deeper understanding of our diverse customer base and \\nuse personalisation as a guiding principle to improve customer experienceOUR VISION\\nHOW WE’LL MAKE IT \\nHAPPEN \\nSUPPORTED \\nBY “\\nEstablish a comprehensive \\nview of the customer\\n•Using a combination of \\ndemographic, behavioural & \\ntransactional data \\n•View of customer is established \\nvia centralised storage of data \\nand advanced analytics \\nalgorithms powered bysmart \\ntechnology and frameworkSell \\nSmarterWin \\nTogether Inspire\\nCustomers\\n1\\nProcess\\nEnabling \\nTechnology\\nPeopleConnect channels to create \\n“always on” distribution \\nengine \\n•Tailored distribution channels \\nfor customer profiles based on \\nknown engagement and \\nconsumption habits\\n•Channel selection & objectives \\nspecific to customer needs \\n•Connect distribution channels \\nvia technology integrations \\nand centralised data storage Enable a personalised \\ncustomer journey\\n•Enable a personalised \\ncustomer journey, that adapts \\ndynamically to the \\nengagement of our customers \\nspecific to the catalogue\\n•Tailor message, creative \\nassets, copy and product \\n•Configure personalisation \\ncapabilitiesContinually test measure \\nand optimise \\n•Introduce a test & learn \\nframework and universal \\nmetrics of success \\n•Create a feedback loop back \\ninto customer profile to \\nleverage campaign learnings \\nfor continuous growth\\n•Implement advanced \\nanalytics algorithms  \\n2 3 4\\nOur ambition“\\nAge\\nLocation\\nChannel preferences\\nProduct preferences\\nPurchase frequency\\nLocationGender\\nEconomic status\\nRecencyPromo sensitivity\\nEngagementWantLife stage\\nA comprehensive view of the customer \\nenables a data driven approach to specials \\nand offer distributionCustomer profile\\nThis aligns with the Coles strategy to inspire customers\\nby being customer obsessed .Setting up for successFoundation\\nComplete Customer\\ntransaction history and \\ndemographic data \\navailableEstablished \\nInfrastructure to build \\nMachine Learning \\nmodels at scale and \\nproductionizeProven test cases show \\nimproved customer \\nexperience along with \\nincreased sales upliftsOur customers are \\ndigital and expect \\npersonalised \\nexperiencesBest in class customer \\nexperiences can be \\ndelivered with the \\ninsights we can uncover \\nin the data across sales, \\nmarketing, customer \\nservice etc.\\nSegmentation\\nCustomer Segmentation\\nCustomer segments are maintained in -house for all active customers (including non -flybuys ), based on over 1 billion \\ntransactions per year\\nAffluence•Low Affluence\\n•Mid Affluence\\n•High AffluenceThe price sensitivity of the customer –their \\nwillingness to purchase more premium products \\nover budget ones \\n•Cooking on a budget\\n•Fresh Foodies\\n•Meat and Two VegDriven through basket composition –ideal for \\nunderstanding culinary skill & tastes\\n•Young Single\\n•Middle -Aged Couple with Baby\\n•Older Couple with Older ChildrenThe phase of life the customer is predicted to \\ncurrently be in\\n•Very High\\n•High\\n•LowUsed to segment based on how customers make \\ntrade -offs between promotions and brand loyalties\\n•Mega Shoppers\\n•Incidental Shoppers\\n•Occasional Bigger SpendersSegments customers based on how often they visit a \\nColes store and how much they spend when they \\nvisit\\n•Slider\\n•Stable\\n•ClimberIdentify customers who spread their wallet across \\nmultiple retail brandsColes Food Shopper\\nLife Stage\\nPromotional Sensitivity\\nRecency Frequency \\nMonetary (RFM)\\nSwitchers\\nUsage\\n•My Weekly Specials \\n•My Fresh Specials\\n•Range Optimizer\\n•Coles Synergy\\n•Product Feature StoresWhat is Customer Segmentation ?\\nCustomer segmentation models help us in profiling our shoppers’ demographic, transactional, and \\npsychographic behaviours in order to better understand their needs. Leveraging Data Science models, \\nwe are able to divide a population into different segments, enabling effective, tailored and \\ntargeted communication. Where we are nowDevelop new products: Enhance our products:Segmentation\\nColes Food Shopper\\nPromotional Sensitivity\\nSwitchers\\nImproved understanding of the \\ncustomer\\nEnhance the model for better \\noutput. Who is the most sensitive \\nto a promotionSegmentation Models\\n•Competitor view Segmentations\\n•Value Segmentation (Welfare, other)\\n•Liquor Segmentations\\n•Price elasticity Segmentations –How our customers reacts differently to prices\\n•Category level behavioural segmentation\\n•Fresh food segmentation\\nOther tools\\n•Development of tools to help expose and visualize customer attributes and \\nrelationships\\n•Segmentation framework -to improve how build and profile customer segments\\n•Consumer trend analysis –How did our customers behave during covid. e.g. \\nStocking up. How shopping behaviour is changedWhere we want to be\\nImproved understanding of the \\ncustomer across all Coles BU\\'sFeatures\\n•Capability ensures product substitutes are \\nmatched based on allergen criteria \\n•Text mining of product descriptions used to find \\nthe most similar matched product subs by \\nkeyword\\n•Test and learn mechanism means the model is \\nconstantly improving promoting better \\nsubstitutes over time\\n•Draws down on tested and proven trusted AA \\nmodels already in use for demand forecasting \\nand range planningRecommenders\\nMy Weekly Specials (MWS) & My Fresh Specials (MFS)What are Recommenders\\nRecommendation models look to provide accurate and relevant recommendations to \\ncustomers based on our understanding of their individual needs and wants. Where we are now\\nCOL Preferred Substitutes Recommender System\\n•Use machine learning models combined in an enterprise grade recommender \\nsystem to determine the best substitute for a given Coles online product\\n•Reduce involvement of human -in-the-loop for substituting unavailable items in \\nCOL ordersFeatures\\n•Recommender engine powered by an in-\\nhouse developed machine learning \\nalgorithm\\n•Weekly email marketing campaign \\ntargeting flybuys customers to buy \\nproducts on special including weekly \\nspecial + fresh produce + meat specials\\n•Calculates ranked recommendations of all \\nproducts a customer is likely to purchase \\nat Coles, every single week\\n•Offers are tailored to a member\\'s specific \\ntraits and prior purchasing behaviour \\nusing machine learning\\n•Ability to introduce and measure trials \\nwith ease with A/B testing frameworkBenefits\\nAllergen aware capability to \\nensure allergen requirements \\nare met\\n0.5% Reduction in complaint\\nrate and improved user \\nexperience27k COL products with\\nhigh quality data driven \\nsubstitutes updated weekly in \\nROVER\\nBenefits\\n5.6m \\ntargeted emails sent weekly \\n(Weekly + Fresh)\\n~$100m\\nSales uplift in FY21\\nFuture Enhancements \\nand ability to scale in the cloud \\nwill drive $ 6.0m  in weekly \\nsales uplift\\nOver 3.7m unique customers \\ntargeted per week\\nOver 39m personalised offers \\ncalculated per week\\nRecommenders\\nWhere we want to be\\nDevelop new products: Enhance our products:\\nColes Online Preferred Substitutes\\n•Improve model performance and provide \\npersonalised recommendations\\n•Improve model scoring and training \\nfrequency (daily)•Product recommendations for all business \\nunits including Liquor and Coles Express\\n•Cross brand recommendation models\\n•Due2Buy\\n•Online cart autofill\\nFeatures\\n•A machine learning algorithm utilising \\n600+ variables and will continue to self -\\nlearn over time to improve predictive \\nperformance\\n•Profiling the switcher to drive strategy\\n•Tracking performance / impact after a \\nnew store opens\\n•Build with ability to scale as an \\nenterprise solutionCustomer retention \\nand acquisition\\nCOL Acquisition Models\\nPredict high propensity customers most likely to start using Coles online\\nNote currently not in production.\\n•Drive additional demand for Coles Online by improving the targeting traditional \\nB&M (bricks + mortar) customers to try Coles Online.\\n•Send enticing offers for acquisition via flybuys which could drive increases into COL \\nsales.Lapsing Models\\nMachine learnings model to predicting decline in customer engagement. Note \\ncurrently not in production.\\nFeatures\\n•Built on customer campaign response \\ndata with behavioural and engagement \\nfeatures \\n•Learns patterns in customer behaviour \\nthat lead to using COL\\n•Model re -trained monthly to ensure \\nchanges in customer behaviour are \\nacted onBenefits\\n250k  \\nTargeted emails\\nsent weekly\\n$3.7m\\nSales from new customers\\nin 4 weeks of trial\\nImproved conversion \\nrate currently \\nat 1.59%Benefits\\nTargeting defectors with CSS showed \\nuplift of 18.1% -only need to target \\n20% of members to reach 81% of \\ndefectors\\nSCR improved 1.78% over no model \\nbeing usedPredicted full lapsers and partial \\nlapsers with 88% and 75% accuracy \\n(respectively)\\nCustomer retention and acquisition models\\nCustomer retention models look to identify customers whose behaviour is indicating that \\nthey are risk of churning or identify those that may be most interested in acquisition into \\nadditional products, services or channelsWhere we are now\\nWhere we want to be\\nDevelop new products:Customer retention and acquisition\\nOne to one trade driving\\nRight customers, right content, right channel.\\n•Use state -of-the-art optimisation to ensure that we target our customers with the \\nmost relevant offers for that customer, based on their unique history of \\ntransactions and campaign engagement. \\n•Personalised marketing is the future of trade driving and there is an opportunity \\nfor Coles to be at the forefront of this.\\nSupplier Trigger\\n•Using an Inter Purchase Interval (IPI) model to predict \\nthe date of next purchase\\n•Coles engagement with suppliers could trigger attractive \\noffers and campaigns to customers when the products \\nare overdue for a purchase. \\n•Time targeted offers to customers just as they are \\nrunning out of a focus SKU Customer \\nlifetime value\\nUnderstanding throughout their \\nlifetime, who are our highest value \\ncustomers are across all business\\nunitsRetention \\nmodels\\nAcquisition models\\nUnderstand who we should target for \\neach business unit in order to \\nmaximise acquisition across brands\\nEnhance our products:\\nLapsing Models\\nProductionise and expand to all \\nbusiness unitsQuestionsOptimising our capability –current and futureGroup activity\\nDuration\\n30 minutes\\nWho\\nGroup of 4 (inc. 1 AA person)\\nAim\\nIdentify opportunities to optimize \\nour operations to improve \\noutcomes across our capability \\nareasInstructions\\nJigsaw session (each group turn around and reach out to \\none expert)\\nSet the stage\\nGather Data\\nGenerate insights\\nDecide what to do\\nClose\\nThink about some of your key business problems and AA’s key capability \\nareas. Consider opportunities for the business to leverage this to solve \\nthese problems and extend benefits across the value chain in future.\\n•Forecasting (Alok or Sovann)\\n•Pricing and promotions (Sarah)\\n•Range and Space (Danielle)\\n•Personalisation (Tom)\\nWe’ll be feeding your ideas into our forums moving forward.\\nBen Armstrong\\nCo-Founder and Managing DirectorLunch\\nwith atiyah\\nReady for \\nreview\\nSustainabilityFood cultureToday’s menuSam Riethmuller\\nHead of Advanced AnalyticsThe future of \\nAdvanced Analytics\\nExtensive tech -led roadmaps built by AA in collaboration \\nwith key stakeholders to deliver value across ColesDaily process to; prevent gaps from occurring and action any gaps that have occurredFill Lists\\nDetails Proces sDaily\\nThe model gets updated \\nsales forecast from Smarter \\nForecast model –\\nstore/SKU/day level and \\nintegrates with the intraday \\nforecast at Store/SKU/hour\\nGenerate \\nbaseline Intraday \\nSales Forecast\\nSmarter \\nForecast\\nOn DemandConsolidated \\nlist of Fill items\\nDigitized \\nStockroom \\nData\\nScheduled\\nDigitized backroom data is \\nabsorbed in to feature \\nstore and the fill lists are \\ngenerated at Store/Zon \\nlevel\\nScheduled On Demand\\nFill lists are retrieved on \\ndemand from \\nAdvanced Analytics \\nCloud\\nThe list of items sent \\nthrough to Simpler \\nTools will be prioritised \\nwith time and labour \\nrequired.Filling process data is \\ncaptured for \\nmonitoring purposesTeam \\nreplenish \\nbased on \\nfill alerts\\nUpdated \\nrecords fed \\nback to \\nAdvanced \\nAnalytics\\nScheduled\\nScheduled\\nDail transactional data \\nthat impact stock \\nmovement are \\nconsolidated in the \\nfeature storeFeature \\nStore \\nUpdate\\nDaily \\nInventory \\nTransaction \\nData\\nScheduled\\nScheduledFuture Store Inventory: an example of how architecture helps \\ntranslate insights into actions and outcomes in our storesQuestionsKirsty Davis\\nGM, Sustainability and Property Services\\nTom Phillips\\nEngagement Lead, Liquor, eCommerce and \\nCorporateSustainability \\nBetter TogetherOur sustainability strategy \\nThe foundation is the Coles roundel. This:\\n•Is uniquely Coles\\n•Highlights the zero in ‘Together to ZERO’\\n•Circles represent community in Aboriginal artworks, highlighting ‘Together’\\n•The colour palette used in the artwork is representative of the many beautiful colours and textures of AustraliaOur sustainability strategy\\nTogether to zero emissions\\n• 100% renewable electricity by end of FY25\\n• More than 75% reduction by end of FY30 in combined Scope 1 & 2 \\nemissions (FY20 baseline)\\n• Net zero emissions by 2050\\nTogether to zero waste\\n• 85% solid waste diverted from landfill by FY25\\n• Aligned with Australia’s 2025 National Packaging Targets for all Coles Own \\nBrand and Coles Own Liquor Brand packaging in Australia\\n• Supporting circular economies \\nTogether to zero hunger\\n• Relationship with food rescue organisations SecondBite and FoodbankA team that is better together \\n• Focus pillars of Belonging, Gender equity, Accessibility, Pride and Indigenous engagement\\nA community that is better together\\n• Invest in local communities and supporting them in times of need\\n• Health and Nutrition including continuing to ensure Coles Own Brand range of food and \\ndrinks are free from artificial colours and flavours \\nSourcing that is better together\\n• Responsible sourcing by supporting independent certification or verification of Coles Own \\nBrand products and ingredients with higher environmental and labour risks\\n• Strive to further safeguard human rights in our own operations and extended supply chains\\nFarming that is better together\\n• Investing in farmers through our Australian -first sourcing policy and the Coles Nurture \\nFund\\n• Protecting animal welfare\\nKey achievements\\n80.6%\\nsolid waste diverted from \\nlandfill2.16bn\\npieces of soft plastic \\ncollected through REDcycle\\nsince 20115210 m\\nequivalent meals donated to \\nSecondBite and Foodbank287%\\nColes Own Brand and Coles Own \\nLiquor Brand primary packaging \\nrecyclable1\\nPlastic and paper reduction \\n• Stopped delivering paper catalogues to customers’ letterboxes     \\n• No longer selling single use plastic tableware products                     \\n• No longer giving away plastic or recycled plastic collectable toys100%\\nof renewable electricity agreements in \\nplace to meet our FY25 target for \\n100% renewable electricity436.5%\\nWomen in leadership -biggest year -on-\\nyear improvement\\nGold employer\\n2021 Australian Workplace \\nEquality LGBTQ Inclusion Award\\n$143m\\nTotal community support34% (approx )\\nColes team members identify as \\nAboriginal and Torres Strait Islander \\npeoples\\n$4m\\nColes Nurture Fund grants \\nannounced in FY21Broadest range \\nof RSPCA Approved products of any major \\nAustralian supermarket\\n1. Based on latest packaging data provided by suppliers, overlayed with sales data and purchase data for goods not for resale pa ckaging items for the last 52 weeks as at 27 June 2021. Coverage is 82% of units in the reporting period. For Coles supermarkets this excludes floral, Coles Best Buys, \\ncigarettes/tobacco, Lead Business Initiative merchandise, magazines and pre -recorded media.\\n2. Since 2011 with SecondBite and since 2003 with Foodbank. As of 28 Feb 2022\\n3. Includes Coles’ direct contribution of cash, time, in -kind and management costs as well fundraising from customers and suppliers (leverage).\\n4. Met in November 2021\\n5. As of 28 Feb 2022\\nWhat’s next?Sustainability\\nWonderful achievements \\nand more on the way….. \\nCould Advanced Analytics\\nhelp us do more?\\nTogether To Zero\\nOur long -term \\ngoal to target \\nzero waste and \\nzero hunger. Project Life \\nFinding new ways to eliminate waste for stores and customers by:\\n✓ Transforming markdown processes by finding the optimal time to \\nmarkdown, maximising sell -through and reducing waste.\\n✓ Providing centralised and systemic control on price adjustments in \\nstore to avoid unnecessary or ineffective price adjustments.\\n✓ Providing full visibility of the product lifecycle to take preventative \\naction with 2D barcodes.  Customers are throwing out 1 in 5 shopping bags a week (around $4k per year per household)Waste prevention\\n1.8m\\nItems are code checked \\neach week3m = $5m\\nmarkdowns are completed each \\nweek across all departments50%\\nOf items can arrive at the \\nstore with 7 or fewer days life700k = $4.5m\\nunits a week Waste CostAnd we STILL throw out\\nOur commitmentsSustainability\\nColes supply partner CHEP\\n•Fitting track and trace devices on reusable pallets and \\ncontainers across Southern Europe.\\n•Aimed at increasing visibility over platforms and \\nproducts transported on them.\\n•Built -in sensor devices collect information such as \\nlocation and condition of pallets and containers as \\nthey move through supply chain, as well as product \\nquality conditions, such as the temperature.\\nColes’ ethical sourcing team\\n•Overlaying Google mapping software with in -scope \\nsite locations, then integrating ethical sourcing \\nprogram performance for targeted due diligence or \\nrisk mitigation activities. \\n•Using advanced trend reporting on reported non -\\nconformances.\\n•Using key word identification and alert notifications \\n(e.g. modern slavery is raised in an audit non -\\nconformance and the team is instantly informed).Coles energy team\\n•Automating reporting currently accessed via XLS and \\nPPT\\n•Interactive, allowing different areas of business to \\napply own filters and see data relevant to their areas\\n•Allowing Coles to drill down into trends in Scope 1 and \\n2 emissions. E.G If they see increase in Coles Express \\nemissions for 1 period, they can drill down to exact \\nsite(s) and utility type, allowing more informed \\ndecisions.\\nQuestionsDelivering on our sustainability targetsGroup activity\\nDuration\\n15 minutes\\nWho\\nGroup of 4 (inc. 1 AA person)\\nAim\\nHow we can do more to achieve \\nour “Together to Zero” targetsInstructions\\nGo to activity wall + answer \\nthe questions with post -its\\nSet the stage \\nGather Data\\nGenerate insights\\nDecide what to do\\nClose\\nOur customers are making store and shopping decisions based on \\ninsights we provide and our commitment to sustainability. \\n1. What can we do for them?\\n2. What data can we capture from stores to support “Together \\nto Zero”. \\n3. Improve our ability to trace products?\\n4. Identify and deliver on opportunities to inform our partners?\\n5. Improve eco -labelling of products (rating system on \\npackaging or QR codes), carbon neutral product certification \\n(equivalent to organic or vegan)?\\nDelivering on our sustainability targetsGroup activity\\nDuration\\n15 minutes\\nWho\\nGroup of 4 (inc. 1 AA person)\\nAim\\nHow we can do more to achieve \\nour “Together to Zero” targetsInstructions\\nGo to activity wall + answer \\nthe questions with post -its\\nSet the stage \\nGather Data\\nGenerate insights\\nDecide what to do\\nClose\\nOur customers are making store and shopping decisions based on \\ninsights we provide and our commitment to sustainability. \\n1. How can we create more environmentally -friendly stores?\\n✓Coles fridge management program\\n✓Investment in leak -detection tech, further reducing gas loss.\\n✓Doors on fridge units to reduce energy consumption?\\n2. How can we improve traceability of products?\\n✓Gas emissions associated with the products\\n✓Water\\n✓Types of products\\n✓Inform customers about choices we make + new expectation \\nfor customers to make decisions about data.\\nElham Hajibandeh\\nProgram Delivery ManagerProduct delivery \\nframework\\nOur teams are empowered to solve real -world business problems, designing \\nand implementing viable, outcomes -focused solutions that deliver ongoing \\nvalue back out to the business and our customers.\\nTo drive value across the retail value chain, we’ve focused on building \\nproducts that are informed by data science and advanced analytics\\nProject 4 \\n(e.g. Broccoli)\\nProduct A \\n(e.g. aaLabour )\\nProduct B \\n(e.g. Smarter Forecast)Project 1 \\n(e.g. WFO)\\nProduct C \\n(e.g. Inventory Model)\\nProduct D \\n(e.g. OrderPlan )Project 2 \\n(e.g. FSI)Project\\nTo deliver defined outcome in a specific timeframe . It has clear phases from idea \\nthrough to completion and realising benefits (examples: Future Store Inventory, \\nFPEO) \\nProduct\\nSolving the problems and deliver long -term benefits to specific customer and \\nbusiness needs that can increase over time (examples: Smarter Forecast, Range \\nOptimiser, aaOrderPlan )\\nPlatform \\n(e.g. ragemaker )Platform\\nTo enable products to be built, deployed and used (example: RageMaker )\\nProject 3 \\n(e.g. Team member safety deep dive)\\nProduct E \\n(e.g. AATF)Our products are re -usable by other initiatives\\nWe are always working in parallel to both discover the necessary product to be built, \\nwhile deliver production -quality productProduct Delivery\\nDiscovery\\nDeliveryProduct Objective\\nDiscovery\\nIntense collaboration of product team and business to understand the \\nproblems, gaps and opportunities and to propose analytical solutionDelivery\\nIncremental releases to faster deliver values and to optimise \\nfor performance, stability and robustness\\nCorporate Objectives \\nCorporate Strategy\\nFocus on continuous flow of work that provides optimal business valueProduct Delivery\\nDelivery\\n•Develop on Cadence & Release Regularly : Commitments to deliver value are made \\nover shorter horizons, with regular cadence and embedded flexibility to accommodate \\nbusiness agility\\n•Ensure we are working on right things: Regular Business Review to help govern \\nstrategic direction, evolving to more frequent prioritisation through Weighted Shortest \\nJob First, aligning to changing needs to business\\n•Regular pulse checks, Release notes\\n•Actively track progress against objectives (OKR)▪Discovery\\n•Hypothesise customer needs, identify problems and business opportunities\\n•Explorer different ideas and approaches to solve the problem (e.g. Data Exploration, \\nLiterature reviews)\\n•Tackling risks around value, usability, feasibility and business viability of proposed solution\\n• Prototype (MVP) Running a series of quick experiments: Have a working code and \\nML models to validate the initial idea, demonstrate technical feasibility , identify \\nsolution gaps and to reduce uncertainly\\n• Iterating the prototypesDiscovery\\nDeliveryObjective\\nProduct Strategy\\nSequence of releases we plan to deliver on \\nthe path to realising product visionProduct Objective\\nWhat we need to accomplish and how the \\nresult will be measured (OKRs)\\nColes will be the most scientific and optimised retailer in the world, with data \\nscientific applications driving all key elements of the retail value chainOur Vision\\nOne of the way we deliver on our vision is to build sustainable and reusable analytical products to solve business problems\\nWHY Product Delivery?\\n•Using Design Thinking to ensure our analytical solution is desirable, feasible, viable and sustainable\\n•Rapid learning in discovery, yet building stable and solid releases in delivery\\n•Developing on cadence allows us to optimise the many small decisions that impact the value chain\\n•Continues delivery pipeline allow us to measure impact\\n•Delivers long -term benefits that can increase over time\\n•Products can be re-usable by other initiatives/products\\nExamples\\n•Smarter forecasts\\n•Range optimiser as the core analytical tool for range decisions\\n•Availability/Lost Sales model evolving over time and increasing coverageProduct Vision\\nThe future we want to build\\n12AA Product \\nDelivery \\nPrinciples Solving problems, not \\nimplementing features\\nRisks are tackled \\nup frontConsistent Product \\nInnovation\\nDefined and designed \\ncollaboratively\\nLearn fast, yet also \\nrelease with confidence\\nFocusing on outcome \\nand not output \\n•Have an experimental culture\\n•Frequent collaboration with business \\n•Testing product ideas using real data\\n•Prototyping and testing\\n•Investigating new technologies\\n•Tracking industry data and learnings\\n•Trusting teams\\n•Managing risksTrusting the approachOpportunitiesFrom To\\nOutput -focused teams Empowered, accountable product teamsFeature -based roadmap Business outcome -based roadmap\\nLimitations (knowledge, \\navailable information)Weighted Shortest Job First (WSJF) \\n•Weighted Shortest Job First (WSJF) -looks at the cost per unit time if delivery is delayed vs. an estimate to do the work.  \\n•The outcome is to prioritise items which have the highest cost of delay and are the shortest / cheapest to undertake.Planning: Determining Priority\\nJob duration / size\\n•Not an exact estimate\\n•Relative to other jobs / initiatives\\n•Don’t overthink\\nWhat numbers to use?\\n•Modified Fibonacci sequence\\n•1, 2, 3, 5, 8, 13, 21 is usually enough\\n•Makes values relative to each otherCoD = User -Business Value +Time Criticality +Risk Reduction and/or \\nOpportunity Enablement\\nUser -business value \\n•Revenue impact / measurement\\n•Penalty avoidance\\n•Reputation / innovation\\n•Accuracy improvementWSJF = Cost of Delay ( CoD )\\nJob Duration (size)\\nRisk reduction and/or \\nopportunity enablement\\n•Reducing risk of future activities\\n•Value of information received\\n•Enable new business\\n•Technical innovation / stability Time criticality\\n•Fixed deadlines\\n•Reporting horizons\\n•Major Events\\n•Customer satisfactionUnpacking CoD and choosing relevant criteria\\nAs a result, quantifying CoD is not necessarily measured in $$, it can also be based on subjective \\nbut relative measures, which are tailored to context\\nItem User -Business ValueTime Criticality Risk Reduction \\nand/or Opportunity \\nEnablement=CoD Job duration / \\nsizeWSJF Rank\\nSupply Chain Impacts –inclusion of Lost Sales \\nlow availability should not decrease future \\nforecasts13 13 8 34 55 0.62 4\\nFresh Produce Price Flow –factoring late price \\nchanges21 21 13 55 34 1.62 1\\nCOVID Cycling –resilience in the forecast to \\ncater for panic buy periods13 13 13 39 55 0.71 3\\nEaster 2022 –model deep dives and \\nenhancements for easter lines13 21 13 47 89 0.53 5\\nFresh Produce Future Price Imputations –\\ncater for prices not keyed into the future8 8 13 29 34 0.85 2\\nSupply Chain Impacts –inclusion of Lost Sales \\nlow availability should not decrease future \\nforecasts13 13 8 34 55 0.62 4WSJF Prioritisation Examples\\n•Scores are agreed in the Quarterly Planning with representatives from various leaders from different teams in the business\\n•Job Sizes are confirmed by the team as part of Quarterly Planning \\n•Product Mangers guide team priorities based on guidance and endorsement from the Quarterly Business Review / Steering CommitteeElham Hajibandeh\\nProgram Delivery Manager\\nAlok Joshi\\nEngagement Lead, OneOpsAA’s ways of working\\nConstantly refined to improve delivery performanceLeverage Agile methodology to increase quality, \\nproductivity, adaptability and transparencyReduces overhead by providing the procedures, \\nguidelines, templates and checklists \\nGuides Product team to ensure incremental releases to \\nfaster deliver values and to optimise for performance\\nGuides initiatives to ensure their successful E2E delivery\\nfrom idea through to completion and realising benefitsLinks and aligns with broader Coles framework, \\ntransformation program and standards applicable to \\nprojects in ColesIt has been used by 30+ Data Science products, 80+ initiatives and continuously improving To prioritise and deliver high value products and initiatives and to improve \\nquality and productivity, AA has established a rigorous Delivery Framework \\nsince 2017\\nInitiation Planning\\nSprint \\nRelease 1\\nProduct Backlog Prioritisation\\n✓ Incremental releases to faster deliver values \\n✓ Stream PI Planning (Quarterly)\\n✓ Plan out Sprints (fortnightly)\\n✓ Keep team on track with daily stand -ups\\n✓ Sprint Showcase\\n✓ Sprint Retrospective  \\n✓ Project & Product Showcase & SteerCo\\n✓ KDDs, Design Patterns, Testing, Defence\\n✓ Track cost, Time and Quality\\n✓ Provide Status Reports\\n✓ Track Project & Product Delivery Metrics\\n✓ Change management\\n✓ Benefit measurement\\n✓ Capture and priorotise features\\n✓ Keep Product backlog up to date   \\nPI Planning\\nContinues Delivery(CD)\\n✓ Planning workshops\\n✓ Create Deliverables\\n✓ Define Integrated Plan\\n✓ Release plan\\n✓ Resource Allocations\\n✓ Define Project Financial Forecast \\n✓ Financial assessment and approval\\n✓ Define Business Needs & High -Level requirement\\n✓ Define and Assess Solution Options\\n✓ Define Benefits\\n✓ Determine Time and Cost\\n✓ Briefing with relevant  LT\\n✓ Take Project to the Innovation Forum\\n✓ Scrum Setup (JIRA, Confluence)\\n✓ Hypothesis customer needs\\n✓ Data Analysis\\n✓ MVP to validate initial idea and demonstrate technical feasibility\\n✓ Test & Learn (Trials)\\n✓ Confirm Analytical Solution✓ Deployment \\n✓ Release Notes\\n✓ Change Request\\nAdvanced Analytics Delivery Framework\\nDiscovery /Seed Funding\\nRadar\\n✓Define Initiative\\n✓Determine Priority\\nAgile ways of working\\nPI Planning\\nSprint \\nPlanning\\nDaily\\nStand -upRetro\\nShowcase\\nProduct \\nBacklog \\nRefinement \\n✓Sprint Retro to identify potential improvement\\n✓Gather lessons learned\\n✓Factor any improvements into the plan for the \\nnext sprint\\n✓Provide a collective view over the status of \\neach individual products and initiatives \\n✓To review how product are tracking against \\nthe roadmap and requested features\\n✓Backlog prioritisation\\n✓Collect and review customer feature request \\n✓Provide an overview on deliverable progress \\nand the planned releases✓Plan out Stream PI (12 weeks time -box)\\n✓Multiple product and project teams are \\ninvolved\\n✓Create alignment on a committed set of \\nobjectives\\n✓Plan out sprints (2 weeks time -box)\\n✓Allow team to deliver high quality work faster \\nand more frequently\\n✓Provide more flexibility to adopt to change \\n✓Keep team on track with Daily Stand -ups\\n✓Synchronise work and report any issue/blocker\\n✓Assist development team to remove \\nimpedimentsWe leverage Agile methodology to increase quality, productivity, adaptability and transparency•AA products and initiatives are tracked in Jira at \\nhigh -level in AA Program board\\n•Stream’s PI board to track deliverables, risks, \\nissues and releases.\\n•Stream’s Scrum board to track sprints, tasks and \\nbugs\\n•Releases and versions are tracked in JIRAJira\\nSprint Burn \\ndownDeliverables \\nhealth Check\\nRisks & \\nIssues Releases and versions AA has started using JIRA since December 2017Agile WoW enabled by having discipline of using artefacts\\n•We track all AA sprints, risks, releases and Jira \\ncomplianceDashboard\\n•Overall RAG status \\n•Brief summary on achievements and milestones\\n•Call out risks and issues\\n•Linked to JiraStatus Report\\nWhat metrics should we collect?How we measure \\nto improve?Step 1\\nIdentify improvement goals\\ni.e. Reduce technical debt by 20%\\nStep 2\\nGenerate questions that define those goals\\ni.e. What is our current level of tech dept? Are we improving quality over time?\\nStep 3\\nIdentify potential measures needed to be collected to answer \\nthose questions\\ni.e. Technical dept density\\nStep 4\\nIntroduce mechanisms for data collection\\ni.e. Capture tech debts in JIRA\\nStep 5\\nCollect , validate and analyse the data and provide feedback to teams for \\ncorrection\\ni.e. Review tech debt density dashboard in JIRA and define action to fix the gaps\\nQuestionsJohan Lequien\\nSenior Change Manager\\nNicole Lock & Michael Kirch\\nFIT Manifesto to C -SuiteThe future of Coles\\nsupported by effective \\nchange management  \\nAssociation of change management \\nprofessionals ACMP \\nGlobal\\nAsia-Pacific\\nPerth\\nEastern \\nAustraliaAlbertaManitoba\\nOntario Quebec\\nVancouverUK\\nBeluxNorway\\nFrance GermanySweden\\nBrazilNigeria\\nSouth AfricaTurkeyUkraine\\nMexico\\nAffiliated ChaptersEmerging ChaptersSaudi Arabia\\nArizona\\nAtlanta\\nCarolinas \\nMetro Denver\\nFlorida\\nHawaii & Pacific Islands\\nMichigan\\nMidwest\\nNew England\\nNorthern California\\nOhio\\nPacific Northwest\\nPhiladelphia\\nSouthern California\\nTennessee\\nTexas\\nUtah\\nWashington D.CMetro & \\nEastern NYHow change management can support the future of ColesEast coast Australia chapter\\nVision\\nTransform the way we manage and receive \\nchange .\\nMission\\n✓Transform the way change is applied to \\ndeliver shareholder value and ROI\\n✓Educate and equip members and \\npartners with tools and techniques \\n✓Enable and embed effective \\ntransformation in the workplace of the \\nfuture .\\n❖ The academy\\n❖ Executive advisory group \\n(thought leadership group)\\n❖ Integrated transformation \\nframeworkWhat makes us DifferentDigitisation is now challenging enterprises to do more than recognize \\nthe needs of their people, but understand and realize how to do better for \\ntheir people at all levels ...\\nHow enterprises enable and \\nmeasure success has a huge \\nimpact on the outcomes for both \\noptimization and the people \\ncentered change. \\nIn the end, affecting success!Current era ‘digital \\ntransformation demand\\' and the \\nneeded “new ways of working\" \\nhas never been more significant \\non the ground for reinventionMany enterprise clients miss the integrated data driven landscape existing across their business pillars!Enterprise future state\\nInnovation maturity\\nIntegrated Agile\\nRelease train\\nValue flow\\nHuman potential\\n•resource skills\\n•needs analysis\\n•\"Dreyfus Model\"\\nSelf-serve \\nmultifaceted \\nlearning\\nENTERPRISE FUTURE STATE is Integrated operations, Lifecycles of Strategic & Continual \\nimprovement in Product, Services and Digital Apps\\nPortfolio investment & prioritisation Cross Division Aligned real time Reporting and Performance Capability\\nEnablement: Extended Foundation of Data Unification, Machine Learning, Automation\\nHarmonisation at the Cloud Level and extended Supply Chain Services and improved automations = Increased AgilityInnovation Maturation Framework aligned with delivery trainsThe modern digital enterprise business ecosystem is one of continuous change, diverse digitisations \\nand modernisations, with increased automation and optimisation that’s driven by machine learning insights.\\nPeople are the continuous resource needing consideration in these key areas...A marked shift in Value Driven Analytics\\nStrategic\\nchange\\nagendaEmployee\\nexperience\\nfocusedLearning & \\ndevelopment\\nvs. adoptionValue &\\nimpact\\ncontinuous\\nimprovementProject\\nto\\nproduct \\nmindsetBusiness \\nreadiness & \\nadoption\\nCHANGING \\nTHE APPROACH\\n“Projects” allow for risk -based \\nunderstanding during delivery \\n“Product” is understood at all \\nlevels of enterprise and speak \\nto the user experienceINTEGRATED AGILE \\nRELEASE TRAIN\\nLeader commitment to \\nnew ways \\nofcollaboratingVALUE FLOW \\nIN AGILITY\\nVisibility of value flow \\ninchange and \\nmodernisationFAIL SCENARIOS OF PEOPLE \\nAND SERVICES\\nPandemic = greater focus on \\nthe role of people in success \\nof changing organisations.DREYFUS \\nMODEL \\nInvestment in human \\ncapital via improved \\naccess to \\nlearning/support, \\nprofessional developmentCHANGING \\nTHE CULTURE\\nAcceptance strategies to \\nhelp make change “stick”.\\nMore ready for \\nemployee and user adoption \\nof new ways of working.153Organisational agility levers\\nfor data and analytics\\n•Companies deal with a high level of change\\nand volatility\\n•We see organizational agility as a key \\ncompetitive advantage to address these \\nchallenges\\n•Organisational agility is the combination of \\nrapid change ability and high -performing \\ntalent and teams\\n•When companies develop organisational\\nagility, they create the transformational fuel to \\ncarry them through\\n•Data and Measurement focus become key \\nenablers in all pillars of the enterpriseOrganisational\\nAgility\\nMust go beyond \\nsurveys & check boxesAdoption & \\nSustainment\\nChange \\nCapability\\nBuildingLeadership \\nAlignmentEngagement & \\nReadinessOrg Design\\n& Workforce\\nStrategy\\nSelf Service \\nLearning \\n&DevelopmentPeople & \\nProcessExperience \\n& Culture\\nData\\n& AnalyticsStrategic\\nChange\\nManagementWorkforce\\nTransformationsRelease (change) management enhancements\\n✓ Release notes upgraded (format, sufficiency and relevance)\\n✓ Standardised change impact assessment introduced to capture detail \\naround business impact more sufficiently and accurately\\n❖ New PI processes to improve change governance, assessment, \\ncommunications, readiness, adoption and outcomes.\\nUnicorn website live\\n✓ Centralised access to updates and support resources.\\n❖ Upcoming iterations –FAQs, tutorials, guides etc.\\nUnicorn Café initiated\\n✓ User community insights, feedback, pulse check.\\n❖ Upcoming iterations –user stories, cases and workshopping Analyses and requirements\\n✓ Change “maturity” level\\n✓ Comprehension, adoption and \\napplication\\n✓ Engagement and communications all \\nlevels\\nMethodology\\n✓ Model, approach, mission\\n✓ Ways of working\\nFramework\\n✓ Tools, templates\\n✓ Stakeholders\\nRoadmaps + schedules\\n✓ All stakeholders, all levelsAnalysis and planning Tactical + quick wins Strategic, broader + longer term\\nBroader\\n✓ aaNews (enhanced format and content) \\n❖ Coles -wide info hub (one -stop shop) in progress\\nStrategic\\n✓ aaAcademy in March –impetus for change\\n•Comprehensive learning/support resources\\n•Product and delivery descriptions\\n•Use cases, figures, infographics\\n•Demo videos (AV loop) and how to guides\\n•FAQs and FYIs\\n•Profile Unicorn and related products/services \\nLonger term\\n❖ Resource rich learning hub and support network\\n❑ Demo sessions, hackathons, monthly challenges, recognitionSetting up our practice, framework and resourcesAA change and communications\\n✓Completed ❖Underway ❑UpcomingSnapshot of our change journey\\nAA tech demo sessions\\nLeadership and SMEsAA Academy \\nStrategic planning and insightsAA Hackathons\\nHacking the minds of our leaders and SMEs \\nto crack to AA code \\nMonthly challenges\\nGames, use case \\nsharing, feedback\\nColes -wide one -stop shop (MVP)\\nSnapshot of our world + gateway to key \\nresourcesReward programs\\nRecognising the super \\nskilled\\nLearning hub and support network\\nOne-stop -shop with extended, enhanced learning \\nand support resources\\n* Initial plan only. Journey and sequencing may change depending on detailed planning. 2022 -Jan2022 -JuneThe interface : key engagement events and outputs (inspiration, insights and education)\\nRelease note \\nenhancements liveUnicorn CafeUnicorn Cafe\\nThe foundations : Information access and management (feedback, assess, iterate)Unicorn one -stop shop\\nIteration #2Unicorn one -stop shop\\nIteration #3Unicorn one -stop shop\\nIteration #4\\nColes -wide one -stop shop (Iteration)\\nSnapshot of our world + gateway to key \\nresourcesUnicorn Cafe\\nRelease change activation \\nStandardised impact assessments, process and governance\\nEnhanced engagement and communicationsUnicorn website live\\nUnicorn Café liveOur CMO vision\\nREFINE EXPERIENCE SUSTAIN\\nOctober NovemberDecember\\nJanuaryFebruary March January February March April May June\\nDeliverables\\n1.Initial set of change Mgt \\ndeliverables (elevator \\npitch, change manifesto)\\n2.Socialise high -level \\nframework (4Ds approach)\\n•Identify maturity level to achieve\\n•Define Change Mgt roadmap\\n•Identifying, choosing and \\nowning the methodology and \\nprocessesDeliverables\\n1.Share success stories \\ninternally \\n2.Create a common CM \\nlanguage, roles and \\nexpectations \\n•Establish governance \\nmodel\\n•Providing support for \\nprojects Deliverables\\n1.Create a resource \\ncenter / toolkit\\n2.Create internal best \\npractice \\n3.Change register/assess\\n•Map contract \\nrequirements and \\nprojects to CM artefacts\\n•Initiate CM portal / \\nsharepoint siteDeliverables\\n1.Ensure internal Change \\nMgt training (via AA \\nAcademy)\\n2.Track and reporting on \\nchange progress \\n•Enhanced Change Mgt \\nmaturity\\n•Indiv Change Mgt \\ndevelopmentPhase 1\\nFoundationsPhase 2\\nOn the radarPhase 3\\nFormalisationPhase 4\\nChange Mgt disciplines\\nQuick wins\\n•aa newsletter\\n•Improved Release note\\n•Quick note on each ProductQuick wins\\n•aa Academy\\n•Lab 288 articles\\n•aa & business bridge enabledQuick wins\\n•Unicorn websiteQuick wins\\n•AA Academy updates\\n•Awareness sessionsHow to move to the next level of our change journey?\\n1. Set up a CM structure \\n2. Decide upon a CM structured \\napproach, tools and \\ntemplates. Assess different \\nmethodologies and pick one. \\n3. Initial governance model \\ndeveloped (few projects/few \\nelements)\\n4. Attend training in Change Mgt \\n5. Apply Change Management \\non some projects in the \\norganisation. Select a few \\nprojects and apply the \\nmethodology and evaluate its \\nusability within the context \\nof the chosen \\nstructure/method. \\n6. Celebrate and share early \\nsuccess stories of applying \\nChange Management on \\nprojects. Make sure the rest \\nof the organisation knows \\nabout the benefits of Change \\nMgt by sharing its successes. Level 0 –No CMO\\n1. Incorporate internal \\nbest practices in \\nmethodology , tools, \\nprocesses and tactics to fit \\nthe organisational culture, \\nproduct model and generally \\n‘what works’ in our aa team.\\n2. Further develop and apply \\nthe governance model to \\nensure that all important \\naa products / teams are \\nassigned the appropriate \\nand right Change \\nManagement resources.\\n3. Integrate Project \\nManagement model with \\nChange Management model \\nto ensure alignment in \\nmethod and execution.Level 2 -Maturing CMO Level 3 -Advanced CMO Level 1 -Initial CMO Level\\n1. Train executives and line \\nmanagers in their change \\nroles in order to move the \\nchange competencies to \\ninclude all roles in change. \\n2. Assess compliance so the \\nselected methodology, tools \\nand templates are used. \\n3. Governance model further \\ndeveloped (more \\nprojects/more elements).\\n4. Introduce methodology for \\nall project leaders in the \\norganisation. \\n5. Set up a process to collect \\nlearnings from change \\ninitiatives with an aim to \\ncreate internal best practices. \\n6. Apply the chosen Change \\nManagement method on \\nmany projects across the \\nbusiness. A typical deliverable: Unicorn one stop page & Cafe\\n15 minutesBreak time\\nHow change management can helpBuilding trust\\nValue long -term \\nrelationshipBe\\nHonestHonour your \\ncommitmentsAdmit when \\nyou’re wrong\\nBe \\ntransparentStand up \\nfor what’s rightShow people\\nthat you careBe \\nHelpfulBe \\nvulnerableCommunicate \\neffectively\\nOptimising our long -term relationship by building trustGroup activity\\nDuration\\n15 minutes\\nWho\\nGroup of 4 (inc. 1 AA person)\\nAim\\nA string of liberating structuresInstructions\\nGo to activity wall + answer \\nthe questions with post -its\\nSet the stage \\nGather Data\\nGenerate insights\\nDecide what to do\\nClose\\n1. What makes AA different and why is this important to \\nacknowledge?\\n2. Why are we here and what does trust (AA and the business) \\nmean for us?\\n3. Which manifestations of trust do we want to see?\\n4. What is the most wrong thing we do now?\\n5. Identify the most serious risks in the future?\\n6. Let’s design our team agreement?\\nHow can we optimise the way we work together?Group activity / the Future of Coles Day 1\\nDuration\\n30 minutes\\nWho\\nGroup of 4 (inc. 1 AA person)\\nAim\\nBusiness roadmaps + priorities \\nfor the next 2 years. Instructions\\nGo to activity wall + answer the \\nquestions with post -its\\nSet the stage \\nGather Data\\nGenerate insights\\nDecide what to do\\nClose\\nDiscuss how we can\\n1. Move from output -focused teams to truly empowered and accountable \\nproduct teams\\n✓ Sharing the broader strategic context with all product teams to have \\nthe big picture\\n2. Move from “Feature Roadmap” to “Business Outcome Roadmap”\\n3. The limitation of what you can know and what you can’t know\\n✓ Frequent collaboration with users and testing product ideas, digging \\ndeeper into their needs\\n✓ Investigating new enabling technologies\\n✓ Tracking industry data and learnings\\n✓ Leaders to trust teams, accept uncertainly and manage risks \\nappropriately.\\nOptimising our confidence and capabilityGroup activity\\nDuration\\n10 minutes\\nWho\\nGroup of 4 (inc. 1 AA person)\\nAim\\nIdentify opportunities for \\ndevelopmentInstructions\\n1.Think about an aspect of your work self you’d like to improve.\\n▪It can be a skill you’re dying to learn.\\n▪It can be a weakness to overcome\\n▪It can be a source of anxiety you’re hoping solve\\n2.Share the following responses with your group\\n▪What’s one skill need or would like to learn?\\n▪If you could change one thing about your work self or work \\nlife, what would it be?\\n▪What do you worry about the most at work?BE VULNERABLE\\nFOCUS ON\\nCreate a space for team \\nmembers to build trust \\nthrough vulnerabilityHow can we optimise the way we work together?Group activity\\nDuration\\n30 minutes\\nWho\\nGroup of 4 (inc. 1 AA person)\\nAim\\nBusiness roadmaps + priorities \\nfor the next 2 years. Instructions\\nGo to activity wall + answer the \\nquestions with post -its\\nSet the stage \\nGather Data\\nGenerate insights\\nDecide what to do\\nClose\\nThink about the following areas and how well AA and the business \\noperate together  in each\\n•Engagement and communications\\n•Design, delivery and release management\\n•Change management, adoption, service and support\\n•Reporting and continuous improvement.\\nAnswer these questions\\n1. What do we (AA and the business) do well?\\n2. What can we do better?\\n•What should we start doing? What should we stop doing?\\n•Where do we start with all this?\\nSam Riethmuller\\nHead of Advanced AnalyticsWrap upThanks for your time and contribution today!\\nWhat we’ve achieved\\n✓ Better understanding of AA’s journey, vision/mission, capability, products, and operations. \\n✓ Better understanding of how we’re strategically aligned with Coles and how we can best partner \\nwith you in transforming the business and customer experience.\\nThe next step in our journey together\\nAA TEAM\\n▪ Round back with summary of insights, outcomes and actions.\\n▪ Build feedback and suggestions into future communications and planning.\\nYOU (OUR GUESTS)\\n▪ Review AA Academy collateral (including today’s PPT pack and recording) in our Teams guest site.\\n▪ Invite us to your forums + help us get into your communications channels.\\n▪ Drive people to the AA internal website (coming soon)\\n▪ Champion data and analytics across Coles and industry.\\nRight now…\\n▪ Quick survey on how we went today.\\n▪ Social drinks and mingle. 130\\nAcademy attendees\\n10\\nBusiness areas\\n4 \\nCapabilities\\n20\\nProducts\\n+'"
            ],
            "application/vnd.google.colaboratory.intrinsic+json": {
              "type": "string"
            }
          },
          "metadata": {},
          "execution_count": 3
        }
      ]
    },
    {
      "cell_type": "code",
      "source": [
        "# We can write it to use it for GPT fine-tunning\n",
        "with open('pdf2text.txt', 'w') as file:\n",
        "    file.write(text)"
      ],
      "metadata": {
        "id": "6c08P3NbEaKt"
      },
      "execution_count": 10,
      "outputs": []
    },
    {
      "cell_type": "code",
      "source": [
        "# 2. Tokenize the text into input-target pairs\n",
        "tokenizer = T5Tokenizer.from_pretrained(\"t5-small\")\n",
        "tokenized_text = tokenizer.tokenize(text)"
      ],
      "metadata": {
        "id": "q8DmkdtXrcNQ"
      },
      "execution_count": null,
      "outputs": []
    },
    {
      "cell_type": "code",
      "source": [
        "len(tokenized_text)"
      ],
      "metadata": {
        "colab": {
          "base_uri": "https://localhost:8080/"
        },
        "id": "bOp0TaSWr4ZP",
        "outputId": "2e4c9ff3-e7bf-4c36-e578-b000a7bab55c"
      },
      "execution_count": 44,
      "outputs": [
        {
          "output_type": "execute_result",
          "data": {
            "text/plain": [
              "26124"
            ]
          },
          "metadata": {},
          "execution_count": 44
        }
      ]
    },
    {
      "cell_type": "code",
      "source": [
        "# Convert token strings to token IDs\n",
        "token_ids = tokenizer.convert_tokens_to_ids(tokenized_text)\n",
        "\n",
        "# Create sequences of length N and predict the N+1 token\n",
        "\n",
        "input_ids = []\n",
        "target_ids = []"
      ],
      "metadata": {
        "id": "Usj2P_pctjKg"
      },
      "execution_count": 7,
      "outputs": []
    },
    {
      "cell_type": "code",
      "source": [
        "SEQUENCE_LENGTH = 50\n",
        "for i in range(0, len(token_ids) - SEQUENCE_LENGTH):\n",
        "    input_ids.append(token_ids[i:i+SEQUENCE_LENGTH])\n",
        "    target_ids.append(token_ids[i+SEQUENCE_LENGTH])\n",
        "\n",
        "# Decode the input IDs to get the input texts\n",
        "input_texts = [tokenizer.decode(ids) for ids in input_ids]\n",
        "target_texts = [tokenizer.decode([tid]) for tid in target_ids]  # Note: tid is wrapped in a list since it's a single token ID"
      ],
      "metadata": {
        "id": "X4rvsMGbttTR"
      },
      "execution_count": 8,
      "outputs": []
    },
    {
      "cell_type": "code",
      "source": [
        "print(len(input_texts))\n",
        "print(input_texts[1])\n",
        "print(target_texts[1])"
      ],
      "metadata": {
        "colab": {
          "base_uri": "https://localhost:8080/"
        },
        "id": "YUSAfbDcuGWT",
        "outputId": "70d96c29-7ca0-44c8-955e-fd6ea96f5625"
      },
      "execution_count": 37,
      "outputs": [
        {
          "output_type": "stream",
          "name": "stdout",
          "text": [
            "52148\n",
            "Creating smarter business and customer experiences together!AA Academy Ready for review Silvio Giorgio General Manager Data & IntelligenceDay 1Ready for review Time Topic Session / sub -topic Speaker 9:00 –9:\n",
            "10\n"
          ]
        }
      ]
    },
    {
      "cell_type": "code",
      "source": [
        "inputs = tokenizer(input_texts, padding='max_length', truncation=True, max_length=SEQUENCE_LENGTH, return_tensors=\"pt\")\n",
        "labels = tokenizer(target_texts, padding='max_length', truncation=True, max_length=SEQUENCE_LENGTH, return_tensors=\"pt\").input_ids\n"
      ],
      "metadata": {
        "id": "5P-Mu2Bg5KPc"
      },
      "execution_count": 9,
      "outputs": []
    },
    {
      "cell_type": "code",
      "source": [
        "inputs"
      ],
      "metadata": {
        "colab": {
          "base_uri": "https://localhost:8080/"
        },
        "id": "btAvXIqL5NTP",
        "outputId": "d3190eb2-9021-419c-ba1b-baa9f900ebc4"
      },
      "execution_count": 46,
      "outputs": [
        {
          "output_type": "execute_result",
          "data": {
            "text/plain": [
              "{'input_ids': tensor([[    3, 18120,  2592,  ...,     3,   104,     1],\n",
              "        [    3, 18120,  2592,  ...,     3,   104,     1],\n",
              "        [ 2592,    49,   268,  ...,  1298,    10,     1],\n",
              "        ...,\n",
              "        [    3,  5498,  3224,  ...,  2197,     1,     0],\n",
              "        [ 3224,   475,    41,  ...,     1,     0,     0],\n",
              "        [  475,    41, 10622,  ...,     1,     0,     0]]), 'attention_mask': tensor([[1, 1, 1,  ..., 1, 1, 1],\n",
              "        [1, 1, 1,  ..., 1, 1, 1],\n",
              "        [1, 1, 1,  ..., 1, 1, 1],\n",
              "        ...,\n",
              "        [1, 1, 1,  ..., 1, 1, 0],\n",
              "        [1, 1, 1,  ..., 1, 0, 0],\n",
              "        [1, 1, 1,  ..., 1, 0, 0]])}"
            ]
          },
          "metadata": {},
          "execution_count": 46
        }
      ]
    },
    {
      "cell_type": "code",
      "source": [
        "# When using the Trainer from the transformers library, the dataset passed to it should be a Dataset object that contains\n",
        "# both the inputs and the labels. Let's create a custom dataset for this purpose:\n",
        "\n",
        "\n",
        "from torch.utils.data import Dataset\n",
        "\n",
        "\n",
        "class TextDataset(Dataset):\n",
        "    def __init__(self, inputs, labels):\n",
        "        self.inputs = inputs\n",
        "        self.labels = labels\n",
        "\n",
        "    def __len__(self):\n",
        "        return len(self.inputs)\n",
        "\n",
        "\n",
        "    def __getitem__(self, idx):\n",
        "      return {\n",
        "          \"input_ids\": self.inputs[\"input_ids\"][idx][:SEQUENCE_LENGTH],  # Truncate or pad as needed\n",
        "          \"attention_mask\": self.inputs[\"attention_mask\"][idx][:SEQUENCE_LENGTH],  # Truncate or pad as needed\n",
        "          \"labels\": self.labels[idx][:SEQUENCE_LENGTH]  # Truncate or pad as needed\n",
        "      }\n",
        "\n",
        "\n",
        "\n",
        "\n",
        "train_dataset = TextDataset(inputs, labels)"
      ],
      "metadata": {
        "id": "-uPgkAyKr0rb"
      },
      "execution_count": 10,
      "outputs": []
    },
    {
      "cell_type": "code",
      "source": [
        "print(len(train_dataset))\n",
        "train_dataset[3]"
      ],
      "metadata": {
        "colab": {
          "base_uri": "https://localhost:8080/"
        },
        "id": "AJvRHIaNvL6L",
        "outputId": "a3c9c7bd-34fc-47bb-aff2-4dd06ef87266"
      },
      "execution_count": 11,
      "outputs": [
        {
          "output_type": "stream",
          "name": "stdout",
          "text": [
            "2\n"
          ]
        },
        {
          "output_type": "execute_result",
          "data": {
            "text/plain": [
              "{'input_ids': tensor([    3,    49,   268,    11,   884,  2704,   544,    55,  5498,  4702,\n",
              "         14476,    21,  1132, 25938,    32,  3156,   127, 10253,  2146,  3440,\n",
              "          2747,     3,   184,  5869,  2825,  1433, 16803,   209, 19915,    63,\n",
              "            21,  1132,  2900, 18059,   679,     7,  1938,     3,    87,   769,\n",
              "             3,    18, 19710, 16778, 23239,     3,   104,  1298,    10,     1]),\n",
              " 'attention_mask': tensor([1, 1, 1, 1, 1, 1, 1, 1, 1, 1, 1, 1, 1, 1, 1, 1, 1, 1, 1, 1, 1, 1, 1, 1,\n",
              "         1, 1, 1, 1, 1, 1, 1, 1, 1, 1, 1, 1, 1, 1, 1, 1, 1, 1, 1, 1, 1, 1, 1, 1,\n",
              "         1, 1]),\n",
              " 'labels': tensor([5242,    1,    0,    0,    0,    0,    0,    0,    0,    0,    0,    0,\n",
              "            0,    0,    0,    0,    0,    0,    0,    0,    0,    0,    0,    0,\n",
              "            0,    0,    0,    0,    0,    0,    0,    0,    0,    0,    0,    0,\n",
              "            0,    0,    0,    0,    0,    0,    0,    0,    0,    0,    0,    0,\n",
              "            0,    0])}"
            ]
          },
          "metadata": {},
          "execution_count": 11
        }
      ]
    },
    {
      "cell_type": "markdown",
      "source": [
        "### Fine tune the model"
      ],
      "metadata": {
        "id": "8IFXyYy-wiKs"
      }
    },
    {
      "cell_type": "code",
      "source": [
        "!pip install accelerate -U\n",
        "!pip install transformers[torch] -U"
      ],
      "metadata": {
        "id": "oEKXRctjxZ7i"
      },
      "execution_count": null,
      "outputs": []
    },
    {
      "cell_type": "code",
      "source": [
        "# 3. Fine-tune T5\n",
        "model = T5ForConditionalGeneration.from_pretrained(\"t5-large\")\n",
        "\n",
        "training_args = TrainingArguments(\n",
        "    output_dir = '/content',\n",
        "    per_device_train_batch_size=8,\n",
        "    num_train_epochs=3,\n",
        "    logging_dir='./logs',\n",
        "    logging_steps=10,\n",
        "    do_train=True,\n",
        "    evaluation_strategy=\"steps\",\n",
        "    eval_steps=50,\n",
        "    save_steps=50,\n",
        "    save_total_limit=2,\n",
        "    push_to_hub=False,\n",
        ")\n",
        "\n",
        "trainer = Trainer(\n",
        "    model=model,\n",
        "    args=training_args,\n",
        "    train_dataset=train_dataset,\n",
        ")\n",
        "\n",
        "trainer.train()"
      ],
      "metadata": {
        "colab": {
          "base_uri": "https://localhost:8080/",
          "height": 208,
          "referenced_widgets": [
            "cf6435b2f6b24c2fb9bde43240463e90",
            "746f56c2df3644c3ab9a6d72a056a320",
            "f8c94a5bf8134c99ab5d809d1fc0ae28",
            "968008a3a7ba4c28a5ff1686e3db797d",
            "b2a01f28309447bca3e78f228e1fcbc4",
            "de6285a12f1844cea7760c55f3182434",
            "bdbba072faf14b569b427c1df820e9b9",
            "754b4c9253f148f6930f00bc4f395c58",
            "cc285d83d8824828a376bf38e5044208",
            "847656b805424c44879a6522441a7ac5",
            "c0754238afc64d0abbca01422976d23b",
            "8115414fb7094d268b08fc3083d1aee6",
            "f2739a6d56ad4fb48e66c47669b97742",
            "719e8fc2bc5044bfba9fbaf0ab272383",
            "31de8c8212804750bf0a53e0ad98ee07",
            "7ef85dfec1f14d94803d327a8754a777",
            "fdab3e7ade0644f38476314e437b5a0a",
            "d641f70d29a0488d87eace89dcfdaef0",
            "730be10f093342d7bf1c5c13568aa019",
            "4a4ac132d8f847de9c94fa3ff58aaefa",
            "25ea932585444bbcaea385ddf28371aa",
            "78e5def7dbd24401aa082e731a2d4e43",
            "30271bdb13594e9d877efc479a246985",
            "5e96bb933fa0444c86f7022fc8de03f3",
            "6805f0ce36b04c7eba5b2928ac3e7d59",
            "6e774ac4ad034a12a325ff9c88861665",
            "6e8dde1d7e5f46b290787a399122d6a4",
            "8d3f2c8f7a7e4115b105a7303510107d",
            "619128d203bd43e3a85797b1242dd3be",
            "89cf4ec09bae401892ef6892a486bc47",
            "c9cf0bf1287646ce850405c73a1a66d1",
            "22f5a5df62f047a8aa024849a43cdb17",
            "8f9a2221b69c4c9fa2bc4c2b6449b115"
          ]
        },
        "id": "aTZwa-D1wmC9",
        "outputId": "5b8c4841-3b63-4557-950f-05f489db968f"
      },
      "execution_count": 12,
      "outputs": [
        {
          "output_type": "display_data",
          "data": {
            "text/plain": [
              "Downloading (…)lve/main/config.json:   0%|          | 0.00/1.21k [00:00<?, ?B/s]"
            ],
            "application/vnd.jupyter.widget-view+json": {
              "version_major": 2,
              "version_minor": 0,
              "model_id": "cf6435b2f6b24c2fb9bde43240463e90"
            }
          },
          "metadata": {}
        },
        {
          "output_type": "display_data",
          "data": {
            "text/plain": [
              "Downloading model.safetensors:   0%|          | 0.00/2.95G [00:00<?, ?B/s]"
            ],
            "application/vnd.jupyter.widget-view+json": {
              "version_major": 2,
              "version_minor": 0,
              "model_id": "8115414fb7094d268b08fc3083d1aee6"
            }
          },
          "metadata": {}
        },
        {
          "output_type": "display_data",
          "data": {
            "text/plain": [
              "Downloading (…)neration_config.json:   0%|          | 0.00/147 [00:00<?, ?B/s]"
            ],
            "application/vnd.jupyter.widget-view+json": {
              "version_major": 2,
              "version_minor": 0,
              "model_id": "30271bdb13594e9d877efc479a246985"
            }
          },
          "metadata": {}
        },
        {
          "output_type": "display_data",
          "data": {
            "text/plain": [
              "<IPython.core.display.HTML object>"
            ],
            "text/html": [
              "\n",
              "    <div>\n",
              "      \n",
              "      <progress value='3' max='3' style='width:300px; height:20px; vertical-align: middle;'></progress>\n",
              "      [3/3 00:13, Epoch 3/3]\n",
              "    </div>\n",
              "    <table border=\"1\" class=\"dataframe\">\n",
              "  <thead>\n",
              " <tr style=\"text-align: left;\">\n",
              "      <th>Step</th>\n",
              "      <th>Training Loss</th>\n",
              "      <th>Validation Loss</th>\n",
              "    </tr>\n",
              "  </thead>\n",
              "  <tbody>\n",
              "  </tbody>\n",
              "</table><p>"
            ]
          },
          "metadata": {}
        },
        {
          "output_type": "execute_result",
          "data": {
            "text/plain": [
              "TrainOutput(global_step=3, training_loss=33.508076985677086, metrics={'train_runtime': 24.2064, 'train_samples_per_second': 0.248, 'train_steps_per_second': 0.124, 'total_flos': 1268582400000.0, 'train_loss': 33.508076985677086, 'epoch': 3.0})"
            ]
          },
          "metadata": {},
          "execution_count": 12
        }
      ]
    },
    {
      "cell_type": "markdown",
      "source": [
        "### Validating fine-tuning by asking questions"
      ],
      "metadata": {
        "id": "WNA4wayq-2kJ"
      }
    },
    {
      "cell_type": "code",
      "source": [
        "question = \"What is AA vision?\"\n",
        "input_ids = tokenizer.encode(question, return_tensors=\"pt\")"
      ],
      "metadata": {
        "id": "hN3pHI80-7fk"
      },
      "execution_count": 17,
      "outputs": []
    },
    {
      "cell_type": "code",
      "source": [
        "# Move model and input to GPU if available\n",
        "# model = model.to(device)\n",
        "# input_ids = input_ids.to(device)\n",
        "\n",
        "# Generate the output token IDs\n",
        "output_ids = model.generate(input_ids,\n",
        "                            do_sample = True,\n",
        "                            max_length=50,\n",
        "                            num_beams=5,\n",
        "                            temperature=0.9)\n",
        "\n",
        "# Decode the output IDs to get the answer\n",
        "answer = tokenizer.decode(output_ids[0], skip_special_tokens=True)\n",
        "print(answer)"
      ],
      "metadata": {
        "colab": {
          "base_uri": "https://localhost:8080/"
        },
        "id": "3TLzlzmrpLCp",
        "outputId": "0134b0be-f982-42a4-e301-4f195701c79c"
      },
      "execution_count": 19,
      "outputs": [
        {
          "output_type": "stream",
          "name": "stdout",
          "text": [
            "? What is AA vision? What is AA vision? What is AA vision?\n"
          ]
        }
      ]
    },
    {
      "cell_type": "markdown",
      "source": [
        "## Fine tuning GPT2"
      ],
      "metadata": {
        "id": "HCecXf_wDG8E"
      }
    },
    {
      "cell_type": "code",
      "source": [
        "import torch\n",
        "from transformers import GPT2Tokenizer, GPT2LMHeadModel, TextDataset, DataCollatorForLanguageModeling, TrainingArguments, Trainer"
      ],
      "metadata": {
        "id": "s-IogcJSDMAK"
      },
      "execution_count": 8,
      "outputs": []
    },
    {
      "cell_type": "code",
      "source": [
        "# Initialize the tokenizer\n",
        "model_name = \"gpt2-medium\"\n",
        "tokenizer = GPT2Tokenizer.from_pretrained(model_name)\n",
        "model = GPT2LMHeadModel.from_pretrained(model_name)"
      ],
      "metadata": {
        "colab": {
          "base_uri": "https://localhost:8080/",
          "height": 177,
          "referenced_widgets": [
            "34b0ada50b8944d88931ced93f86a5e0",
            "2d6ceab8dbc1448bb4e36a15b804b31d",
            "1c42731885874a2294320c09a3941abb",
            "e38e13df8af84cc4b5214ca02acec389",
            "6f319109a022455fab45f27830074218",
            "f808f00ff04b4f38abfc7283bd1fc247",
            "07533941702a44f38f587c9d89e9b1c2",
            "3678b4fc7a0045e98cb70b8f8f83c9ad",
            "5a623aed65c74cbfaf277ccef9c37b84",
            "747bb88447f045108ea03ecbc0b309ca",
            "b18f001f08ac49d58aee19ecdb456ff4",
            "445edaed60e6410d836307761be18d5e",
            "f6c771572fd94d93bfc6a4995f3de699",
            "80bc8d221cf5467d9ce6cd5b3bfc592f",
            "88d5804303464a3bb9521b1198055e63",
            "48f613bb65d54893b18aa7bcedb448ca",
            "6824012316d34eb9ac391f5ef45e87d8",
            "582d7a5c8a454b4b937ffc637723326c",
            "a233b7d6ae924105b4641e01dad65e96",
            "693acadc4d294cfcb28ab6a0a57a1344",
            "94d0d36ee25c44f2b566063827498a01",
            "af8f856072d545709328464ac532e349",
            "6919a2f3113a43d28352d64f7f0aa6d8",
            "2127f51148f24108b45578b33b2ef852",
            "b4df9c52f1224a4c8bc6f7a5413c2a54",
            "9f8e53d0130c4313b7aa4e0b898b427f",
            "5ef6176b731e46f6accc773158393e66",
            "1342be53a06243718ad63fdcbea2de99",
            "be8ce1c180dc48e6b42607c2025c87bf",
            "5a08f93589e041f0b7d802333d333c69",
            "85fc33b8ecba4ae9909e14f758cccaee",
            "fa25f52f73b242d29ce05a973f9313ce",
            "fb0951039a8b4a32bba23410ca5bd097",
            "f58433e7c6544d43ae17957f81872d30",
            "ed12ed8b3ef9484e895229fdf236fdc5",
            "f8826f9df3c5481394bee391d1358501",
            "1a719ce16f6f46f5859cad9f8de356a8",
            "72682e0216e848bfa591d0d7986d9760",
            "8372bd7d567d4e679d5216c73f1c6d26",
            "4834f5d8ac8347849fb780b542d2c678",
            "db433223f07d45a28876ce9f54645e79",
            "0bef402146154d7881a72ca9b9418efb",
            "9ce36ee0245e4b299a63d2a15e2ca1fa",
            "d49cd99dc54e4bff9f2852980c8b974a",
            "8eb156db8ff24105a02993939e748685",
            "a3b16d730cb64171aab63573968ff180",
            "74e45d23ddb441bb9186647af554e03f",
            "88eddcfb13304625b4b2c73e7e09a3f6",
            "eb667cd928c943ee8bb7f1829717c9c4",
            "474f519594334cb59c97af2a3ca72acd",
            "f55ce2bf17ad4042a67077fd252532a8",
            "ac2c1536c2764edf9085e1bc6988b9c4",
            "589353233bfa4e18b13390c316ed10a4",
            "c6a66e061c094979b211983bdc7ca3bd",
            "14d9da0498c44511b988aded972a64e6"
          ]
        },
        "id": "cFeOGReqDX_Z",
        "outputId": "c1d86a68-d792-4e2f-e60b-d0ea47c44a91"
      },
      "execution_count": 9,
      "outputs": [
        {
          "output_type": "display_data",
          "data": {
            "text/plain": [
              "Downloading (…)olve/main/vocab.json:   0%|          | 0.00/1.04M [00:00<?, ?B/s]"
            ],
            "application/vnd.jupyter.widget-view+json": {
              "version_major": 2,
              "version_minor": 0,
              "model_id": "34b0ada50b8944d88931ced93f86a5e0"
            }
          },
          "metadata": {}
        },
        {
          "output_type": "display_data",
          "data": {
            "text/plain": [
              "Downloading (…)olve/main/merges.txt:   0%|          | 0.00/456k [00:00<?, ?B/s]"
            ],
            "application/vnd.jupyter.widget-view+json": {
              "version_major": 2,
              "version_minor": 0,
              "model_id": "445edaed60e6410d836307761be18d5e"
            }
          },
          "metadata": {}
        },
        {
          "output_type": "display_data",
          "data": {
            "text/plain": [
              "Downloading (…)lve/main/config.json:   0%|          | 0.00/718 [00:00<?, ?B/s]"
            ],
            "application/vnd.jupyter.widget-view+json": {
              "version_major": 2,
              "version_minor": 0,
              "model_id": "6919a2f3113a43d28352d64f7f0aa6d8"
            }
          },
          "metadata": {}
        },
        {
          "output_type": "display_data",
          "data": {
            "text/plain": [
              "Downloading model.safetensors:   0%|          | 0.00/1.52G [00:00<?, ?B/s]"
            ],
            "application/vnd.jupyter.widget-view+json": {
              "version_major": 2,
              "version_minor": 0,
              "model_id": "f58433e7c6544d43ae17957f81872d30"
            }
          },
          "metadata": {}
        },
        {
          "output_type": "display_data",
          "data": {
            "text/plain": [
              "Downloading (…)neration_config.json:   0%|          | 0.00/124 [00:00<?, ?B/s]"
            ],
            "application/vnd.jupyter.widget-view+json": {
              "version_major": 2,
              "version_minor": 0,
              "model_id": "8eb156db8ff24105a02993939e748685"
            }
          },
          "metadata": {}
        }
      ]
    },
    {
      "cell_type": "code",
      "source": [
        "# Prepare the dataset\n",
        "\n",
        "train_dataset = TextDataset(\n",
        "    tokenizer=tokenizer,\n",
        "    file_path='/content/pdf2text.txt', # See extract_text_from_pdf() in the earler cells\n",
        "    block_size=128\n",
        ")"
      ],
      "metadata": {
        "colab": {
          "base_uri": "https://localhost:8080/"
        },
        "id": "vhZDqq5GDkZV",
        "outputId": "3f3108ad-976e-45ed-aaa6-4ea7ac40e11f"
      },
      "execution_count": 11,
      "outputs": [
        {
          "output_type": "stream",
          "name": "stderr",
          "text": [
            "/usr/local/lib/python3.10/dist-packages/transformers/data/datasets/language_modeling.py:53: FutureWarning: This dataset will be removed from the library soon, preprocessing should be handled with the 🤗 Datasets library. You can have a look at this example script for pointers: https://github.com/huggingface/transformers/blob/main/examples/pytorch/language-modeling/run_mlm.py\n",
            "  warnings.warn(\n"
          ]
        }
      ]
    },
    {
      "cell_type": "code",
      "source": [
        "data_collator = DataCollatorForLanguageModeling(\n",
        "    tokenizer=tokenizer,\n",
        "    mlm=False\n",
        ")"
      ],
      "metadata": {
        "id": "SRN_LAWLEv9S"
      },
      "execution_count": 12,
      "outputs": []
    },
    {
      "cell_type": "code",
      "source": [
        "# Training configuration\n",
        "training_args = TrainingArguments(\n",
        "    output_dir=\"./gpt2-finetuned\",\n",
        "    overwrite_output_dir=True,\n",
        "    num_train_epochs=1,\n",
        "    per_device_train_batch_size=32,\n",
        "    save_steps=10_000,\n",
        "    save_total_limit=2,\n",
        ")"
      ],
      "metadata": {
        "id": "pqazyl2kE4xT"
      },
      "execution_count": 13,
      "outputs": []
    },
    {
      "cell_type": "code",
      "source": [
        "# fine tune the model\n",
        "trainer = Trainer(\n",
        "    model=model,\n",
        "    args=training_args,\n",
        "    data_collator=data_collator,\n",
        "    train_dataset=train_dataset,\n",
        ")\n",
        "\n",
        "trainer.train()"
      ],
      "metadata": {
        "colab": {
          "base_uri": "https://localhost:8080/",
          "height": 112
        },
        "id": "4V7vE06aE_JN",
        "outputId": "b8ed78ac-7b1f-4b55-ef03-c6d2df98e541"
      },
      "execution_count": 14,
      "outputs": [
        {
          "output_type": "display_data",
          "data": {
            "text/plain": [
              "<IPython.core.display.HTML object>"
            ],
            "text/html": [
              "\n",
              "    <div>\n",
              "      \n",
              "      <progress value='8' max='8' style='width:300px; height:20px; vertical-align: middle;'></progress>\n",
              "      [8/8 05:05, Epoch 1/1]\n",
              "    </div>\n",
              "    <table border=\"1\" class=\"dataframe\">\n",
              "  <thead>\n",
              " <tr style=\"text-align: left;\">\n",
              "      <th>Step</th>\n",
              "      <th>Training Loss</th>\n",
              "    </tr>\n",
              "  </thead>\n",
              "  <tbody>\n",
              "  </tbody>\n",
              "</table><p>"
            ]
          },
          "metadata": {}
        },
        {
          "output_type": "execute_result",
          "data": {
            "text/plain": [
              "TrainOutput(global_step=8, training_loss=4.445819854736328, metrics={'train_runtime': 376.4542, 'train_samples_per_second': 0.6, 'train_steps_per_second': 0.021, 'total_flos': 52471589240832.0, 'train_loss': 4.445819854736328, 'epoch': 1.0})"
            ]
          },
          "metadata": {},
          "execution_count": 14
        }
      ]
    },
    {
      "cell_type": "code",
      "source": [
        "# Save the model and tokenizer after fine-tuning\n",
        "model.save_pretrained(\"./gpt2-finetuned\")\n",
        "tokenizer.save_pretrained(\"./gpt2-finetuned\")"
      ],
      "metadata": {
        "colab": {
          "base_uri": "https://localhost:8080/"
        },
        "id": "QtIUazT0FLvq",
        "outputId": "97cf8b9d-a4d7-4a45-8b2f-7d8054fbfaed"
      },
      "execution_count": 15,
      "outputs": [
        {
          "output_type": "execute_result",
          "data": {
            "text/plain": [
              "('./gpt2-finetuned/tokenizer_config.json',\n",
              " './gpt2-finetuned/special_tokens_map.json',\n",
              " './gpt2-finetuned/vocab.json',\n",
              " './gpt2-finetuned/merges.txt',\n",
              " './gpt2-finetuned/added_tokens.json')"
            ]
          },
          "metadata": {},
          "execution_count": 15
        }
      ]
    },
    {
      "cell_type": "markdown",
      "source": [
        "## Validating the fine-tuning"
      ],
      "metadata": {
        "id": "8yFvtOv_IVBv"
      }
    },
    {
      "cell_type": "code",
      "source": [
        "input_text = \"What is Smarter Forecast team in Coles Advanced Analytics?\"\n",
        "encoding = tokenizer.encode_plus(input_text, return_tensors=\"pt\", max_length=100)\n",
        "input_ids = encoding[\"input_ids\"]\n",
        "attention_mask = encoding[\"attention_mask\"]\n",
        "\n",
        "\n",
        "output = model.generate(input_ids,\n",
        "                        max_length=100,\n",
        "                        num_return_sequences=1,\n",
        "                        attention_mask = attention_mask,\n",
        "                        do_sample = True,\n",
        "                        temperature=0.5)\n",
        "for i, sequence in enumerate(output):\n",
        "    decoded_sequence = tokenizer.decode(sequence, skip_special_tokens=True)\n",
        "    print(f\"Generated Sequence {i + 1}: {decoded_sequence}\")"
      ],
      "metadata": {
        "colab": {
          "base_uri": "https://localhost:8080/"
        },
        "id": "SLvZrE59FdZp",
        "outputId": "febc5c0c-62bd-47fd-95ae-c84aa2e07e04"
      },
      "execution_count": 47,
      "outputs": [
        {
          "output_type": "stream",
          "name": "stderr",
          "text": [
            "Setting `pad_token_id` to `eos_token_id`:50256 for open-end generation.\n"
          ]
        },
        {
          "output_type": "stream",
          "name": "stdout",
          "text": [
            "Generated Sequence 1: What is Smarter Forecast team in Coles Advanced Analytics?\n",
            "\n",
            "The Smarter Forecast team is a group of professional data scientists, data analysts, and data engineers from Coles Advanced Analytics who are working to identify, identify, and improve our business.\n",
            "\n",
            "The Smarter Forecast team is a team of data scientists, data analysts, and data engineers from Coles Advanced Analytics.\n",
            "\n",
            "We are a small group of data scientists, data analysts, and data engineers working to identify\n"
          ]
        }
      ]
    },
    {
      "cell_type": "code",
      "source": [
        "encoding = tokenizer.encode_plus(input_text, return_tensors=\"pt\", max_length=100)\n",
        "encoding"
      ],
      "metadata": {
        "id": "viPCIOT9ZDRw",
        "outputId": "f4fab6e0-f373-48f9-8b94-0f159cc94d18",
        "colab": {
          "base_uri": "https://localhost:8080/"
        }
      },
      "execution_count": 40,
      "outputs": [
        {
          "output_type": "execute_result",
          "data": {
            "text/plain": [
              "{'input_ids': tensor([[ 2061,   318,  2439,  2571,  4558,  2701,  1074,   287,  1623,   274,\n",
              "         13435, 30437,    30]]), 'attention_mask': tensor([[1, 1, 1, 1, 1, 1, 1, 1, 1, 1, 1, 1, 1]])}"
            ]
          },
          "metadata": {},
          "execution_count": 40
        }
      ]
    }
  ],
  "metadata": {
    "kernelspec": {
      "display_name": "Python 3.8 - Pytorch and Tensorflow",
      "language": "python",
      "name": "python38-azureml-pt-tf"
    },
    "language_info": {
      "codemirror_mode": {
        "name": "ipython",
        "version": 3
      },
      "file_extension": ".py",
      "mimetype": "text/x-python",
      "name": "python",
      "nbconvert_exporter": "python",
      "pygments_lexer": "ipython3",
      "version": "3.8.5"
    },
    "orig_nbformat": 4,
    "colab": {
      "provenance": [],
      "machine_shape": "hm"
    },
    "widgets": {
      "application/vnd.jupyter.widget-state+json": {
        "cf6435b2f6b24c2fb9bde43240463e90": {
          "model_module": "@jupyter-widgets/controls",
          "model_name": "HBoxModel",
          "model_module_version": "1.5.0",
          "state": {
            "_dom_classes": [],
            "_model_module": "@jupyter-widgets/controls",
            "_model_module_version": "1.5.0",
            "_model_name": "HBoxModel",
            "_view_count": null,
            "_view_module": "@jupyter-widgets/controls",
            "_view_module_version": "1.5.0",
            "_view_name": "HBoxView",
            "box_style": "",
            "children": [
              "IPY_MODEL_746f56c2df3644c3ab9a6d72a056a320",
              "IPY_MODEL_f8c94a5bf8134c99ab5d809d1fc0ae28",
              "IPY_MODEL_968008a3a7ba4c28a5ff1686e3db797d"
            ],
            "layout": "IPY_MODEL_b2a01f28309447bca3e78f228e1fcbc4"
          }
        },
        "746f56c2df3644c3ab9a6d72a056a320": {
          "model_module": "@jupyter-widgets/controls",
          "model_name": "HTMLModel",
          "model_module_version": "1.5.0",
          "state": {
            "_dom_classes": [],
            "_model_module": "@jupyter-widgets/controls",
            "_model_module_version": "1.5.0",
            "_model_name": "HTMLModel",
            "_view_count": null,
            "_view_module": "@jupyter-widgets/controls",
            "_view_module_version": "1.5.0",
            "_view_name": "HTMLView",
            "description": "",
            "description_tooltip": null,
            "layout": "IPY_MODEL_de6285a12f1844cea7760c55f3182434",
            "placeholder": "​",
            "style": "IPY_MODEL_bdbba072faf14b569b427c1df820e9b9",
            "value": "Downloading (…)lve/main/config.json: 100%"
          }
        },
        "f8c94a5bf8134c99ab5d809d1fc0ae28": {
          "model_module": "@jupyter-widgets/controls",
          "model_name": "FloatProgressModel",
          "model_module_version": "1.5.0",
          "state": {
            "_dom_classes": [],
            "_model_module": "@jupyter-widgets/controls",
            "_model_module_version": "1.5.0",
            "_model_name": "FloatProgressModel",
            "_view_count": null,
            "_view_module": "@jupyter-widgets/controls",
            "_view_module_version": "1.5.0",
            "_view_name": "ProgressView",
            "bar_style": "success",
            "description": "",
            "description_tooltip": null,
            "layout": "IPY_MODEL_754b4c9253f148f6930f00bc4f395c58",
            "max": 1209,
            "min": 0,
            "orientation": "horizontal",
            "style": "IPY_MODEL_cc285d83d8824828a376bf38e5044208",
            "value": 1209
          }
        },
        "968008a3a7ba4c28a5ff1686e3db797d": {
          "model_module": "@jupyter-widgets/controls",
          "model_name": "HTMLModel",
          "model_module_version": "1.5.0",
          "state": {
            "_dom_classes": [],
            "_model_module": "@jupyter-widgets/controls",
            "_model_module_version": "1.5.0",
            "_model_name": "HTMLModel",
            "_view_count": null,
            "_view_module": "@jupyter-widgets/controls",
            "_view_module_version": "1.5.0",
            "_view_name": "HTMLView",
            "description": "",
            "description_tooltip": null,
            "layout": "IPY_MODEL_847656b805424c44879a6522441a7ac5",
            "placeholder": "​",
            "style": "IPY_MODEL_c0754238afc64d0abbca01422976d23b",
            "value": " 1.21k/1.21k [00:00&lt;00:00, 86.9kB/s]"
          }
        },
        "b2a01f28309447bca3e78f228e1fcbc4": {
          "model_module": "@jupyter-widgets/base",
          "model_name": "LayoutModel",
          "model_module_version": "1.2.0",
          "state": {
            "_model_module": "@jupyter-widgets/base",
            "_model_module_version": "1.2.0",
            "_model_name": "LayoutModel",
            "_view_count": null,
            "_view_module": "@jupyter-widgets/base",
            "_view_module_version": "1.2.0",
            "_view_name": "LayoutView",
            "align_content": null,
            "align_items": null,
            "align_self": null,
            "border": null,
            "bottom": null,
            "display": null,
            "flex": null,
            "flex_flow": null,
            "grid_area": null,
            "grid_auto_columns": null,
            "grid_auto_flow": null,
            "grid_auto_rows": null,
            "grid_column": null,
            "grid_gap": null,
            "grid_row": null,
            "grid_template_areas": null,
            "grid_template_columns": null,
            "grid_template_rows": null,
            "height": null,
            "justify_content": null,
            "justify_items": null,
            "left": null,
            "margin": null,
            "max_height": null,
            "max_width": null,
            "min_height": null,
            "min_width": null,
            "object_fit": null,
            "object_position": null,
            "order": null,
            "overflow": null,
            "overflow_x": null,
            "overflow_y": null,
            "padding": null,
            "right": null,
            "top": null,
            "visibility": null,
            "width": null
          }
        },
        "de6285a12f1844cea7760c55f3182434": {
          "model_module": "@jupyter-widgets/base",
          "model_name": "LayoutModel",
          "model_module_version": "1.2.0",
          "state": {
            "_model_module": "@jupyter-widgets/base",
            "_model_module_version": "1.2.0",
            "_model_name": "LayoutModel",
            "_view_count": null,
            "_view_module": "@jupyter-widgets/base",
            "_view_module_version": "1.2.0",
            "_view_name": "LayoutView",
            "align_content": null,
            "align_items": null,
            "align_self": null,
            "border": null,
            "bottom": null,
            "display": null,
            "flex": null,
            "flex_flow": null,
            "grid_area": null,
            "grid_auto_columns": null,
            "grid_auto_flow": null,
            "grid_auto_rows": null,
            "grid_column": null,
            "grid_gap": null,
            "grid_row": null,
            "grid_template_areas": null,
            "grid_template_columns": null,
            "grid_template_rows": null,
            "height": null,
            "justify_content": null,
            "justify_items": null,
            "left": null,
            "margin": null,
            "max_height": null,
            "max_width": null,
            "min_height": null,
            "min_width": null,
            "object_fit": null,
            "object_position": null,
            "order": null,
            "overflow": null,
            "overflow_x": null,
            "overflow_y": null,
            "padding": null,
            "right": null,
            "top": null,
            "visibility": null,
            "width": null
          }
        },
        "bdbba072faf14b569b427c1df820e9b9": {
          "model_module": "@jupyter-widgets/controls",
          "model_name": "DescriptionStyleModel",
          "model_module_version": "1.5.0",
          "state": {
            "_model_module": "@jupyter-widgets/controls",
            "_model_module_version": "1.5.0",
            "_model_name": "DescriptionStyleModel",
            "_view_count": null,
            "_view_module": "@jupyter-widgets/base",
            "_view_module_version": "1.2.0",
            "_view_name": "StyleView",
            "description_width": ""
          }
        },
        "754b4c9253f148f6930f00bc4f395c58": {
          "model_module": "@jupyter-widgets/base",
          "model_name": "LayoutModel",
          "model_module_version": "1.2.0",
          "state": {
            "_model_module": "@jupyter-widgets/base",
            "_model_module_version": "1.2.0",
            "_model_name": "LayoutModel",
            "_view_count": null,
            "_view_module": "@jupyter-widgets/base",
            "_view_module_version": "1.2.0",
            "_view_name": "LayoutView",
            "align_content": null,
            "align_items": null,
            "align_self": null,
            "border": null,
            "bottom": null,
            "display": null,
            "flex": null,
            "flex_flow": null,
            "grid_area": null,
            "grid_auto_columns": null,
            "grid_auto_flow": null,
            "grid_auto_rows": null,
            "grid_column": null,
            "grid_gap": null,
            "grid_row": null,
            "grid_template_areas": null,
            "grid_template_columns": null,
            "grid_template_rows": null,
            "height": null,
            "justify_content": null,
            "justify_items": null,
            "left": null,
            "margin": null,
            "max_height": null,
            "max_width": null,
            "min_height": null,
            "min_width": null,
            "object_fit": null,
            "object_position": null,
            "order": null,
            "overflow": null,
            "overflow_x": null,
            "overflow_y": null,
            "padding": null,
            "right": null,
            "top": null,
            "visibility": null,
            "width": null
          }
        },
        "cc285d83d8824828a376bf38e5044208": {
          "model_module": "@jupyter-widgets/controls",
          "model_name": "ProgressStyleModel",
          "model_module_version": "1.5.0",
          "state": {
            "_model_module": "@jupyter-widgets/controls",
            "_model_module_version": "1.5.0",
            "_model_name": "ProgressStyleModel",
            "_view_count": null,
            "_view_module": "@jupyter-widgets/base",
            "_view_module_version": "1.2.0",
            "_view_name": "StyleView",
            "bar_color": null,
            "description_width": ""
          }
        },
        "847656b805424c44879a6522441a7ac5": {
          "model_module": "@jupyter-widgets/base",
          "model_name": "LayoutModel",
          "model_module_version": "1.2.0",
          "state": {
            "_model_module": "@jupyter-widgets/base",
            "_model_module_version": "1.2.0",
            "_model_name": "LayoutModel",
            "_view_count": null,
            "_view_module": "@jupyter-widgets/base",
            "_view_module_version": "1.2.0",
            "_view_name": "LayoutView",
            "align_content": null,
            "align_items": null,
            "align_self": null,
            "border": null,
            "bottom": null,
            "display": null,
            "flex": null,
            "flex_flow": null,
            "grid_area": null,
            "grid_auto_columns": null,
            "grid_auto_flow": null,
            "grid_auto_rows": null,
            "grid_column": null,
            "grid_gap": null,
            "grid_row": null,
            "grid_template_areas": null,
            "grid_template_columns": null,
            "grid_template_rows": null,
            "height": null,
            "justify_content": null,
            "justify_items": null,
            "left": null,
            "margin": null,
            "max_height": null,
            "max_width": null,
            "min_height": null,
            "min_width": null,
            "object_fit": null,
            "object_position": null,
            "order": null,
            "overflow": null,
            "overflow_x": null,
            "overflow_y": null,
            "padding": null,
            "right": null,
            "top": null,
            "visibility": null,
            "width": null
          }
        },
        "c0754238afc64d0abbca01422976d23b": {
          "model_module": "@jupyter-widgets/controls",
          "model_name": "DescriptionStyleModel",
          "model_module_version": "1.5.0",
          "state": {
            "_model_module": "@jupyter-widgets/controls",
            "_model_module_version": "1.5.0",
            "_model_name": "DescriptionStyleModel",
            "_view_count": null,
            "_view_module": "@jupyter-widgets/base",
            "_view_module_version": "1.2.0",
            "_view_name": "StyleView",
            "description_width": ""
          }
        },
        "8115414fb7094d268b08fc3083d1aee6": {
          "model_module": "@jupyter-widgets/controls",
          "model_name": "HBoxModel",
          "model_module_version": "1.5.0",
          "state": {
            "_dom_classes": [],
            "_model_module": "@jupyter-widgets/controls",
            "_model_module_version": "1.5.0",
            "_model_name": "HBoxModel",
            "_view_count": null,
            "_view_module": "@jupyter-widgets/controls",
            "_view_module_version": "1.5.0",
            "_view_name": "HBoxView",
            "box_style": "",
            "children": [
              "IPY_MODEL_f2739a6d56ad4fb48e66c47669b97742",
              "IPY_MODEL_719e8fc2bc5044bfba9fbaf0ab272383",
              "IPY_MODEL_31de8c8212804750bf0a53e0ad98ee07"
            ],
            "layout": "IPY_MODEL_7ef85dfec1f14d94803d327a8754a777"
          }
        },
        "f2739a6d56ad4fb48e66c47669b97742": {
          "model_module": "@jupyter-widgets/controls",
          "model_name": "HTMLModel",
          "model_module_version": "1.5.0",
          "state": {
            "_dom_classes": [],
            "_model_module": "@jupyter-widgets/controls",
            "_model_module_version": "1.5.0",
            "_model_name": "HTMLModel",
            "_view_count": null,
            "_view_module": "@jupyter-widgets/controls",
            "_view_module_version": "1.5.0",
            "_view_name": "HTMLView",
            "description": "",
            "description_tooltip": null,
            "layout": "IPY_MODEL_fdab3e7ade0644f38476314e437b5a0a",
            "placeholder": "​",
            "style": "IPY_MODEL_d641f70d29a0488d87eace89dcfdaef0",
            "value": "Downloading model.safetensors: 100%"
          }
        },
        "719e8fc2bc5044bfba9fbaf0ab272383": {
          "model_module": "@jupyter-widgets/controls",
          "model_name": "FloatProgressModel",
          "model_module_version": "1.5.0",
          "state": {
            "_dom_classes": [],
            "_model_module": "@jupyter-widgets/controls",
            "_model_module_version": "1.5.0",
            "_model_name": "FloatProgressModel",
            "_view_count": null,
            "_view_module": "@jupyter-widgets/controls",
            "_view_module_version": "1.5.0",
            "_view_name": "ProgressView",
            "bar_style": "success",
            "description": "",
            "description_tooltip": null,
            "layout": "IPY_MODEL_730be10f093342d7bf1c5c13568aa019",
            "max": 2950736730,
            "min": 0,
            "orientation": "horizontal",
            "style": "IPY_MODEL_4a4ac132d8f847de9c94fa3ff58aaefa",
            "value": 2950736730
          }
        },
        "31de8c8212804750bf0a53e0ad98ee07": {
          "model_module": "@jupyter-widgets/controls",
          "model_name": "HTMLModel",
          "model_module_version": "1.5.0",
          "state": {
            "_dom_classes": [],
            "_model_module": "@jupyter-widgets/controls",
            "_model_module_version": "1.5.0",
            "_model_name": "HTMLModel",
            "_view_count": null,
            "_view_module": "@jupyter-widgets/controls",
            "_view_module_version": "1.5.0",
            "_view_name": "HTMLView",
            "description": "",
            "description_tooltip": null,
            "layout": "IPY_MODEL_25ea932585444bbcaea385ddf28371aa",
            "placeholder": "​",
            "style": "IPY_MODEL_78e5def7dbd24401aa082e731a2d4e43",
            "value": " 2.95G/2.95G [00:08&lt;00:00, 348MB/s]"
          }
        },
        "7ef85dfec1f14d94803d327a8754a777": {
          "model_module": "@jupyter-widgets/base",
          "model_name": "LayoutModel",
          "model_module_version": "1.2.0",
          "state": {
            "_model_module": "@jupyter-widgets/base",
            "_model_module_version": "1.2.0",
            "_model_name": "LayoutModel",
            "_view_count": null,
            "_view_module": "@jupyter-widgets/base",
            "_view_module_version": "1.2.0",
            "_view_name": "LayoutView",
            "align_content": null,
            "align_items": null,
            "align_self": null,
            "border": null,
            "bottom": null,
            "display": null,
            "flex": null,
            "flex_flow": null,
            "grid_area": null,
            "grid_auto_columns": null,
            "grid_auto_flow": null,
            "grid_auto_rows": null,
            "grid_column": null,
            "grid_gap": null,
            "grid_row": null,
            "grid_template_areas": null,
            "grid_template_columns": null,
            "grid_template_rows": null,
            "height": null,
            "justify_content": null,
            "justify_items": null,
            "left": null,
            "margin": null,
            "max_height": null,
            "max_width": null,
            "min_height": null,
            "min_width": null,
            "object_fit": null,
            "object_position": null,
            "order": null,
            "overflow": null,
            "overflow_x": null,
            "overflow_y": null,
            "padding": null,
            "right": null,
            "top": null,
            "visibility": null,
            "width": null
          }
        },
        "fdab3e7ade0644f38476314e437b5a0a": {
          "model_module": "@jupyter-widgets/base",
          "model_name": "LayoutModel",
          "model_module_version": "1.2.0",
          "state": {
            "_model_module": "@jupyter-widgets/base",
            "_model_module_version": "1.2.0",
            "_model_name": "LayoutModel",
            "_view_count": null,
            "_view_module": "@jupyter-widgets/base",
            "_view_module_version": "1.2.0",
            "_view_name": "LayoutView",
            "align_content": null,
            "align_items": null,
            "align_self": null,
            "border": null,
            "bottom": null,
            "display": null,
            "flex": null,
            "flex_flow": null,
            "grid_area": null,
            "grid_auto_columns": null,
            "grid_auto_flow": null,
            "grid_auto_rows": null,
            "grid_column": null,
            "grid_gap": null,
            "grid_row": null,
            "grid_template_areas": null,
            "grid_template_columns": null,
            "grid_template_rows": null,
            "height": null,
            "justify_content": null,
            "justify_items": null,
            "left": null,
            "margin": null,
            "max_height": null,
            "max_width": null,
            "min_height": null,
            "min_width": null,
            "object_fit": null,
            "object_position": null,
            "order": null,
            "overflow": null,
            "overflow_x": null,
            "overflow_y": null,
            "padding": null,
            "right": null,
            "top": null,
            "visibility": null,
            "width": null
          }
        },
        "d641f70d29a0488d87eace89dcfdaef0": {
          "model_module": "@jupyter-widgets/controls",
          "model_name": "DescriptionStyleModel",
          "model_module_version": "1.5.0",
          "state": {
            "_model_module": "@jupyter-widgets/controls",
            "_model_module_version": "1.5.0",
            "_model_name": "DescriptionStyleModel",
            "_view_count": null,
            "_view_module": "@jupyter-widgets/base",
            "_view_module_version": "1.2.0",
            "_view_name": "StyleView",
            "description_width": ""
          }
        },
        "730be10f093342d7bf1c5c13568aa019": {
          "model_module": "@jupyter-widgets/base",
          "model_name": "LayoutModel",
          "model_module_version": "1.2.0",
          "state": {
            "_model_module": "@jupyter-widgets/base",
            "_model_module_version": "1.2.0",
            "_model_name": "LayoutModel",
            "_view_count": null,
            "_view_module": "@jupyter-widgets/base",
            "_view_module_version": "1.2.0",
            "_view_name": "LayoutView",
            "align_content": null,
            "align_items": null,
            "align_self": null,
            "border": null,
            "bottom": null,
            "display": null,
            "flex": null,
            "flex_flow": null,
            "grid_area": null,
            "grid_auto_columns": null,
            "grid_auto_flow": null,
            "grid_auto_rows": null,
            "grid_column": null,
            "grid_gap": null,
            "grid_row": null,
            "grid_template_areas": null,
            "grid_template_columns": null,
            "grid_template_rows": null,
            "height": null,
            "justify_content": null,
            "justify_items": null,
            "left": null,
            "margin": null,
            "max_height": null,
            "max_width": null,
            "min_height": null,
            "min_width": null,
            "object_fit": null,
            "object_position": null,
            "order": null,
            "overflow": null,
            "overflow_x": null,
            "overflow_y": null,
            "padding": null,
            "right": null,
            "top": null,
            "visibility": null,
            "width": null
          }
        },
        "4a4ac132d8f847de9c94fa3ff58aaefa": {
          "model_module": "@jupyter-widgets/controls",
          "model_name": "ProgressStyleModel",
          "model_module_version": "1.5.0",
          "state": {
            "_model_module": "@jupyter-widgets/controls",
            "_model_module_version": "1.5.0",
            "_model_name": "ProgressStyleModel",
            "_view_count": null,
            "_view_module": "@jupyter-widgets/base",
            "_view_module_version": "1.2.0",
            "_view_name": "StyleView",
            "bar_color": null,
            "description_width": ""
          }
        },
        "25ea932585444bbcaea385ddf28371aa": {
          "model_module": "@jupyter-widgets/base",
          "model_name": "LayoutModel",
          "model_module_version": "1.2.0",
          "state": {
            "_model_module": "@jupyter-widgets/base",
            "_model_module_version": "1.2.0",
            "_model_name": "LayoutModel",
            "_view_count": null,
            "_view_module": "@jupyter-widgets/base",
            "_view_module_version": "1.2.0",
            "_view_name": "LayoutView",
            "align_content": null,
            "align_items": null,
            "align_self": null,
            "border": null,
            "bottom": null,
            "display": null,
            "flex": null,
            "flex_flow": null,
            "grid_area": null,
            "grid_auto_columns": null,
            "grid_auto_flow": null,
            "grid_auto_rows": null,
            "grid_column": null,
            "grid_gap": null,
            "grid_row": null,
            "grid_template_areas": null,
            "grid_template_columns": null,
            "grid_template_rows": null,
            "height": null,
            "justify_content": null,
            "justify_items": null,
            "left": null,
            "margin": null,
            "max_height": null,
            "max_width": null,
            "min_height": null,
            "min_width": null,
            "object_fit": null,
            "object_position": null,
            "order": null,
            "overflow": null,
            "overflow_x": null,
            "overflow_y": null,
            "padding": null,
            "right": null,
            "top": null,
            "visibility": null,
            "width": null
          }
        },
        "78e5def7dbd24401aa082e731a2d4e43": {
          "model_module": "@jupyter-widgets/controls",
          "model_name": "DescriptionStyleModel",
          "model_module_version": "1.5.0",
          "state": {
            "_model_module": "@jupyter-widgets/controls",
            "_model_module_version": "1.5.0",
            "_model_name": "DescriptionStyleModel",
            "_view_count": null,
            "_view_module": "@jupyter-widgets/base",
            "_view_module_version": "1.2.0",
            "_view_name": "StyleView",
            "description_width": ""
          }
        },
        "30271bdb13594e9d877efc479a246985": {
          "model_module": "@jupyter-widgets/controls",
          "model_name": "HBoxModel",
          "model_module_version": "1.5.0",
          "state": {
            "_dom_classes": [],
            "_model_module": "@jupyter-widgets/controls",
            "_model_module_version": "1.5.0",
            "_model_name": "HBoxModel",
            "_view_count": null,
            "_view_module": "@jupyter-widgets/controls",
            "_view_module_version": "1.5.0",
            "_view_name": "HBoxView",
            "box_style": "",
            "children": [
              "IPY_MODEL_5e96bb933fa0444c86f7022fc8de03f3",
              "IPY_MODEL_6805f0ce36b04c7eba5b2928ac3e7d59",
              "IPY_MODEL_6e774ac4ad034a12a325ff9c88861665"
            ],
            "layout": "IPY_MODEL_6e8dde1d7e5f46b290787a399122d6a4"
          }
        },
        "5e96bb933fa0444c86f7022fc8de03f3": {
          "model_module": "@jupyter-widgets/controls",
          "model_name": "HTMLModel",
          "model_module_version": "1.5.0",
          "state": {
            "_dom_classes": [],
            "_model_module": "@jupyter-widgets/controls",
            "_model_module_version": "1.5.0",
            "_model_name": "HTMLModel",
            "_view_count": null,
            "_view_module": "@jupyter-widgets/controls",
            "_view_module_version": "1.5.0",
            "_view_name": "HTMLView",
            "description": "",
            "description_tooltip": null,
            "layout": "IPY_MODEL_8d3f2c8f7a7e4115b105a7303510107d",
            "placeholder": "​",
            "style": "IPY_MODEL_619128d203bd43e3a85797b1242dd3be",
            "value": "Downloading (…)neration_config.json: 100%"
          }
        },
        "6805f0ce36b04c7eba5b2928ac3e7d59": {
          "model_module": "@jupyter-widgets/controls",
          "model_name": "FloatProgressModel",
          "model_module_version": "1.5.0",
          "state": {
            "_dom_classes": [],
            "_model_module": "@jupyter-widgets/controls",
            "_model_module_version": "1.5.0",
            "_model_name": "FloatProgressModel",
            "_view_count": null,
            "_view_module": "@jupyter-widgets/controls",
            "_view_module_version": "1.5.0",
            "_view_name": "ProgressView",
            "bar_style": "success",
            "description": "",
            "description_tooltip": null,
            "layout": "IPY_MODEL_89cf4ec09bae401892ef6892a486bc47",
            "max": 147,
            "min": 0,
            "orientation": "horizontal",
            "style": "IPY_MODEL_c9cf0bf1287646ce850405c73a1a66d1",
            "value": 147
          }
        },
        "6e774ac4ad034a12a325ff9c88861665": {
          "model_module": "@jupyter-widgets/controls",
          "model_name": "HTMLModel",
          "model_module_version": "1.5.0",
          "state": {
            "_dom_classes": [],
            "_model_module": "@jupyter-widgets/controls",
            "_model_module_version": "1.5.0",
            "_model_name": "HTMLModel",
            "_view_count": null,
            "_view_module": "@jupyter-widgets/controls",
            "_view_module_version": "1.5.0",
            "_view_name": "HTMLView",
            "description": "",
            "description_tooltip": null,
            "layout": "IPY_MODEL_22f5a5df62f047a8aa024849a43cdb17",
            "placeholder": "​",
            "style": "IPY_MODEL_8f9a2221b69c4c9fa2bc4c2b6449b115",
            "value": " 147/147 [00:00&lt;00:00, 8.24kB/s]"
          }
        },
        "6e8dde1d7e5f46b290787a399122d6a4": {
          "model_module": "@jupyter-widgets/base",
          "model_name": "LayoutModel",
          "model_module_version": "1.2.0",
          "state": {
            "_model_module": "@jupyter-widgets/base",
            "_model_module_version": "1.2.0",
            "_model_name": "LayoutModel",
            "_view_count": null,
            "_view_module": "@jupyter-widgets/base",
            "_view_module_version": "1.2.0",
            "_view_name": "LayoutView",
            "align_content": null,
            "align_items": null,
            "align_self": null,
            "border": null,
            "bottom": null,
            "display": null,
            "flex": null,
            "flex_flow": null,
            "grid_area": null,
            "grid_auto_columns": null,
            "grid_auto_flow": null,
            "grid_auto_rows": null,
            "grid_column": null,
            "grid_gap": null,
            "grid_row": null,
            "grid_template_areas": null,
            "grid_template_columns": null,
            "grid_template_rows": null,
            "height": null,
            "justify_content": null,
            "justify_items": null,
            "left": null,
            "margin": null,
            "max_height": null,
            "max_width": null,
            "min_height": null,
            "min_width": null,
            "object_fit": null,
            "object_position": null,
            "order": null,
            "overflow": null,
            "overflow_x": null,
            "overflow_y": null,
            "padding": null,
            "right": null,
            "top": null,
            "visibility": null,
            "width": null
          }
        },
        "8d3f2c8f7a7e4115b105a7303510107d": {
          "model_module": "@jupyter-widgets/base",
          "model_name": "LayoutModel",
          "model_module_version": "1.2.0",
          "state": {
            "_model_module": "@jupyter-widgets/base",
            "_model_module_version": "1.2.0",
            "_model_name": "LayoutModel",
            "_view_count": null,
            "_view_module": "@jupyter-widgets/base",
            "_view_module_version": "1.2.0",
            "_view_name": "LayoutView",
            "align_content": null,
            "align_items": null,
            "align_self": null,
            "border": null,
            "bottom": null,
            "display": null,
            "flex": null,
            "flex_flow": null,
            "grid_area": null,
            "grid_auto_columns": null,
            "grid_auto_flow": null,
            "grid_auto_rows": null,
            "grid_column": null,
            "grid_gap": null,
            "grid_row": null,
            "grid_template_areas": null,
            "grid_template_columns": null,
            "grid_template_rows": null,
            "height": null,
            "justify_content": null,
            "justify_items": null,
            "left": null,
            "margin": null,
            "max_height": null,
            "max_width": null,
            "min_height": null,
            "min_width": null,
            "object_fit": null,
            "object_position": null,
            "order": null,
            "overflow": null,
            "overflow_x": null,
            "overflow_y": null,
            "padding": null,
            "right": null,
            "top": null,
            "visibility": null,
            "width": null
          }
        },
        "619128d203bd43e3a85797b1242dd3be": {
          "model_module": "@jupyter-widgets/controls",
          "model_name": "DescriptionStyleModel",
          "model_module_version": "1.5.0",
          "state": {
            "_model_module": "@jupyter-widgets/controls",
            "_model_module_version": "1.5.0",
            "_model_name": "DescriptionStyleModel",
            "_view_count": null,
            "_view_module": "@jupyter-widgets/base",
            "_view_module_version": "1.2.0",
            "_view_name": "StyleView",
            "description_width": ""
          }
        },
        "89cf4ec09bae401892ef6892a486bc47": {
          "model_module": "@jupyter-widgets/base",
          "model_name": "LayoutModel",
          "model_module_version": "1.2.0",
          "state": {
            "_model_module": "@jupyter-widgets/base",
            "_model_module_version": "1.2.0",
            "_model_name": "LayoutModel",
            "_view_count": null,
            "_view_module": "@jupyter-widgets/base",
            "_view_module_version": "1.2.0",
            "_view_name": "LayoutView",
            "align_content": null,
            "align_items": null,
            "align_self": null,
            "border": null,
            "bottom": null,
            "display": null,
            "flex": null,
            "flex_flow": null,
            "grid_area": null,
            "grid_auto_columns": null,
            "grid_auto_flow": null,
            "grid_auto_rows": null,
            "grid_column": null,
            "grid_gap": null,
            "grid_row": null,
            "grid_template_areas": null,
            "grid_template_columns": null,
            "grid_template_rows": null,
            "height": null,
            "justify_content": null,
            "justify_items": null,
            "left": null,
            "margin": null,
            "max_height": null,
            "max_width": null,
            "min_height": null,
            "min_width": null,
            "object_fit": null,
            "object_position": null,
            "order": null,
            "overflow": null,
            "overflow_x": null,
            "overflow_y": null,
            "padding": null,
            "right": null,
            "top": null,
            "visibility": null,
            "width": null
          }
        },
        "c9cf0bf1287646ce850405c73a1a66d1": {
          "model_module": "@jupyter-widgets/controls",
          "model_name": "ProgressStyleModel",
          "model_module_version": "1.5.0",
          "state": {
            "_model_module": "@jupyter-widgets/controls",
            "_model_module_version": "1.5.0",
            "_model_name": "ProgressStyleModel",
            "_view_count": null,
            "_view_module": "@jupyter-widgets/base",
            "_view_module_version": "1.2.0",
            "_view_name": "StyleView",
            "bar_color": null,
            "description_width": ""
          }
        },
        "22f5a5df62f047a8aa024849a43cdb17": {
          "model_module": "@jupyter-widgets/base",
          "model_name": "LayoutModel",
          "model_module_version": "1.2.0",
          "state": {
            "_model_module": "@jupyter-widgets/base",
            "_model_module_version": "1.2.0",
            "_model_name": "LayoutModel",
            "_view_count": null,
            "_view_module": "@jupyter-widgets/base",
            "_view_module_version": "1.2.0",
            "_view_name": "LayoutView",
            "align_content": null,
            "align_items": null,
            "align_self": null,
            "border": null,
            "bottom": null,
            "display": null,
            "flex": null,
            "flex_flow": null,
            "grid_area": null,
            "grid_auto_columns": null,
            "grid_auto_flow": null,
            "grid_auto_rows": null,
            "grid_column": null,
            "grid_gap": null,
            "grid_row": null,
            "grid_template_areas": null,
            "grid_template_columns": null,
            "grid_template_rows": null,
            "height": null,
            "justify_content": null,
            "justify_items": null,
            "left": null,
            "margin": null,
            "max_height": null,
            "max_width": null,
            "min_height": null,
            "min_width": null,
            "object_fit": null,
            "object_position": null,
            "order": null,
            "overflow": null,
            "overflow_x": null,
            "overflow_y": null,
            "padding": null,
            "right": null,
            "top": null,
            "visibility": null,
            "width": null
          }
        },
        "8f9a2221b69c4c9fa2bc4c2b6449b115": {
          "model_module": "@jupyter-widgets/controls",
          "model_name": "DescriptionStyleModel",
          "model_module_version": "1.5.0",
          "state": {
            "_model_module": "@jupyter-widgets/controls",
            "_model_module_version": "1.5.0",
            "_model_name": "DescriptionStyleModel",
            "_view_count": null,
            "_view_module": "@jupyter-widgets/base",
            "_view_module_version": "1.2.0",
            "_view_name": "StyleView",
            "description_width": ""
          }
        },
        "34b0ada50b8944d88931ced93f86a5e0": {
          "model_module": "@jupyter-widgets/controls",
          "model_name": "HBoxModel",
          "model_module_version": "1.5.0",
          "state": {
            "_dom_classes": [],
            "_model_module": "@jupyter-widgets/controls",
            "_model_module_version": "1.5.0",
            "_model_name": "HBoxModel",
            "_view_count": null,
            "_view_module": "@jupyter-widgets/controls",
            "_view_module_version": "1.5.0",
            "_view_name": "HBoxView",
            "box_style": "",
            "children": [
              "IPY_MODEL_2d6ceab8dbc1448bb4e36a15b804b31d",
              "IPY_MODEL_1c42731885874a2294320c09a3941abb",
              "IPY_MODEL_e38e13df8af84cc4b5214ca02acec389"
            ],
            "layout": "IPY_MODEL_6f319109a022455fab45f27830074218"
          }
        },
        "2d6ceab8dbc1448bb4e36a15b804b31d": {
          "model_module": "@jupyter-widgets/controls",
          "model_name": "HTMLModel",
          "model_module_version": "1.5.0",
          "state": {
            "_dom_classes": [],
            "_model_module": "@jupyter-widgets/controls",
            "_model_module_version": "1.5.0",
            "_model_name": "HTMLModel",
            "_view_count": null,
            "_view_module": "@jupyter-widgets/controls",
            "_view_module_version": "1.5.0",
            "_view_name": "HTMLView",
            "description": "",
            "description_tooltip": null,
            "layout": "IPY_MODEL_f808f00ff04b4f38abfc7283bd1fc247",
            "placeholder": "​",
            "style": "IPY_MODEL_07533941702a44f38f587c9d89e9b1c2",
            "value": "Downloading (…)olve/main/vocab.json: 100%"
          }
        },
        "1c42731885874a2294320c09a3941abb": {
          "model_module": "@jupyter-widgets/controls",
          "model_name": "FloatProgressModel",
          "model_module_version": "1.5.0",
          "state": {
            "_dom_classes": [],
            "_model_module": "@jupyter-widgets/controls",
            "_model_module_version": "1.5.0",
            "_model_name": "FloatProgressModel",
            "_view_count": null,
            "_view_module": "@jupyter-widgets/controls",
            "_view_module_version": "1.5.0",
            "_view_name": "ProgressView",
            "bar_style": "success",
            "description": "",
            "description_tooltip": null,
            "layout": "IPY_MODEL_3678b4fc7a0045e98cb70b8f8f83c9ad",
            "max": 1042301,
            "min": 0,
            "orientation": "horizontal",
            "style": "IPY_MODEL_5a623aed65c74cbfaf277ccef9c37b84",
            "value": 1042301
          }
        },
        "e38e13df8af84cc4b5214ca02acec389": {
          "model_module": "@jupyter-widgets/controls",
          "model_name": "HTMLModel",
          "model_module_version": "1.5.0",
          "state": {
            "_dom_classes": [],
            "_model_module": "@jupyter-widgets/controls",
            "_model_module_version": "1.5.0",
            "_model_name": "HTMLModel",
            "_view_count": null,
            "_view_module": "@jupyter-widgets/controls",
            "_view_module_version": "1.5.0",
            "_view_name": "HTMLView",
            "description": "",
            "description_tooltip": null,
            "layout": "IPY_MODEL_747bb88447f045108ea03ecbc0b309ca",
            "placeholder": "​",
            "style": "IPY_MODEL_b18f001f08ac49d58aee19ecdb456ff4",
            "value": " 1.04M/1.04M [00:00&lt;00:00, 9.01MB/s]"
          }
        },
        "6f319109a022455fab45f27830074218": {
          "model_module": "@jupyter-widgets/base",
          "model_name": "LayoutModel",
          "model_module_version": "1.2.0",
          "state": {
            "_model_module": "@jupyter-widgets/base",
            "_model_module_version": "1.2.0",
            "_model_name": "LayoutModel",
            "_view_count": null,
            "_view_module": "@jupyter-widgets/base",
            "_view_module_version": "1.2.0",
            "_view_name": "LayoutView",
            "align_content": null,
            "align_items": null,
            "align_self": null,
            "border": null,
            "bottom": null,
            "display": null,
            "flex": null,
            "flex_flow": null,
            "grid_area": null,
            "grid_auto_columns": null,
            "grid_auto_flow": null,
            "grid_auto_rows": null,
            "grid_column": null,
            "grid_gap": null,
            "grid_row": null,
            "grid_template_areas": null,
            "grid_template_columns": null,
            "grid_template_rows": null,
            "height": null,
            "justify_content": null,
            "justify_items": null,
            "left": null,
            "margin": null,
            "max_height": null,
            "max_width": null,
            "min_height": null,
            "min_width": null,
            "object_fit": null,
            "object_position": null,
            "order": null,
            "overflow": null,
            "overflow_x": null,
            "overflow_y": null,
            "padding": null,
            "right": null,
            "top": null,
            "visibility": null,
            "width": null
          }
        },
        "f808f00ff04b4f38abfc7283bd1fc247": {
          "model_module": "@jupyter-widgets/base",
          "model_name": "LayoutModel",
          "model_module_version": "1.2.0",
          "state": {
            "_model_module": "@jupyter-widgets/base",
            "_model_module_version": "1.2.0",
            "_model_name": "LayoutModel",
            "_view_count": null,
            "_view_module": "@jupyter-widgets/base",
            "_view_module_version": "1.2.0",
            "_view_name": "LayoutView",
            "align_content": null,
            "align_items": null,
            "align_self": null,
            "border": null,
            "bottom": null,
            "display": null,
            "flex": null,
            "flex_flow": null,
            "grid_area": null,
            "grid_auto_columns": null,
            "grid_auto_flow": null,
            "grid_auto_rows": null,
            "grid_column": null,
            "grid_gap": null,
            "grid_row": null,
            "grid_template_areas": null,
            "grid_template_columns": null,
            "grid_template_rows": null,
            "height": null,
            "justify_content": null,
            "justify_items": null,
            "left": null,
            "margin": null,
            "max_height": null,
            "max_width": null,
            "min_height": null,
            "min_width": null,
            "object_fit": null,
            "object_position": null,
            "order": null,
            "overflow": null,
            "overflow_x": null,
            "overflow_y": null,
            "padding": null,
            "right": null,
            "top": null,
            "visibility": null,
            "width": null
          }
        },
        "07533941702a44f38f587c9d89e9b1c2": {
          "model_module": "@jupyter-widgets/controls",
          "model_name": "DescriptionStyleModel",
          "model_module_version": "1.5.0",
          "state": {
            "_model_module": "@jupyter-widgets/controls",
            "_model_module_version": "1.5.0",
            "_model_name": "DescriptionStyleModel",
            "_view_count": null,
            "_view_module": "@jupyter-widgets/base",
            "_view_module_version": "1.2.0",
            "_view_name": "StyleView",
            "description_width": ""
          }
        },
        "3678b4fc7a0045e98cb70b8f8f83c9ad": {
          "model_module": "@jupyter-widgets/base",
          "model_name": "LayoutModel",
          "model_module_version": "1.2.0",
          "state": {
            "_model_module": "@jupyter-widgets/base",
            "_model_module_version": "1.2.0",
            "_model_name": "LayoutModel",
            "_view_count": null,
            "_view_module": "@jupyter-widgets/base",
            "_view_module_version": "1.2.0",
            "_view_name": "LayoutView",
            "align_content": null,
            "align_items": null,
            "align_self": null,
            "border": null,
            "bottom": null,
            "display": null,
            "flex": null,
            "flex_flow": null,
            "grid_area": null,
            "grid_auto_columns": null,
            "grid_auto_flow": null,
            "grid_auto_rows": null,
            "grid_column": null,
            "grid_gap": null,
            "grid_row": null,
            "grid_template_areas": null,
            "grid_template_columns": null,
            "grid_template_rows": null,
            "height": null,
            "justify_content": null,
            "justify_items": null,
            "left": null,
            "margin": null,
            "max_height": null,
            "max_width": null,
            "min_height": null,
            "min_width": null,
            "object_fit": null,
            "object_position": null,
            "order": null,
            "overflow": null,
            "overflow_x": null,
            "overflow_y": null,
            "padding": null,
            "right": null,
            "top": null,
            "visibility": null,
            "width": null
          }
        },
        "5a623aed65c74cbfaf277ccef9c37b84": {
          "model_module": "@jupyter-widgets/controls",
          "model_name": "ProgressStyleModel",
          "model_module_version": "1.5.0",
          "state": {
            "_model_module": "@jupyter-widgets/controls",
            "_model_module_version": "1.5.0",
            "_model_name": "ProgressStyleModel",
            "_view_count": null,
            "_view_module": "@jupyter-widgets/base",
            "_view_module_version": "1.2.0",
            "_view_name": "StyleView",
            "bar_color": null,
            "description_width": ""
          }
        },
        "747bb88447f045108ea03ecbc0b309ca": {
          "model_module": "@jupyter-widgets/base",
          "model_name": "LayoutModel",
          "model_module_version": "1.2.0",
          "state": {
            "_model_module": "@jupyter-widgets/base",
            "_model_module_version": "1.2.0",
            "_model_name": "LayoutModel",
            "_view_count": null,
            "_view_module": "@jupyter-widgets/base",
            "_view_module_version": "1.2.0",
            "_view_name": "LayoutView",
            "align_content": null,
            "align_items": null,
            "align_self": null,
            "border": null,
            "bottom": null,
            "display": null,
            "flex": null,
            "flex_flow": null,
            "grid_area": null,
            "grid_auto_columns": null,
            "grid_auto_flow": null,
            "grid_auto_rows": null,
            "grid_column": null,
            "grid_gap": null,
            "grid_row": null,
            "grid_template_areas": null,
            "grid_template_columns": null,
            "grid_template_rows": null,
            "height": null,
            "justify_content": null,
            "justify_items": null,
            "left": null,
            "margin": null,
            "max_height": null,
            "max_width": null,
            "min_height": null,
            "min_width": null,
            "object_fit": null,
            "object_position": null,
            "order": null,
            "overflow": null,
            "overflow_x": null,
            "overflow_y": null,
            "padding": null,
            "right": null,
            "top": null,
            "visibility": null,
            "width": null
          }
        },
        "b18f001f08ac49d58aee19ecdb456ff4": {
          "model_module": "@jupyter-widgets/controls",
          "model_name": "DescriptionStyleModel",
          "model_module_version": "1.5.0",
          "state": {
            "_model_module": "@jupyter-widgets/controls",
            "_model_module_version": "1.5.0",
            "_model_name": "DescriptionStyleModel",
            "_view_count": null,
            "_view_module": "@jupyter-widgets/base",
            "_view_module_version": "1.2.0",
            "_view_name": "StyleView",
            "description_width": ""
          }
        },
        "445edaed60e6410d836307761be18d5e": {
          "model_module": "@jupyter-widgets/controls",
          "model_name": "HBoxModel",
          "model_module_version": "1.5.0",
          "state": {
            "_dom_classes": [],
            "_model_module": "@jupyter-widgets/controls",
            "_model_module_version": "1.5.0",
            "_model_name": "HBoxModel",
            "_view_count": null,
            "_view_module": "@jupyter-widgets/controls",
            "_view_module_version": "1.5.0",
            "_view_name": "HBoxView",
            "box_style": "",
            "children": [
              "IPY_MODEL_f6c771572fd94d93bfc6a4995f3de699",
              "IPY_MODEL_80bc8d221cf5467d9ce6cd5b3bfc592f",
              "IPY_MODEL_88d5804303464a3bb9521b1198055e63"
            ],
            "layout": "IPY_MODEL_48f613bb65d54893b18aa7bcedb448ca"
          }
        },
        "f6c771572fd94d93bfc6a4995f3de699": {
          "model_module": "@jupyter-widgets/controls",
          "model_name": "HTMLModel",
          "model_module_version": "1.5.0",
          "state": {
            "_dom_classes": [],
            "_model_module": "@jupyter-widgets/controls",
            "_model_module_version": "1.5.0",
            "_model_name": "HTMLModel",
            "_view_count": null,
            "_view_module": "@jupyter-widgets/controls",
            "_view_module_version": "1.5.0",
            "_view_name": "HTMLView",
            "description": "",
            "description_tooltip": null,
            "layout": "IPY_MODEL_6824012316d34eb9ac391f5ef45e87d8",
            "placeholder": "​",
            "style": "IPY_MODEL_582d7a5c8a454b4b937ffc637723326c",
            "value": "Downloading (…)olve/main/merges.txt: 100%"
          }
        },
        "80bc8d221cf5467d9ce6cd5b3bfc592f": {
          "model_module": "@jupyter-widgets/controls",
          "model_name": "FloatProgressModel",
          "model_module_version": "1.5.0",
          "state": {
            "_dom_classes": [],
            "_model_module": "@jupyter-widgets/controls",
            "_model_module_version": "1.5.0",
            "_model_name": "FloatProgressModel",
            "_view_count": null,
            "_view_module": "@jupyter-widgets/controls",
            "_view_module_version": "1.5.0",
            "_view_name": "ProgressView",
            "bar_style": "success",
            "description": "",
            "description_tooltip": null,
            "layout": "IPY_MODEL_a233b7d6ae924105b4641e01dad65e96",
            "max": 456318,
            "min": 0,
            "orientation": "horizontal",
            "style": "IPY_MODEL_693acadc4d294cfcb28ab6a0a57a1344",
            "value": 456318
          }
        },
        "88d5804303464a3bb9521b1198055e63": {
          "model_module": "@jupyter-widgets/controls",
          "model_name": "HTMLModel",
          "model_module_version": "1.5.0",
          "state": {
            "_dom_classes": [],
            "_model_module": "@jupyter-widgets/controls",
            "_model_module_version": "1.5.0",
            "_model_name": "HTMLModel",
            "_view_count": null,
            "_view_module": "@jupyter-widgets/controls",
            "_view_module_version": "1.5.0",
            "_view_name": "HTMLView",
            "description": "",
            "description_tooltip": null,
            "layout": "IPY_MODEL_94d0d36ee25c44f2b566063827498a01",
            "placeholder": "​",
            "style": "IPY_MODEL_af8f856072d545709328464ac532e349",
            "value": " 456k/456k [00:00&lt;00:00, 8.86MB/s]"
          }
        },
        "48f613bb65d54893b18aa7bcedb448ca": {
          "model_module": "@jupyter-widgets/base",
          "model_name": "LayoutModel",
          "model_module_version": "1.2.0",
          "state": {
            "_model_module": "@jupyter-widgets/base",
            "_model_module_version": "1.2.0",
            "_model_name": "LayoutModel",
            "_view_count": null,
            "_view_module": "@jupyter-widgets/base",
            "_view_module_version": "1.2.0",
            "_view_name": "LayoutView",
            "align_content": null,
            "align_items": null,
            "align_self": null,
            "border": null,
            "bottom": null,
            "display": null,
            "flex": null,
            "flex_flow": null,
            "grid_area": null,
            "grid_auto_columns": null,
            "grid_auto_flow": null,
            "grid_auto_rows": null,
            "grid_column": null,
            "grid_gap": null,
            "grid_row": null,
            "grid_template_areas": null,
            "grid_template_columns": null,
            "grid_template_rows": null,
            "height": null,
            "justify_content": null,
            "justify_items": null,
            "left": null,
            "margin": null,
            "max_height": null,
            "max_width": null,
            "min_height": null,
            "min_width": null,
            "object_fit": null,
            "object_position": null,
            "order": null,
            "overflow": null,
            "overflow_x": null,
            "overflow_y": null,
            "padding": null,
            "right": null,
            "top": null,
            "visibility": null,
            "width": null
          }
        },
        "6824012316d34eb9ac391f5ef45e87d8": {
          "model_module": "@jupyter-widgets/base",
          "model_name": "LayoutModel",
          "model_module_version": "1.2.0",
          "state": {
            "_model_module": "@jupyter-widgets/base",
            "_model_module_version": "1.2.0",
            "_model_name": "LayoutModel",
            "_view_count": null,
            "_view_module": "@jupyter-widgets/base",
            "_view_module_version": "1.2.0",
            "_view_name": "LayoutView",
            "align_content": null,
            "align_items": null,
            "align_self": null,
            "border": null,
            "bottom": null,
            "display": null,
            "flex": null,
            "flex_flow": null,
            "grid_area": null,
            "grid_auto_columns": null,
            "grid_auto_flow": null,
            "grid_auto_rows": null,
            "grid_column": null,
            "grid_gap": null,
            "grid_row": null,
            "grid_template_areas": null,
            "grid_template_columns": null,
            "grid_template_rows": null,
            "height": null,
            "justify_content": null,
            "justify_items": null,
            "left": null,
            "margin": null,
            "max_height": null,
            "max_width": null,
            "min_height": null,
            "min_width": null,
            "object_fit": null,
            "object_position": null,
            "order": null,
            "overflow": null,
            "overflow_x": null,
            "overflow_y": null,
            "padding": null,
            "right": null,
            "top": null,
            "visibility": null,
            "width": null
          }
        },
        "582d7a5c8a454b4b937ffc637723326c": {
          "model_module": "@jupyter-widgets/controls",
          "model_name": "DescriptionStyleModel",
          "model_module_version": "1.5.0",
          "state": {
            "_model_module": "@jupyter-widgets/controls",
            "_model_module_version": "1.5.0",
            "_model_name": "DescriptionStyleModel",
            "_view_count": null,
            "_view_module": "@jupyter-widgets/base",
            "_view_module_version": "1.2.0",
            "_view_name": "StyleView",
            "description_width": ""
          }
        },
        "a233b7d6ae924105b4641e01dad65e96": {
          "model_module": "@jupyter-widgets/base",
          "model_name": "LayoutModel",
          "model_module_version": "1.2.0",
          "state": {
            "_model_module": "@jupyter-widgets/base",
            "_model_module_version": "1.2.0",
            "_model_name": "LayoutModel",
            "_view_count": null,
            "_view_module": "@jupyter-widgets/base",
            "_view_module_version": "1.2.0",
            "_view_name": "LayoutView",
            "align_content": null,
            "align_items": null,
            "align_self": null,
            "border": null,
            "bottom": null,
            "display": null,
            "flex": null,
            "flex_flow": null,
            "grid_area": null,
            "grid_auto_columns": null,
            "grid_auto_flow": null,
            "grid_auto_rows": null,
            "grid_column": null,
            "grid_gap": null,
            "grid_row": null,
            "grid_template_areas": null,
            "grid_template_columns": null,
            "grid_template_rows": null,
            "height": null,
            "justify_content": null,
            "justify_items": null,
            "left": null,
            "margin": null,
            "max_height": null,
            "max_width": null,
            "min_height": null,
            "min_width": null,
            "object_fit": null,
            "object_position": null,
            "order": null,
            "overflow": null,
            "overflow_x": null,
            "overflow_y": null,
            "padding": null,
            "right": null,
            "top": null,
            "visibility": null,
            "width": null
          }
        },
        "693acadc4d294cfcb28ab6a0a57a1344": {
          "model_module": "@jupyter-widgets/controls",
          "model_name": "ProgressStyleModel",
          "model_module_version": "1.5.0",
          "state": {
            "_model_module": "@jupyter-widgets/controls",
            "_model_module_version": "1.5.0",
            "_model_name": "ProgressStyleModel",
            "_view_count": null,
            "_view_module": "@jupyter-widgets/base",
            "_view_module_version": "1.2.0",
            "_view_name": "StyleView",
            "bar_color": null,
            "description_width": ""
          }
        },
        "94d0d36ee25c44f2b566063827498a01": {
          "model_module": "@jupyter-widgets/base",
          "model_name": "LayoutModel",
          "model_module_version": "1.2.0",
          "state": {
            "_model_module": "@jupyter-widgets/base",
            "_model_module_version": "1.2.0",
            "_model_name": "LayoutModel",
            "_view_count": null,
            "_view_module": "@jupyter-widgets/base",
            "_view_module_version": "1.2.0",
            "_view_name": "LayoutView",
            "align_content": null,
            "align_items": null,
            "align_self": null,
            "border": null,
            "bottom": null,
            "display": null,
            "flex": null,
            "flex_flow": null,
            "grid_area": null,
            "grid_auto_columns": null,
            "grid_auto_flow": null,
            "grid_auto_rows": null,
            "grid_column": null,
            "grid_gap": null,
            "grid_row": null,
            "grid_template_areas": null,
            "grid_template_columns": null,
            "grid_template_rows": null,
            "height": null,
            "justify_content": null,
            "justify_items": null,
            "left": null,
            "margin": null,
            "max_height": null,
            "max_width": null,
            "min_height": null,
            "min_width": null,
            "object_fit": null,
            "object_position": null,
            "order": null,
            "overflow": null,
            "overflow_x": null,
            "overflow_y": null,
            "padding": null,
            "right": null,
            "top": null,
            "visibility": null,
            "width": null
          }
        },
        "af8f856072d545709328464ac532e349": {
          "model_module": "@jupyter-widgets/controls",
          "model_name": "DescriptionStyleModel",
          "model_module_version": "1.5.0",
          "state": {
            "_model_module": "@jupyter-widgets/controls",
            "_model_module_version": "1.5.0",
            "_model_name": "DescriptionStyleModel",
            "_view_count": null,
            "_view_module": "@jupyter-widgets/base",
            "_view_module_version": "1.2.0",
            "_view_name": "StyleView",
            "description_width": ""
          }
        },
        "6919a2f3113a43d28352d64f7f0aa6d8": {
          "model_module": "@jupyter-widgets/controls",
          "model_name": "HBoxModel",
          "model_module_version": "1.5.0",
          "state": {
            "_dom_classes": [],
            "_model_module": "@jupyter-widgets/controls",
            "_model_module_version": "1.5.0",
            "_model_name": "HBoxModel",
            "_view_count": null,
            "_view_module": "@jupyter-widgets/controls",
            "_view_module_version": "1.5.0",
            "_view_name": "HBoxView",
            "box_style": "",
            "children": [
              "IPY_MODEL_2127f51148f24108b45578b33b2ef852",
              "IPY_MODEL_b4df9c52f1224a4c8bc6f7a5413c2a54",
              "IPY_MODEL_9f8e53d0130c4313b7aa4e0b898b427f"
            ],
            "layout": "IPY_MODEL_5ef6176b731e46f6accc773158393e66"
          }
        },
        "2127f51148f24108b45578b33b2ef852": {
          "model_module": "@jupyter-widgets/controls",
          "model_name": "HTMLModel",
          "model_module_version": "1.5.0",
          "state": {
            "_dom_classes": [],
            "_model_module": "@jupyter-widgets/controls",
            "_model_module_version": "1.5.0",
            "_model_name": "HTMLModel",
            "_view_count": null,
            "_view_module": "@jupyter-widgets/controls",
            "_view_module_version": "1.5.0",
            "_view_name": "HTMLView",
            "description": "",
            "description_tooltip": null,
            "layout": "IPY_MODEL_1342be53a06243718ad63fdcbea2de99",
            "placeholder": "​",
            "style": "IPY_MODEL_be8ce1c180dc48e6b42607c2025c87bf",
            "value": "Downloading (…)lve/main/config.json: 100%"
          }
        },
        "b4df9c52f1224a4c8bc6f7a5413c2a54": {
          "model_module": "@jupyter-widgets/controls",
          "model_name": "FloatProgressModel",
          "model_module_version": "1.5.0",
          "state": {
            "_dom_classes": [],
            "_model_module": "@jupyter-widgets/controls",
            "_model_module_version": "1.5.0",
            "_model_name": "FloatProgressModel",
            "_view_count": null,
            "_view_module": "@jupyter-widgets/controls",
            "_view_module_version": "1.5.0",
            "_view_name": "ProgressView",
            "bar_style": "success",
            "description": "",
            "description_tooltip": null,
            "layout": "IPY_MODEL_5a08f93589e041f0b7d802333d333c69",
            "max": 718,
            "min": 0,
            "orientation": "horizontal",
            "style": "IPY_MODEL_85fc33b8ecba4ae9909e14f758cccaee",
            "value": 718
          }
        },
        "9f8e53d0130c4313b7aa4e0b898b427f": {
          "model_module": "@jupyter-widgets/controls",
          "model_name": "HTMLModel",
          "model_module_version": "1.5.0",
          "state": {
            "_dom_classes": [],
            "_model_module": "@jupyter-widgets/controls",
            "_model_module_version": "1.5.0",
            "_model_name": "HTMLModel",
            "_view_count": null,
            "_view_module": "@jupyter-widgets/controls",
            "_view_module_version": "1.5.0",
            "_view_name": "HTMLView",
            "description": "",
            "description_tooltip": null,
            "layout": "IPY_MODEL_fa25f52f73b242d29ce05a973f9313ce",
            "placeholder": "​",
            "style": "IPY_MODEL_fb0951039a8b4a32bba23410ca5bd097",
            "value": " 718/718 [00:00&lt;00:00, 55.1kB/s]"
          }
        },
        "5ef6176b731e46f6accc773158393e66": {
          "model_module": "@jupyter-widgets/base",
          "model_name": "LayoutModel",
          "model_module_version": "1.2.0",
          "state": {
            "_model_module": "@jupyter-widgets/base",
            "_model_module_version": "1.2.0",
            "_model_name": "LayoutModel",
            "_view_count": null,
            "_view_module": "@jupyter-widgets/base",
            "_view_module_version": "1.2.0",
            "_view_name": "LayoutView",
            "align_content": null,
            "align_items": null,
            "align_self": null,
            "border": null,
            "bottom": null,
            "display": null,
            "flex": null,
            "flex_flow": null,
            "grid_area": null,
            "grid_auto_columns": null,
            "grid_auto_flow": null,
            "grid_auto_rows": null,
            "grid_column": null,
            "grid_gap": null,
            "grid_row": null,
            "grid_template_areas": null,
            "grid_template_columns": null,
            "grid_template_rows": null,
            "height": null,
            "justify_content": null,
            "justify_items": null,
            "left": null,
            "margin": null,
            "max_height": null,
            "max_width": null,
            "min_height": null,
            "min_width": null,
            "object_fit": null,
            "object_position": null,
            "order": null,
            "overflow": null,
            "overflow_x": null,
            "overflow_y": null,
            "padding": null,
            "right": null,
            "top": null,
            "visibility": null,
            "width": null
          }
        },
        "1342be53a06243718ad63fdcbea2de99": {
          "model_module": "@jupyter-widgets/base",
          "model_name": "LayoutModel",
          "model_module_version": "1.2.0",
          "state": {
            "_model_module": "@jupyter-widgets/base",
            "_model_module_version": "1.2.0",
            "_model_name": "LayoutModel",
            "_view_count": null,
            "_view_module": "@jupyter-widgets/base",
            "_view_module_version": "1.2.0",
            "_view_name": "LayoutView",
            "align_content": null,
            "align_items": null,
            "align_self": null,
            "border": null,
            "bottom": null,
            "display": null,
            "flex": null,
            "flex_flow": null,
            "grid_area": null,
            "grid_auto_columns": null,
            "grid_auto_flow": null,
            "grid_auto_rows": null,
            "grid_column": null,
            "grid_gap": null,
            "grid_row": null,
            "grid_template_areas": null,
            "grid_template_columns": null,
            "grid_template_rows": null,
            "height": null,
            "justify_content": null,
            "justify_items": null,
            "left": null,
            "margin": null,
            "max_height": null,
            "max_width": null,
            "min_height": null,
            "min_width": null,
            "object_fit": null,
            "object_position": null,
            "order": null,
            "overflow": null,
            "overflow_x": null,
            "overflow_y": null,
            "padding": null,
            "right": null,
            "top": null,
            "visibility": null,
            "width": null
          }
        },
        "be8ce1c180dc48e6b42607c2025c87bf": {
          "model_module": "@jupyter-widgets/controls",
          "model_name": "DescriptionStyleModel",
          "model_module_version": "1.5.0",
          "state": {
            "_model_module": "@jupyter-widgets/controls",
            "_model_module_version": "1.5.0",
            "_model_name": "DescriptionStyleModel",
            "_view_count": null,
            "_view_module": "@jupyter-widgets/base",
            "_view_module_version": "1.2.0",
            "_view_name": "StyleView",
            "description_width": ""
          }
        },
        "5a08f93589e041f0b7d802333d333c69": {
          "model_module": "@jupyter-widgets/base",
          "model_name": "LayoutModel",
          "model_module_version": "1.2.0",
          "state": {
            "_model_module": "@jupyter-widgets/base",
            "_model_module_version": "1.2.0",
            "_model_name": "LayoutModel",
            "_view_count": null,
            "_view_module": "@jupyter-widgets/base",
            "_view_module_version": "1.2.0",
            "_view_name": "LayoutView",
            "align_content": null,
            "align_items": null,
            "align_self": null,
            "border": null,
            "bottom": null,
            "display": null,
            "flex": null,
            "flex_flow": null,
            "grid_area": null,
            "grid_auto_columns": null,
            "grid_auto_flow": null,
            "grid_auto_rows": null,
            "grid_column": null,
            "grid_gap": null,
            "grid_row": null,
            "grid_template_areas": null,
            "grid_template_columns": null,
            "grid_template_rows": null,
            "height": null,
            "justify_content": null,
            "justify_items": null,
            "left": null,
            "margin": null,
            "max_height": null,
            "max_width": null,
            "min_height": null,
            "min_width": null,
            "object_fit": null,
            "object_position": null,
            "order": null,
            "overflow": null,
            "overflow_x": null,
            "overflow_y": null,
            "padding": null,
            "right": null,
            "top": null,
            "visibility": null,
            "width": null
          }
        },
        "85fc33b8ecba4ae9909e14f758cccaee": {
          "model_module": "@jupyter-widgets/controls",
          "model_name": "ProgressStyleModel",
          "model_module_version": "1.5.0",
          "state": {
            "_model_module": "@jupyter-widgets/controls",
            "_model_module_version": "1.5.0",
            "_model_name": "ProgressStyleModel",
            "_view_count": null,
            "_view_module": "@jupyter-widgets/base",
            "_view_module_version": "1.2.0",
            "_view_name": "StyleView",
            "bar_color": null,
            "description_width": ""
          }
        },
        "fa25f52f73b242d29ce05a973f9313ce": {
          "model_module": "@jupyter-widgets/base",
          "model_name": "LayoutModel",
          "model_module_version": "1.2.0",
          "state": {
            "_model_module": "@jupyter-widgets/base",
            "_model_module_version": "1.2.0",
            "_model_name": "LayoutModel",
            "_view_count": null,
            "_view_module": "@jupyter-widgets/base",
            "_view_module_version": "1.2.0",
            "_view_name": "LayoutView",
            "align_content": null,
            "align_items": null,
            "align_self": null,
            "border": null,
            "bottom": null,
            "display": null,
            "flex": null,
            "flex_flow": null,
            "grid_area": null,
            "grid_auto_columns": null,
            "grid_auto_flow": null,
            "grid_auto_rows": null,
            "grid_column": null,
            "grid_gap": null,
            "grid_row": null,
            "grid_template_areas": null,
            "grid_template_columns": null,
            "grid_template_rows": null,
            "height": null,
            "justify_content": null,
            "justify_items": null,
            "left": null,
            "margin": null,
            "max_height": null,
            "max_width": null,
            "min_height": null,
            "min_width": null,
            "object_fit": null,
            "object_position": null,
            "order": null,
            "overflow": null,
            "overflow_x": null,
            "overflow_y": null,
            "padding": null,
            "right": null,
            "top": null,
            "visibility": null,
            "width": null
          }
        },
        "fb0951039a8b4a32bba23410ca5bd097": {
          "model_module": "@jupyter-widgets/controls",
          "model_name": "DescriptionStyleModel",
          "model_module_version": "1.5.0",
          "state": {
            "_model_module": "@jupyter-widgets/controls",
            "_model_module_version": "1.5.0",
            "_model_name": "DescriptionStyleModel",
            "_view_count": null,
            "_view_module": "@jupyter-widgets/base",
            "_view_module_version": "1.2.0",
            "_view_name": "StyleView",
            "description_width": ""
          }
        },
        "f58433e7c6544d43ae17957f81872d30": {
          "model_module": "@jupyter-widgets/controls",
          "model_name": "HBoxModel",
          "model_module_version": "1.5.0",
          "state": {
            "_dom_classes": [],
            "_model_module": "@jupyter-widgets/controls",
            "_model_module_version": "1.5.0",
            "_model_name": "HBoxModel",
            "_view_count": null,
            "_view_module": "@jupyter-widgets/controls",
            "_view_module_version": "1.5.0",
            "_view_name": "HBoxView",
            "box_style": "",
            "children": [
              "IPY_MODEL_ed12ed8b3ef9484e895229fdf236fdc5",
              "IPY_MODEL_f8826f9df3c5481394bee391d1358501",
              "IPY_MODEL_1a719ce16f6f46f5859cad9f8de356a8"
            ],
            "layout": "IPY_MODEL_72682e0216e848bfa591d0d7986d9760"
          }
        },
        "ed12ed8b3ef9484e895229fdf236fdc5": {
          "model_module": "@jupyter-widgets/controls",
          "model_name": "HTMLModel",
          "model_module_version": "1.5.0",
          "state": {
            "_dom_classes": [],
            "_model_module": "@jupyter-widgets/controls",
            "_model_module_version": "1.5.0",
            "_model_name": "HTMLModel",
            "_view_count": null,
            "_view_module": "@jupyter-widgets/controls",
            "_view_module_version": "1.5.0",
            "_view_name": "HTMLView",
            "description": "",
            "description_tooltip": null,
            "layout": "IPY_MODEL_8372bd7d567d4e679d5216c73f1c6d26",
            "placeholder": "​",
            "style": "IPY_MODEL_4834f5d8ac8347849fb780b542d2c678",
            "value": "Downloading model.safetensors: 100%"
          }
        },
        "f8826f9df3c5481394bee391d1358501": {
          "model_module": "@jupyter-widgets/controls",
          "model_name": "FloatProgressModel",
          "model_module_version": "1.5.0",
          "state": {
            "_dom_classes": [],
            "_model_module": "@jupyter-widgets/controls",
            "_model_module_version": "1.5.0",
            "_model_name": "FloatProgressModel",
            "_view_count": null,
            "_view_module": "@jupyter-widgets/controls",
            "_view_module_version": "1.5.0",
            "_view_name": "ProgressView",
            "bar_style": "success",
            "description": "",
            "description_tooltip": null,
            "layout": "IPY_MODEL_db433223f07d45a28876ce9f54645e79",
            "max": 1519984962,
            "min": 0,
            "orientation": "horizontal",
            "style": "IPY_MODEL_0bef402146154d7881a72ca9b9418efb",
            "value": 1519984962
          }
        },
        "1a719ce16f6f46f5859cad9f8de356a8": {
          "model_module": "@jupyter-widgets/controls",
          "model_name": "HTMLModel",
          "model_module_version": "1.5.0",
          "state": {
            "_dom_classes": [],
            "_model_module": "@jupyter-widgets/controls",
            "_model_module_version": "1.5.0",
            "_model_name": "HTMLModel",
            "_view_count": null,
            "_view_module": "@jupyter-widgets/controls",
            "_view_module_version": "1.5.0",
            "_view_name": "HTMLView",
            "description": "",
            "description_tooltip": null,
            "layout": "IPY_MODEL_9ce36ee0245e4b299a63d2a15e2ca1fa",
            "placeholder": "​",
            "style": "IPY_MODEL_d49cd99dc54e4bff9f2852980c8b974a",
            "value": " 1.52G/1.52G [00:08&lt;00:00, 162MB/s]"
          }
        },
        "72682e0216e848bfa591d0d7986d9760": {
          "model_module": "@jupyter-widgets/base",
          "model_name": "LayoutModel",
          "model_module_version": "1.2.0",
          "state": {
            "_model_module": "@jupyter-widgets/base",
            "_model_module_version": "1.2.0",
            "_model_name": "LayoutModel",
            "_view_count": null,
            "_view_module": "@jupyter-widgets/base",
            "_view_module_version": "1.2.0",
            "_view_name": "LayoutView",
            "align_content": null,
            "align_items": null,
            "align_self": null,
            "border": null,
            "bottom": null,
            "display": null,
            "flex": null,
            "flex_flow": null,
            "grid_area": null,
            "grid_auto_columns": null,
            "grid_auto_flow": null,
            "grid_auto_rows": null,
            "grid_column": null,
            "grid_gap": null,
            "grid_row": null,
            "grid_template_areas": null,
            "grid_template_columns": null,
            "grid_template_rows": null,
            "height": null,
            "justify_content": null,
            "justify_items": null,
            "left": null,
            "margin": null,
            "max_height": null,
            "max_width": null,
            "min_height": null,
            "min_width": null,
            "object_fit": null,
            "object_position": null,
            "order": null,
            "overflow": null,
            "overflow_x": null,
            "overflow_y": null,
            "padding": null,
            "right": null,
            "top": null,
            "visibility": null,
            "width": null
          }
        },
        "8372bd7d567d4e679d5216c73f1c6d26": {
          "model_module": "@jupyter-widgets/base",
          "model_name": "LayoutModel",
          "model_module_version": "1.2.0",
          "state": {
            "_model_module": "@jupyter-widgets/base",
            "_model_module_version": "1.2.0",
            "_model_name": "LayoutModel",
            "_view_count": null,
            "_view_module": "@jupyter-widgets/base",
            "_view_module_version": "1.2.0",
            "_view_name": "LayoutView",
            "align_content": null,
            "align_items": null,
            "align_self": null,
            "border": null,
            "bottom": null,
            "display": null,
            "flex": null,
            "flex_flow": null,
            "grid_area": null,
            "grid_auto_columns": null,
            "grid_auto_flow": null,
            "grid_auto_rows": null,
            "grid_column": null,
            "grid_gap": null,
            "grid_row": null,
            "grid_template_areas": null,
            "grid_template_columns": null,
            "grid_template_rows": null,
            "height": null,
            "justify_content": null,
            "justify_items": null,
            "left": null,
            "margin": null,
            "max_height": null,
            "max_width": null,
            "min_height": null,
            "min_width": null,
            "object_fit": null,
            "object_position": null,
            "order": null,
            "overflow": null,
            "overflow_x": null,
            "overflow_y": null,
            "padding": null,
            "right": null,
            "top": null,
            "visibility": null,
            "width": null
          }
        },
        "4834f5d8ac8347849fb780b542d2c678": {
          "model_module": "@jupyter-widgets/controls",
          "model_name": "DescriptionStyleModel",
          "model_module_version": "1.5.0",
          "state": {
            "_model_module": "@jupyter-widgets/controls",
            "_model_module_version": "1.5.0",
            "_model_name": "DescriptionStyleModel",
            "_view_count": null,
            "_view_module": "@jupyter-widgets/base",
            "_view_module_version": "1.2.0",
            "_view_name": "StyleView",
            "description_width": ""
          }
        },
        "db433223f07d45a28876ce9f54645e79": {
          "model_module": "@jupyter-widgets/base",
          "model_name": "LayoutModel",
          "model_module_version": "1.2.0",
          "state": {
            "_model_module": "@jupyter-widgets/base",
            "_model_module_version": "1.2.0",
            "_model_name": "LayoutModel",
            "_view_count": null,
            "_view_module": "@jupyter-widgets/base",
            "_view_module_version": "1.2.0",
            "_view_name": "LayoutView",
            "align_content": null,
            "align_items": null,
            "align_self": null,
            "border": null,
            "bottom": null,
            "display": null,
            "flex": null,
            "flex_flow": null,
            "grid_area": null,
            "grid_auto_columns": null,
            "grid_auto_flow": null,
            "grid_auto_rows": null,
            "grid_column": null,
            "grid_gap": null,
            "grid_row": null,
            "grid_template_areas": null,
            "grid_template_columns": null,
            "grid_template_rows": null,
            "height": null,
            "justify_content": null,
            "justify_items": null,
            "left": null,
            "margin": null,
            "max_height": null,
            "max_width": null,
            "min_height": null,
            "min_width": null,
            "object_fit": null,
            "object_position": null,
            "order": null,
            "overflow": null,
            "overflow_x": null,
            "overflow_y": null,
            "padding": null,
            "right": null,
            "top": null,
            "visibility": null,
            "width": null
          }
        },
        "0bef402146154d7881a72ca9b9418efb": {
          "model_module": "@jupyter-widgets/controls",
          "model_name": "ProgressStyleModel",
          "model_module_version": "1.5.0",
          "state": {
            "_model_module": "@jupyter-widgets/controls",
            "_model_module_version": "1.5.0",
            "_model_name": "ProgressStyleModel",
            "_view_count": null,
            "_view_module": "@jupyter-widgets/base",
            "_view_module_version": "1.2.0",
            "_view_name": "StyleView",
            "bar_color": null,
            "description_width": ""
          }
        },
        "9ce36ee0245e4b299a63d2a15e2ca1fa": {
          "model_module": "@jupyter-widgets/base",
          "model_name": "LayoutModel",
          "model_module_version": "1.2.0",
          "state": {
            "_model_module": "@jupyter-widgets/base",
            "_model_module_version": "1.2.0",
            "_model_name": "LayoutModel",
            "_view_count": null,
            "_view_module": "@jupyter-widgets/base",
            "_view_module_version": "1.2.0",
            "_view_name": "LayoutView",
            "align_content": null,
            "align_items": null,
            "align_self": null,
            "border": null,
            "bottom": null,
            "display": null,
            "flex": null,
            "flex_flow": null,
            "grid_area": null,
            "grid_auto_columns": null,
            "grid_auto_flow": null,
            "grid_auto_rows": null,
            "grid_column": null,
            "grid_gap": null,
            "grid_row": null,
            "grid_template_areas": null,
            "grid_template_columns": null,
            "grid_template_rows": null,
            "height": null,
            "justify_content": null,
            "justify_items": null,
            "left": null,
            "margin": null,
            "max_height": null,
            "max_width": null,
            "min_height": null,
            "min_width": null,
            "object_fit": null,
            "object_position": null,
            "order": null,
            "overflow": null,
            "overflow_x": null,
            "overflow_y": null,
            "padding": null,
            "right": null,
            "top": null,
            "visibility": null,
            "width": null
          }
        },
        "d49cd99dc54e4bff9f2852980c8b974a": {
          "model_module": "@jupyter-widgets/controls",
          "model_name": "DescriptionStyleModel",
          "model_module_version": "1.5.0",
          "state": {
            "_model_module": "@jupyter-widgets/controls",
            "_model_module_version": "1.5.0",
            "_model_name": "DescriptionStyleModel",
            "_view_count": null,
            "_view_module": "@jupyter-widgets/base",
            "_view_module_version": "1.2.0",
            "_view_name": "StyleView",
            "description_width": ""
          }
        },
        "8eb156db8ff24105a02993939e748685": {
          "model_module": "@jupyter-widgets/controls",
          "model_name": "HBoxModel",
          "model_module_version": "1.5.0",
          "state": {
            "_dom_classes": [],
            "_model_module": "@jupyter-widgets/controls",
            "_model_module_version": "1.5.0",
            "_model_name": "HBoxModel",
            "_view_count": null,
            "_view_module": "@jupyter-widgets/controls",
            "_view_module_version": "1.5.0",
            "_view_name": "HBoxView",
            "box_style": "",
            "children": [
              "IPY_MODEL_a3b16d730cb64171aab63573968ff180",
              "IPY_MODEL_74e45d23ddb441bb9186647af554e03f",
              "IPY_MODEL_88eddcfb13304625b4b2c73e7e09a3f6"
            ],
            "layout": "IPY_MODEL_eb667cd928c943ee8bb7f1829717c9c4"
          }
        },
        "a3b16d730cb64171aab63573968ff180": {
          "model_module": "@jupyter-widgets/controls",
          "model_name": "HTMLModel",
          "model_module_version": "1.5.0",
          "state": {
            "_dom_classes": [],
            "_model_module": "@jupyter-widgets/controls",
            "_model_module_version": "1.5.0",
            "_model_name": "HTMLModel",
            "_view_count": null,
            "_view_module": "@jupyter-widgets/controls",
            "_view_module_version": "1.5.0",
            "_view_name": "HTMLView",
            "description": "",
            "description_tooltip": null,
            "layout": "IPY_MODEL_474f519594334cb59c97af2a3ca72acd",
            "placeholder": "​",
            "style": "IPY_MODEL_f55ce2bf17ad4042a67077fd252532a8",
            "value": "Downloading (…)neration_config.json: 100%"
          }
        },
        "74e45d23ddb441bb9186647af554e03f": {
          "model_module": "@jupyter-widgets/controls",
          "model_name": "FloatProgressModel",
          "model_module_version": "1.5.0",
          "state": {
            "_dom_classes": [],
            "_model_module": "@jupyter-widgets/controls",
            "_model_module_version": "1.5.0",
            "_model_name": "FloatProgressModel",
            "_view_count": null,
            "_view_module": "@jupyter-widgets/controls",
            "_view_module_version": "1.5.0",
            "_view_name": "ProgressView",
            "bar_style": "success",
            "description": "",
            "description_tooltip": null,
            "layout": "IPY_MODEL_ac2c1536c2764edf9085e1bc6988b9c4",
            "max": 124,
            "min": 0,
            "orientation": "horizontal",
            "style": "IPY_MODEL_589353233bfa4e18b13390c316ed10a4",
            "value": 124
          }
        },
        "88eddcfb13304625b4b2c73e7e09a3f6": {
          "model_module": "@jupyter-widgets/controls",
          "model_name": "HTMLModel",
          "model_module_version": "1.5.0",
          "state": {
            "_dom_classes": [],
            "_model_module": "@jupyter-widgets/controls",
            "_model_module_version": "1.5.0",
            "_model_name": "HTMLModel",
            "_view_count": null,
            "_view_module": "@jupyter-widgets/controls",
            "_view_module_version": "1.5.0",
            "_view_name": "HTMLView",
            "description": "",
            "description_tooltip": null,
            "layout": "IPY_MODEL_c6a66e061c094979b211983bdc7ca3bd",
            "placeholder": "​",
            "style": "IPY_MODEL_14d9da0498c44511b988aded972a64e6",
            "value": " 124/124 [00:00&lt;00:00, 6.12kB/s]"
          }
        },
        "eb667cd928c943ee8bb7f1829717c9c4": {
          "model_module": "@jupyter-widgets/base",
          "model_name": "LayoutModel",
          "model_module_version": "1.2.0",
          "state": {
            "_model_module": "@jupyter-widgets/base",
            "_model_module_version": "1.2.0",
            "_model_name": "LayoutModel",
            "_view_count": null,
            "_view_module": "@jupyter-widgets/base",
            "_view_module_version": "1.2.0",
            "_view_name": "LayoutView",
            "align_content": null,
            "align_items": null,
            "align_self": null,
            "border": null,
            "bottom": null,
            "display": null,
            "flex": null,
            "flex_flow": null,
            "grid_area": null,
            "grid_auto_columns": null,
            "grid_auto_flow": null,
            "grid_auto_rows": null,
            "grid_column": null,
            "grid_gap": null,
            "grid_row": null,
            "grid_template_areas": null,
            "grid_template_columns": null,
            "grid_template_rows": null,
            "height": null,
            "justify_content": null,
            "justify_items": null,
            "left": null,
            "margin": null,
            "max_height": null,
            "max_width": null,
            "min_height": null,
            "min_width": null,
            "object_fit": null,
            "object_position": null,
            "order": null,
            "overflow": null,
            "overflow_x": null,
            "overflow_y": null,
            "padding": null,
            "right": null,
            "top": null,
            "visibility": null,
            "width": null
          }
        },
        "474f519594334cb59c97af2a3ca72acd": {
          "model_module": "@jupyter-widgets/base",
          "model_name": "LayoutModel",
          "model_module_version": "1.2.0",
          "state": {
            "_model_module": "@jupyter-widgets/base",
            "_model_module_version": "1.2.0",
            "_model_name": "LayoutModel",
            "_view_count": null,
            "_view_module": "@jupyter-widgets/base",
            "_view_module_version": "1.2.0",
            "_view_name": "LayoutView",
            "align_content": null,
            "align_items": null,
            "align_self": null,
            "border": null,
            "bottom": null,
            "display": null,
            "flex": null,
            "flex_flow": null,
            "grid_area": null,
            "grid_auto_columns": null,
            "grid_auto_flow": null,
            "grid_auto_rows": null,
            "grid_column": null,
            "grid_gap": null,
            "grid_row": null,
            "grid_template_areas": null,
            "grid_template_columns": null,
            "grid_template_rows": null,
            "height": null,
            "justify_content": null,
            "justify_items": null,
            "left": null,
            "margin": null,
            "max_height": null,
            "max_width": null,
            "min_height": null,
            "min_width": null,
            "object_fit": null,
            "object_position": null,
            "order": null,
            "overflow": null,
            "overflow_x": null,
            "overflow_y": null,
            "padding": null,
            "right": null,
            "top": null,
            "visibility": null,
            "width": null
          }
        },
        "f55ce2bf17ad4042a67077fd252532a8": {
          "model_module": "@jupyter-widgets/controls",
          "model_name": "DescriptionStyleModel",
          "model_module_version": "1.5.0",
          "state": {
            "_model_module": "@jupyter-widgets/controls",
            "_model_module_version": "1.5.0",
            "_model_name": "DescriptionStyleModel",
            "_view_count": null,
            "_view_module": "@jupyter-widgets/base",
            "_view_module_version": "1.2.0",
            "_view_name": "StyleView",
            "description_width": ""
          }
        },
        "ac2c1536c2764edf9085e1bc6988b9c4": {
          "model_module": "@jupyter-widgets/base",
          "model_name": "LayoutModel",
          "model_module_version": "1.2.0",
          "state": {
            "_model_module": "@jupyter-widgets/base",
            "_model_module_version": "1.2.0",
            "_model_name": "LayoutModel",
            "_view_count": null,
            "_view_module": "@jupyter-widgets/base",
            "_view_module_version": "1.2.0",
            "_view_name": "LayoutView",
            "align_content": null,
            "align_items": null,
            "align_self": null,
            "border": null,
            "bottom": null,
            "display": null,
            "flex": null,
            "flex_flow": null,
            "grid_area": null,
            "grid_auto_columns": null,
            "grid_auto_flow": null,
            "grid_auto_rows": null,
            "grid_column": null,
            "grid_gap": null,
            "grid_row": null,
            "grid_template_areas": null,
            "grid_template_columns": null,
            "grid_template_rows": null,
            "height": null,
            "justify_content": null,
            "justify_items": null,
            "left": null,
            "margin": null,
            "max_height": null,
            "max_width": null,
            "min_height": null,
            "min_width": null,
            "object_fit": null,
            "object_position": null,
            "order": null,
            "overflow": null,
            "overflow_x": null,
            "overflow_y": null,
            "padding": null,
            "right": null,
            "top": null,
            "visibility": null,
            "width": null
          }
        },
        "589353233bfa4e18b13390c316ed10a4": {
          "model_module": "@jupyter-widgets/controls",
          "model_name": "ProgressStyleModel",
          "model_module_version": "1.5.0",
          "state": {
            "_model_module": "@jupyter-widgets/controls",
            "_model_module_version": "1.5.0",
            "_model_name": "ProgressStyleModel",
            "_view_count": null,
            "_view_module": "@jupyter-widgets/base",
            "_view_module_version": "1.2.0",
            "_view_name": "StyleView",
            "bar_color": null,
            "description_width": ""
          }
        },
        "c6a66e061c094979b211983bdc7ca3bd": {
          "model_module": "@jupyter-widgets/base",
          "model_name": "LayoutModel",
          "model_module_version": "1.2.0",
          "state": {
            "_model_module": "@jupyter-widgets/base",
            "_model_module_version": "1.2.0",
            "_model_name": "LayoutModel",
            "_view_count": null,
            "_view_module": "@jupyter-widgets/base",
            "_view_module_version": "1.2.0",
            "_view_name": "LayoutView",
            "align_content": null,
            "align_items": null,
            "align_self": null,
            "border": null,
            "bottom": null,
            "display": null,
            "flex": null,
            "flex_flow": null,
            "grid_area": null,
            "grid_auto_columns": null,
            "grid_auto_flow": null,
            "grid_auto_rows": null,
            "grid_column": null,
            "grid_gap": null,
            "grid_row": null,
            "grid_template_areas": null,
            "grid_template_columns": null,
            "grid_template_rows": null,
            "height": null,
            "justify_content": null,
            "justify_items": null,
            "left": null,
            "margin": null,
            "max_height": null,
            "max_width": null,
            "min_height": null,
            "min_width": null,
            "object_fit": null,
            "object_position": null,
            "order": null,
            "overflow": null,
            "overflow_x": null,
            "overflow_y": null,
            "padding": null,
            "right": null,
            "top": null,
            "visibility": null,
            "width": null
          }
        },
        "14d9da0498c44511b988aded972a64e6": {
          "model_module": "@jupyter-widgets/controls",
          "model_name": "DescriptionStyleModel",
          "model_module_version": "1.5.0",
          "state": {
            "_model_module": "@jupyter-widgets/controls",
            "_model_module_version": "1.5.0",
            "_model_name": "DescriptionStyleModel",
            "_view_count": null,
            "_view_module": "@jupyter-widgets/base",
            "_view_module_version": "1.2.0",
            "_view_name": "StyleView",
            "description_width": ""
          }
        }
      }
    }
  },
  "nbformat": 4,
  "nbformat_minor": 0
}